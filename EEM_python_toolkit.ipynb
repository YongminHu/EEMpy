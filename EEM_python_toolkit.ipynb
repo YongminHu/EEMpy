{
 "cells": [
  {
   "cell_type": "markdown",
   "metadata": {},
   "source": [
    "# Python toolkit for fluorescence data processing\n",
    "\n",
    "Author: Yongmin Hu (yongmin.hu@eawag.ch)\n",
    "\n",
    "Last update: 2022-02-13\n",
    "\n",
    "Before running the toolkit, please go through checklist_fluorescence_python_toolkit.doc.\n",
    "\n",
    "If you change the input in any of the code blocks, please re-run all blocks after."
   ]
  },
  {
   "cell_type": "markdown",
   "metadata": {},
   "source": [
    "# 0. Import packages"
   ]
  },
  {
   "cell_type": "code",
   "execution_count": 1,
   "metadata": {},
   "outputs": [],
   "source": [
    "import matplotlib\n",
    "import os\n",
    "import numpy as np\n",
    "import matplotlib.pyplot as plt\n",
    "import re\n",
    "\n",
    "from datetime import datetime, timedelta, date\n",
    "from EEMprocessing import *\n",
    "from generate_widgets import *\n",
    "from ipywidgets import interact, interactive, interact_manual\n",
    "from ipywidgets import Layout, Button, Dropdown, Label, FloatText, Text, IntSlider, Checkbox, Box\n",
    "from IPython.display import display, clear_output\n",
    "from traitlets import traitlets\n",
    "\n",
    "\n",
    "matplotlib.rcParams['figure.dpi'] = 80\n"
   ]
  },
  {
   "cell_type": "markdown",
   "metadata": {},
   "source": [
    "-------------------------------------------\n",
    "# 1. Specify data directory and filename format"
   ]
  },
  {
   "cell_type": "code",
   "execution_count": 2,
   "metadata": {
    "scrolled": false
   },
   "outputs": [
    {
     "data": {
      "application/vnd.jupyter.widget-view+json": {
       "model_id": "c618f37a65364c6aa9e7a24dcc08638f",
       "version_major": 2,
       "version_minor": 0
      },
      "text/plain": [
       "Box(children=(VBox(children=(Label(value='Pleae specify the directory of fluorescence data in the text box bel…"
      ]
     },
     "metadata": {},
     "output_type": "display_data"
    }
   ],
   "source": [
    "# read all filenames in the target directory\n",
    "filedir_default = '_data/_greywater/20220111_RT' # Just the default, could be changed\n",
    "\n",
    "Part1_widgets = Widgets1(filedir_default)\n",
    "data_selection = Part1_widgets.generate_widgets()\n",
    "display(data_selection)\n"
   ]
  },
  {
   "cell_type": "markdown",
   "metadata": {
    "hide_input": true
   },
   "source": [
    "-----------------------------------------\n",
    "# 2. Data preview and parameter selection"
   ]
  },
  {
   "cell_type": "code",
   "execution_count": 3,
   "metadata": {
    "scrolled": false
   },
   "outputs": [
    {
     "data": {
      "application/vnd.jupyter.widget-view+json": {
       "model_id": "58557fa050ca4add83255abbf19ee029",
       "version_major": 2,
       "version_minor": 0
      },
      "text/plain": [
       "Tab(children=(Box(children=(Box(children=(Dropdown(description='Filename', layout=Layout(width='max-content'),…"
      ]
     },
     "metadata": {},
     "output_type": "display_data"
    },
    {
     "data": {
      "application/vnd.jupyter.widget-view+json": {
       "model_id": "2ab301e3ef7c4be39468e96ba2c55e95",
       "version_major": 2,
       "version_minor": 0
      },
      "text/plain": [
       "VBox(children=(Label(value=\"If you see blank space in the short excitation wavelength region,        it's like…"
      ]
     },
     "metadata": {},
     "output_type": "display_data"
    },
    {
     "data": {
      "application/vnd.jupyter.widget-view+json": {
       "model_id": "1ce090aa572a4536acdcc5a267e1a993",
       "version_major": 2,
       "version_minor": 0
      },
      "text/plain": [
       "Output()"
      ]
     },
     "metadata": {},
     "output_type": "display_data"
    }
   ],
   "source": [
    "# Visualization with interaction\n",
    "datdir = Part1_widgets.dir_selection.value\n",
    "filelist = os.listdir(datdir)\n",
    "datlist = [file for file in filelist if 'PEM.dat' in file]\n",
    "data_index = []\n",
    "if Part1_widgets.ts_read_from_filename.value:\n",
    "    tslist = [get_TS_from_filename(file, ts_format=Part1_widgets.ts_format.value, \n",
    "                                   ts_start_position=Part1_widgets.ts_start_position.value-1,\n",
    "                                   ts_end_position=Part1_widgets.ts_end_position.value) for file in datlist]\n",
    "    tslist_sortidx = np.argsort(tslist)\n",
    "    tslist_sorted = [tslist[i] for i in tslist_sortidx]\n",
    "    datlist = [datlist[i] for i in tslist_sortidx]\n",
    "else:\n",
    "    data_index = [file[:-4] for file in datlist]\n",
    "    \n",
    "# --------------Create widgets for plotting parameters-------------\n",
    "\n",
    "intensity_range = (0,18000,100) # (min, max, step）\n",
    "em_range = (250,600,10)\n",
    "ex_range = (250,500,10)\n",
    "\n",
    "ts_format = Part1_widgets.ts_format.value\n",
    "ts_start_position = Part1_widgets.ts_start_position.value\n",
    "ts_end_position = Part1_widgets.ts_end_position.value\n",
    "\n",
    "Part2and3_widgets = Widgets2and3(intensity_range, em_range, ex_range, datdir, datlist, ts_format, ts_start_position,\n",
    "                 ts_end_position)\n",
    "tab2, note_step2, out_parameters = Part2and3_widgets.generate_widgets()\n",
    "\n",
    "display(tab2, note_step2, out_parameters)\n"
   ]
  },
  {
   "cell_type": "markdown",
   "metadata": {},
   "source": [
    "----------------------------------------------------\n",
    "# 3. Stack data\n",
    "\n",
    "For further analysis, the parameters would be set according to the settings in the above interface!\n",
    "\n",
    "PLEASE CHECK THE SETTINGS before going-on!\n"
   ]
  },
  {
   "cell_type": "code",
   "execution_count": 4,
   "metadata": {},
   "outputs": [
    {
     "data": {
      "application/vnd.jupyter.widget-view+json": {
       "model_id": "ee926bfb70294cf7b864b2af9eca3778",
       "version_major": 2,
       "version_minor": 0
      },
      "text/plain": [
       "Label(value='The stack includes all fluorescence data whose filename contains the specified keyword.')"
      ]
     },
     "metadata": {},
     "output_type": "display_data"
    },
    {
     "data": {
      "application/vnd.jupyter.widget-view+json": {
       "model_id": "e7e41deaa8db43f380cf546ba7b85dea",
       "version_major": 2,
       "version_minor": 0
      },
      "text/plain": [
       "interactive(children=(Text(value='PEM.dat', description='Filename searching keyword: ', style=DescriptionStyle…"
      ]
     },
     "metadata": {},
     "output_type": "display_data"
    }
   ],
   "source": [
    "#-------------------------Stack data------------------------------\n",
    "stacking_interact = Part2and3_widgets.generate_widgets2()\n",
    "caption = ipywidgets.Label(value='The stack includes all fluorescence data whose filename contains the specified keyword.')\n",
    "display(caption, stacking_interact)"
   ]
  },
  {
   "cell_type": "markdown",
   "metadata": {},
   "source": [
    "------------------------------------------\n",
    "# 4. Remove unwanted data from the data stack\n",
    "\n",
    "Please run the code block even if you don't want to do any operation here."
   ]
  },
  {
   "cell_type": "code",
   "execution_count": 6,
   "metadata": {
    "scrolled": false
   },
   "outputs": [
    {
     "data": {
      "application/vnd.jupyter.widget-view+json": {
       "model_id": "76ca14f12a624c979508d139bb043eeb",
       "version_major": 2,
       "version_minor": 0
      },
      "text/plain": [
       "Label(value='This block is used to remove specific data from the data stack. Please select the data you want t…"
      ]
     },
     "metadata": {},
     "output_type": "display_data"
    },
    {
     "data": {
      "application/vnd.jupyter.widget-view+json": {
       "model_id": "523cbb5f4fa649d9bbe059635e3b1000",
       "version_major": 2,
       "version_minor": 0
      },
      "text/plain": [
       "Tab(children=(Box(children=(Box(children=(Output(),), layout=Layout(display='flex', flex_flow='row', justify_c…"
      ]
     },
     "metadata": {},
     "output_type": "display_data"
    },
    {
     "data": {
      "application/vnd.jupyter.widget-view+json": {
       "model_id": "3b8b902666744efe8a0c6d0f902e1df6",
       "version_major": 2,
       "version_minor": 0
      },
      "text/plain": [
       "Label(value=\"To reset the data stack to its original state: re-run the block. If you don't want to make any ch…"
      ]
     },
     "metadata": {},
     "output_type": "display_data"
    },
    {
     "name": "stdout",
     "output_type": "stream",
     "text": [
      "overview of artefacts detected\n"
     ]
    },
    {
     "data": {
      "image/png": "[encoded data removed]",
      "text/plain": [
       "<Figure size 1200x720 with 8 Axes>"
      ]
     },
     "metadata": {
      "needs_background": "light"
     },
     "output_type": "display_data"
    },
    {
     "name": "stdout",
     "output_type": "stream",
     "text": [
      "\"2022-01-13-11-12-06-B1C1S1M3R0PEM.dat\" has been removed\n",
      "\"2022-01-13-17-36-35-B1C2S1M3R0PEM.dat\" has been removed\n",
      "\"2022-01-13-19-33-02-B1C1S1M3R0PEM.dat\" has been removed\n",
      "\"2022-01-13-20-00-16-B1C2S1M3R0PEM.dat\" has been removed\n",
      "\"2022-01-13-20-27-30-B1C3S1M3R0PEM.dat\" has been removed\n",
      "\"2022-01-13-20-54-44-B1C4S1M3R0PEM.dat\" has been removed\n",
      "\"2022-01-17-18-31-25-B1C1S1M3R0PEM.dat\" has been removed\n",
      "\"2022-01-20-12-03-33-B1C1S1M3R0PEM.dat\" has been removed\n"
     ]
    }
   ],
   "source": [
    "#------------------Remove specific data from the data stack-----------------\n",
    "\n",
    "eem_stack_all, em_range_cw, ex_range_cw, datlist_all = stacking_interact.result\n",
    "\n",
    "Part4_widgets = Widgets4(eem_stack_all, datlist_all, em_range_cw, ex_range_cw, Part2and3_widgets.preview_parameter_dict)\n",
    "\n",
    "manual_cleaning = Part4_widgets.generate_widgets_1()\n",
    "\n",
    "# auto cleaning\n",
    "auto_cleaning = Part4_widgets.generate_widgets_2()\n",
    "\n",
    "\n",
    "tab4 = ipywidgets.Tab()\n",
    "tab4.children = [manual_cleaning, auto_cleaning]\n",
    "tab4.set_title(0, 'Manual cleaning')\n",
    "tab4.set_title(1, 'Auto cleaning')\n",
    "\n",
    "\n",
    "caption = ipywidgets.Label(\n",
    "    'This block is used to remove specific data from the data stack. Please select the data you want to remove:')\n",
    "caption2 = ipywidgets.Label(\n",
    "    \"To reset the data stack to its original state: re-run the block. If you don't want to make any changes here,\"\n",
    "    \" please skip.\")\n",
    "\n",
    "display(caption, tab4, caption2)\n"
   ]
  },
  {
   "cell_type": "markdown",
   "metadata": {},
   "source": [
    "-------------------------------------\n",
    "# 5. Data stack analysis"
   ]
  },
  {
   "cell_type": "code",
   "execution_count": 21,
   "metadata": {
    "scrolled": false
   },
   "outputs": [
    {
     "data": {
      "application/vnd.jupyter.widget-view+json": {
       "model_id": "31dbc68dff0a49d5b2bf41a5b07646b7",
       "version_major": 2,
       "version_minor": 0
      },
      "text/plain": [
       "Output()"
      ]
     },
     "metadata": {},
     "output_type": "display_data"
    },
    {
     "data": {
      "application/vnd.jupyter.widget-view+json": {
       "model_id": "61ebe0b7ba224d9f95c8d0bb5d99e8a5",
       "version_major": 2,
       "version_minor": 0
      },
      "text/plain": [
       "Tab(children=(Box(children=(Box(children=(Label(value='Select the range of data for further analysis'),)), Box…"
      ]
     },
     "metadata": {},
     "output_type": "display_data"
    }
   ],
   "source": [
    "%matplotlib inline\n",
    "#--------------------Data stack analysis---------------\n",
    "pd.set_option('display.max_rows', None)\n",
    "datlist_filtered = Part4_widgets.datlist_filtered\n",
    "idx2remove = Part4_widgets.idx2remove\n",
    "\n",
    "# Are there any changes in the last step?\n",
    "data_index_cw = []\n",
    "\n",
    "if datlist_filtered==datlist_all:\n",
    "    datlist_cw = datlist_all[:]\n",
    "    eem_stack_cw = eem_stack_all[:,:,:]\n",
    "else:\n",
    "    datlist_cw = datlist_filtered[:]\n",
    "    eem_stack_cw = np.delete(eem_stack_all, idx2remove, 0)\n",
    "    \n",
    "if Part1_widgets.ts_read_from_filename.value:\n",
    "    timestamps_cw = [get_TS_from_filename(dat, Part1_widgets.ts_format.value, \n",
    "                                          Part1_widgets.ts_start_position.value-1, \n",
    "                                          Part1_widgets.ts_end_position.value)\n",
    "                for dat in datlist_cw ]\n",
    "    timestamps_cw_sortidx = np.argsort(timestamps_cw)\n",
    "    timestamps_cw = [timestamps_cw[i] for i in timestamps_cw_sortidx]\n",
    "    datlist_cw = [datlist_cw[i] for i in timestamps_cw_sortidx]\n",
    "    eem_stack_cw = eem_stack_cw[timestamps_cw_sortidx]\n",
    "else:\n",
    "    data_index_cw = [file[:-4] for file in datlist_cw]\n",
    "    timestamps_cw = False\n",
    "\n",
    "#---------------Create widgets------------------------\n",
    "#----------------General widgets------------\n",
    "out = ipywidgets.Output()\n",
    "display(out)\n",
    "\n",
    "button_clear_display=ipywidgets.Button(description='Clear display')\n",
    "def clear_display_with_button(b):\n",
    "    clear_output()\n",
    "    display(tab)\n",
    "button_clear_display.on_click(clear_display_with_button)\n",
    "\n",
    "#-------Tab1: File range selection----------\n",
    "\n",
    "Part51_widgets = Widgets51(datlist_cw)\n",
    "data_range_items, range1, range2 = Part51_widgets.generate_widgets()\n",
    "\n",
    "data_range = Box(data_range_items,\n",
    "                 layout=Layout(display='flex', flex_flow='column', border='none', align_items='stretch', width='80%'))\n",
    "\n",
    "\n",
    "#-------Tab2: Pixel statistics------------------\n",
    "\n",
    "Part52_widgets = Widgets52(eem_stack_cw, datlist_cw, range1, range2, em_range_cw, ex_range_cw, timestamps_cw)\n",
    "pixel_statistics_items = Part52_widgets.generate_widgets()\n",
    "\n",
    "pixel_statistics_items.append(ipywidgets.Box([button_clear_display]))\n",
    "pixel_statistics = Box(pixel_statistics_items, \n",
    "                       layout=Layout(display='flex',flex_flow='column',border='none',align_items='stretch',width='100%'))\n",
    "\n",
    "#-------Tab3: EEM statistics---------\n",
    "\n",
    "Part53_widgets = Widgets53(eem_stack_cw, datlist_cw, range1, range2, em_range_cw, ex_range_cw, timestamps_cw, \n",
    "                           Part2and3_widgets.crange_cw)\n",
    "eem_statistics_items = Part53_widgets.generate_widgets()\n",
    "\n",
    "eem_statistics_items.append(ipywidgets.Box([button_clear_display]))\n",
    "\n",
    "eem_statistics = Box(eem_statistics_items, \n",
    "                     layout=Layout(display='flex',flex_flow='column',border='none',align_items='stretch',width='100%'))\n",
    "\n",
    "#-------Tab4: Region integration------------\n",
    "\n",
    "# region_integration_items = [\n",
    "#     ipywidgets.Box([Label(value='Under construction')]),\n",
    "#     ipywidgets.Box([button_clear_display], layout=form_item_layout),\n",
    "# ]\n",
    "\n",
    "# region_integration = Box(region_integration_items, \n",
    "#                          layout=Layout(display='flex',flex_flow='column',border='none',align_items='stretch',width='60%'))\n",
    "\n",
    "Part54_widgets = Widgets54(eem_stack_cw, datlist_cw, range1, range2, em_range_cw, ex_range_cw, timestamps_cw)\n",
    "\n",
    "integration_items = Part54_widgets.generate_widgets()\n",
    "integration_items.append(ipywidgets.Box([button_clear_display]))\n",
    "region_integration = Box(integration_items, \n",
    "                         layout=Layout(display='flex',flex_flow='column',border='none',align_items='stretch',width='60%'))\n",
    "\n",
    "\n",
    "#-------Tab5: PARAFAC----------\n",
    "\n",
    "parameter_selection = ipywidgets.Label(value='Parameter selection')\n",
    "\n",
    "Part55_widgets = Widgets55(data_index, data_index_cw, timestamps_cw, eem_stack_cw, datlist_cw, range1, \n",
    "                         range2, em_range_cw, ex_range_cw)\n",
    "\n",
    "decomposition_items = Part55_widgets.generate_widgets()\n",
    "\n",
    "decomposition = Box(decomposition_items, \n",
    "                    layout=Layout(display='flex',flex_flow='column',border='none',align_items='stretch',width='100%'))\n",
    "\n",
    "Part56_widgets = Widgets56(Part55_widgets.decomposition_method_list, Part55_widgets.rank_display, Part2and3_widgets.crange_cw, \n",
    "                           data_index, data_index_cw, timestamps_cw, eem_stack_cw, datlist_cw, range1, \n",
    "                           range2, em_range_cw, ex_range_cw)\n",
    "\n",
    "decomposition_reconstruction_items = Part56_widgets.generate_widgets()\n",
    "decomposition_reconstruction_items.append(ipywidgets.Box([button_clear_display]))\n",
    "\n",
    "decomposition_reconstruction = Box(decomposition_reconstruction_items, \n",
    "                                   layout=Layout(display='flex',flex_flow='column',border='none',align_items='stretch',width='80%'))\n",
    "\n",
    "split_validation = ipywidgets.Label(value='Split_validation')\n",
    "\n",
    "tab_parafac = ipywidgets.Tab()\n",
    "tab_parafac.children = [parameter_selection, decomposit ion, decomposition_reconstruction, split_validation]\n",
    "tab_parafac.set_title(0, 'Parameter selection')\n",
    "tab_parafac.set_title(1, 'Decomposition')\n",
    "tab_parafac.set_title(2, 'Reconstruction error')\n",
    "tab_parafac.set_title(3, 'Split validation')\n",
    "\n",
    "\n",
    "# -----------------Assembly tabs-------------------\n",
    "\n",
    "tab = ipywidgets.Tab() \n",
    "tab.children=[data_range, pixel_statistics, eem_statistics, region_integration, tab_parafac]\n",
    "\n",
    "tab.set_title(0, '1. Data range selection')\n",
    "tab.set_title(1, '2. Pixel statistics')\n",
    "tab.set_title(2, '3. EEM statistics')\n",
    "tab.set_title(3, '4. Region integraion')\n",
    "tab.set_title(4, '5. PARAFAC')\n",
    "tab.set_title(5, '6. PARAFAC reconstruction')\n",
    "display(tab)"
   ]
  },
  {
   "cell_type": "markdown",
   "metadata": {},
   "source": [
    "# 6. Save PARAFAC result"
   ]
  },
  {
   "cell_type": "code",
   "execution_count": 36,
   "metadata": {},
   "outputs": [
    {
     "data": {
      "application/vnd.jupyter.widget-view+json": {
       "model_id": "cd27167d4bc04ed19389e6fe4eb9995b",
       "version_major": 2,
       "version_minor": 0
      },
      "text/plain": [
       "Box(children=(Box(children=(Label(value='Mandatory fields are marked with *'),)), Box(children=(Text(value='_d…"
      ]
     },
     "metadata": {},
     "output_type": "display_data"
    }
   ],
   "source": [
    "score_df, ex_df, em_df = Part55_widgets.button_decomposition_interact.result\n",
    "Part6_widgets = Widgets6(score_df, ex_df, em_df, Part1_widgets.dir_selection.value, Part2and3_widgets.inner_filter_effect, \n",
    "                         Part2and3_widgets.scattering_correction, Part2and3_widgets.gaussian_smoothing, \n",
    "                         Part55_widgets.decomposition_method_list, Part55_widgets.dataset_normalization)\n",
    "output_items = Part6_widgets.generate_widgets()\n",
    "decomposition_output = Box(output_items, layout=Layout(\n",
    "    display='flex',\n",
    "    flex_flow='column',\n",
    "    border='none',\n",
    "    align_items='stretch',\n",
    "    width='80%'\n",
    "))\n",
    "display(decomposition_output)"
   ]
  },
  {
   "cell_type": "markdown",
   "metadata": {},
   "source": [
    "# Test"
   ]
  },
  {
   "cell_type": "code",
   "execution_count": 16,
   "metadata": {},
   "outputs": [
    {
     "data": {
      "application/vnd.jupyter.widget-view+json": {
       "model_id": "2fc92d02d1c84c48942137f71171101c",
       "version_major": 2,
       "version_minor": 0
      },
      "text/plain": [
       "Tab(children=(Label(value='test'), Tab(children=(Label(value='test'),))))"
      ]
     },
     "metadata": {},
     "output_type": "display_data"
    }
   ],
   "source": [
    "tab_test = ipywidgets.Tab()\n",
    "tab_test2 = ipywidgets.Tab()\n",
    "tab_test2.children = [ipywidgets.Label(value='test')]\n",
    "tab_test.children = [ipywidgets.Label(value='test'), tab_test2]\n",
    "display(tab_test)"
   ]
  },
  {
   "cell_type": "code",
   "execution_count": null,
   "metadata": {},
   "outputs": [],
   "source": []
  }
 ],
 "metadata": {
  "hide_input": false,
  "kernelspec": {
   "display_name": "Python 3",
   "language": "python",
   "name": "python3"
  },
  "language_info": {
   "codemirror_mode": {
    "name": "ipython",
    "version": 3
   },
   "file_extension": ".py",
   "mimetype": "text/x-python",
   "name": "python",
   "nbconvert_exporter": "python",
   "pygments_lexer": "ipython3",
   "version": "3.8.8"
  }
 },
 "nbformat": 4,
 "nbformat_minor": 2
}
