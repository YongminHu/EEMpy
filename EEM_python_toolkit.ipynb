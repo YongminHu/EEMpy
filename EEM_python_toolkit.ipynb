{
 "cells": [
  {
   "cell_type": "markdown",
   "metadata": {},
   "source": [
    "# Python toolkit for fluorescence data processing\n",
    "\n",
    "Author: Yongmin Hu (yongmin.hu@eawag.ch)\n",
    "\n",
    "Last update: 2022-02-13\n",
    "\n",
    "Before running the toolkit, please go through checklist_fluorescence_python_toolkit.doc.\n",
    "\n",
    "If you change the input in any of the code blocks, please re-run all blocks after."
   ]
  },
  {
   "cell_type": "markdown",
   "metadata": {},
   "source": [
    "# 0. Import packages"
   ]
  },
  {
   "cell_type": "code",
   "execution_count": 1,
   "metadata": {},
   "outputs": [],
   "source": [
    "import matplotlib\n",
    "import os\n",
    "import numpy as np\n",
    "import matplotlib.pyplot as plt\n",
    "import re\n",
    "\n",
    "from datetime import datetime, timedelta, date\n",
    "from EEMprocessing import *\n",
    "from generate_widgets import *\n",
    "from ipywidgets import interact, interactive, interact_manual\n",
    "from ipywidgets import Layout, Button, Dropdown, Label, FloatText, Text, IntSlider, Checkbox, Box\n",
    "from IPython.display import display, clear_output\n",
    "from traitlets import traitlets\n",
    "\n",
    "\n",
    "matplotlib.rcParams['figure.dpi'] = 80\n"
   ]
  },
  {
   "cell_type": "markdown",
   "metadata": {},
   "source": [
    "-------------------------------------------\n",
    "# 1. Specify data directory and filename format"
   ]
  },
  {
   "cell_type": "code",
   "execution_count": 2,
   "metadata": {
    "scrolled": false
   },
   "outputs": [
    {
     "data": {
      "application/vnd.jupyter.widget-view+json": {
       "model_id": "ece18e4780164f9cbd4419fce6794adc",
       "version_major": 2,
       "version_minor": 0
      },
      "text/plain": [
       "Box(children=(VBox(children=(Label(value='Pleae specify the directory of fluorescence data in the text box bel…"
      ]
     },
     "metadata": {},
     "output_type": "display_data"
    }
   ],
   "source": [
    "# read all filenames in the target directory\n",
    "filedir_default = '_data/_greywater/20220111_RT' # Just the default, could be changed\n",
    "\n",
    "Part1_widgets = Widgets1(filedir_default)\n",
    "data_selection = Part1_widgets.generate_widgets()\n",
    "display(data_selection)\n"
   ]
  },
  {
   "cell_type": "markdown",
   "metadata": {
    "hide_input": true
   },
   "source": [
    "-----------------------------------------\n",
    "# 2. Data preview and parameter selection"
   ]
  },
  {
   "cell_type": "code",
   "execution_count": 14,
   "metadata": {
    "scrolled": false
   },
   "outputs": [
    {
     "data": {
      "application/vnd.jupyter.widget-view+json": {
       "model_id": "fcc1b0116a8142289d5db618d9ce942b",
       "version_major": 2,
       "version_minor": 0
      },
      "text/plain": [
       "Tab(children=(Box(children=(Box(children=(Dropdown(description='Filename', layout=Layout(width='max-content'),…"
      ]
     },
     "metadata": {},
     "output_type": "display_data"
    },
    {
     "data": {
      "application/vnd.jupyter.widget-view+json": {
       "model_id": "6419648a3d594ee0ac83b725db935edf",
       "version_major": 2,
       "version_minor": 0
      },
      "text/plain": [
       "VBox(children=(Label(value=\"If you see blank space in the short excitation wavelength region,        it's like…"
      ]
     },
     "metadata": {},
     "output_type": "display_data"
    },
    {
     "data": {
      "application/vnd.jupyter.widget-view+json": {
       "model_id": "2577cb3dda554f1cadb28add24ae47ec",
       "version_major": 2,
       "version_minor": 0
      },
      "text/plain": [
       "Output()"
      ]
     },
     "metadata": {},
     "output_type": "display_data"
    }
   ],
   "source": [
    "# Visualization with interaction\n",
    "datdir = Part1_widgets.dir_selection.value\n",
    "filelist = os.listdir(datdir)\n",
    "datlist = [file for file in filelist if 'PEM.dat' in file]\n",
    "data_index = []\n",
    "if Part1_widgets.ts_read_from_filename.value:\n",
    "    tslist = [get_TS_from_filename(file, ts_format=Part1_widgets.ts_format.value, \n",
    "                                   ts_start_position=Part1_widgets.ts_start_position.value-1,\n",
    "                                   ts_end_position=Part1_widgets.ts_end_position.value) for file in datlist]\n",
    "    tslist_sortidx = np.argsort(tslist)\n",
    "    tslist_sorted = [tslist[i] for i in tslist_sortidx]\n",
    "    datlist = [datlist[i] for i in tslist_sortidx]\n",
    "else:\n",
    "    data_index = [file[:-4] for file in datlist]\n",
    "    \n",
    "# --------------Create widgets for plotting parameters-------------\n",
    "\n",
    "intensity_range = (0,3000,100) # (min, max, step）\n",
    "em_range = (250,600,10)\n",
    "ex_range = (250,500,10)\n",
    "\n",
    "ts_format = Part1_widgets.ts_format.value\n",
    "ts_start_position = Part1_widgets.ts_start_position.value\n",
    "ts_end_position = Part1_widgets.ts_end_position.value\n",
    "\n",
    "Part2and3_widgets = Widgets2and3(intensity_range, em_range, ex_range, datdir, datlist, ts_format, ts_start_position,\n",
    "                 ts_end_position)\n",
    "tab2, note_step2, out_parameters = Part2and3_widgets.generate_widgets()\n",
    "\n",
    "display(tab2, note_step2, out_parameters)\n"
   ]
  },
  {
   "cell_type": "markdown",
   "metadata": {},
   "source": [
    "----------------------------------------------------\n",
    "# 3. Stack data\n",
    "\n",
    "For further analysis, the parameters would be set according to the settings in the above interface!\n",
    "\n",
    "PLEASE CHECK THE SETTINGS before going-on!\n"
   ]
  },
  {
   "cell_type": "code",
   "execution_count": 16,
   "metadata": {},
   "outputs": [
    {
     "data": {
      "application/vnd.jupyter.widget-view+json": {
       "model_id": "afd00d6769f749a18cf764d2add09286",
       "version_major": 2,
       "version_minor": 0
      },
      "text/plain": [
       "Label(value='The stack includes all fluorescence data whose filename contains the specified keyword.')"
      ]
     },
     "metadata": {},
     "output_type": "display_data"
    },
    {
     "data": {
      "application/vnd.jupyter.widget-view+json": {
       "model_id": "c750036c820c4146a413d63dd69cc533",
       "version_major": 2,
       "version_minor": 0
      },
      "text/plain": [
       "interactive(children=(Text(value='PEM.dat', description='Filename searching keyword: ', style=DescriptionStyle…"
      ]
     },
     "metadata": {},
     "output_type": "display_data"
    }
   ],
   "source": [
    "#-------------------------Stack data------------------------------\n",
    "stacking_interact = Part2and3_widgets.generate_widgets2()\n",
    "caption = ipywidgets.Label(value='The stack includes all fluorescence data whose filename contains the specified keyword.')\n",
    "display(caption, stacking_interact)"
   ]
  },
  {
   "cell_type": "markdown",
   "metadata": {},
   "source": [
    "------------------------------------------\n",
    "# 4. Remove unwanted data from the data stack\n",
    "\n",
    "Please run the code block even if you don't want to do any operation here."
   ]
  },
  {
   "cell_type": "code",
   "execution_count": 17,
   "metadata": {
    "scrolled": false
   },
   "outputs": [
    {
     "data": {
      "application/vnd.jupyter.widget-view+json": {
       "model_id": "efbde28613a64b41a42fcc13f20ac2ac",
       "version_major": 2,
       "version_minor": 0
      },
      "text/plain": [
       "Label(value='This block is used to remove specific data from the data stack. Please select the data you want t…"
      ]
     },
     "metadata": {},
     "output_type": "display_data"
    },
    {
     "data": {
      "application/vnd.jupyter.widget-view+json": {
       "model_id": "c6d0aadc42c34b2884095dd059e6e2f8",
       "version_major": 2,
       "version_minor": 0
      },
      "text/plain": [
       "Tab(children=(Box(children=(Box(children=(Output(),), layout=Layout(display='flex', flex_flow='row', justify_c…"
      ]
     },
     "metadata": {},
     "output_type": "display_data"
    },
    {
     "data": {
      "application/vnd.jupyter.widget-view+json": {
       "model_id": "7fd61e9aee5d4dacb160cb145c80aaa8",
       "version_major": 2,
       "version_minor": 0
      },
      "text/plain": [
       "Label(value=\"To reset the data stack to its original state: re-run the block. If you don't want to make any ch…"
      ]
     },
     "metadata": {},
     "output_type": "display_data"
    }
   ],
   "source": [
    "#------------------Remove specific data from the data stack-----------------\n",
    "\n",
    "eem_stack_all, em_range_cw, ex_range_cw, datlist_all = stacking_interact.result\n",
    "\n",
    "Part4_widgets = Widgets4(eem_stack_all, datlist_all, em_range_cw, ex_range_cw, Part2and3_widgets.preview_parameter_dict)\n",
    "\n",
    "manual_cleaning = Part4_widgets.generate_widgets_1()\n",
    "\n",
    "# auto cleaning\n",
    "auto_cleaning = Part4_widgets.generate_widgets_2()\n",
    "\n",
    "\n",
    "tab4 = ipywidgets.Tab()\n",
    "tab4.children = [manual_cleaning, auto_cleaning]\n",
    "tab4.set_title(0, 'Manual cleaning')\n",
    "tab4.set_title(1, 'Auto cleaning')\n",
    "\n",
    "\n",
    "caption = ipywidgets.Label(\n",
    "    'This block is used to remove specific data from the data stack. Please select the data you want to remove:')\n",
    "caption2 = ipywidgets.Label(\n",
    "    \"To reset the data stack to its original state: re-run the block. If you don't want to make any changes here,\"\n",
    "    \" please skip.\")\n",
    "\n",
    "display(caption, tab4, caption2)\n"
   ]
  },
  {
   "cell_type": "markdown",
   "metadata": {},
   "source": [
    "-------------------------------------\n",
    "# 5. Data stack analysis"
   ]
  },
  {
   "cell_type": "code",
   "execution_count": 46,
   "metadata": {
    "scrolled": false
   },
   "outputs": [
    {
     "data": {
      "application/vnd.jupyter.widget-view+json": {
       "model_id": "77170ad528f44072b02bbf8911d1c09d",
       "version_major": 2,
       "version_minor": 0
      },
      "text/plain": [
       "Output()"
      ]
     },
     "metadata": {},
     "output_type": "display_data"
    },
    {
     "data": {
      "application/vnd.jupyter.widget-view+json": {
       "model_id": "b33721096f574c15b55a9c0a593bd4c8",
       "version_major": 2,
       "version_minor": 0
      },
      "text/plain": [
       "Tab(children=(Box(children=(Box(children=(Label(value='Select the range of data for further analysis'),)), Box…"
      ]
     },
     "metadata": {},
     "output_type": "display_data"
    },
    {
     "data": {
      "text/html": [
       "<div>\n",
       "<style scoped>\n",
       "    .dataframe tbody tr th:only-of-type {\n",
       "        vertical-align: middle;\n",
       "    }\n",
       "\n",
       "    .dataframe tbody tr th {\n",
       "        vertical-align: top;\n",
       "    }\n",
       "\n",
       "    .dataframe thead th {\n",
       "        text-align: right;\n",
       "    }\n",
       "</style>\n",
       "<table border=\"1\" class=\"dataframe\">\n",
       "  <thead>\n",
       "    <tr style=\"text-align: right;\">\n",
       "      <th></th>\n",
       "      <th>total fluorescence</th>\n",
       "    </tr>\n",
       "  </thead>\n",
       "  <tbody>\n",
       "    <tr>\n",
       "      <th>2021-12-05 14:24:00</th>\n",
       "      <td>4.611557e+05</td>\n",
       "    </tr>\n",
       "    <tr>\n",
       "      <th>2021-12-05 14:52:00</th>\n",
       "      <td>4.263693e+05</td>\n",
       "    </tr>\n",
       "    <tr>\n",
       "      <th>2021-12-05 15:20:00</th>\n",
       "      <td>4.011390e+05</td>\n",
       "    </tr>\n",
       "    <tr>\n",
       "      <th>2021-12-05 15:48:00</th>\n",
       "      <td>3.930400e+05</td>\n",
       "    </tr>\n",
       "    <tr>\n",
       "      <th>2021-12-05 16:25:00</th>\n",
       "      <td>4.219425e+05</td>\n",
       "    </tr>\n",
       "    <tr>\n",
       "      <th>2021-12-05 16:53:00</th>\n",
       "      <td>4.230296e+05</td>\n",
       "    </tr>\n",
       "    <tr>\n",
       "      <th>2021-12-05 17:21:00</th>\n",
       "      <td>4.188146e+05</td>\n",
       "    </tr>\n",
       "    <tr>\n",
       "      <th>2021-12-05 17:50:00</th>\n",
       "      <td>4.158863e+05</td>\n",
       "    </tr>\n",
       "    <tr>\n",
       "      <th>2021-12-05 18:26:00</th>\n",
       "      <td>4.082026e+05</td>\n",
       "    </tr>\n",
       "    <tr>\n",
       "      <th>2021-12-05 18:54:00</th>\n",
       "      <td>4.199084e+05</td>\n",
       "    </tr>\n",
       "    <tr>\n",
       "      <th>2021-12-05 19:22:00</th>\n",
       "      <td>4.154475e+05</td>\n",
       "    </tr>\n",
       "    <tr>\n",
       "      <th>2021-12-05 19:51:00</th>\n",
       "      <td>4.105021e+05</td>\n",
       "    </tr>\n",
       "    <tr>\n",
       "      <th>2021-12-05 20:27:00</th>\n",
       "      <td>4.106700e+05</td>\n",
       "    </tr>\n",
       "    <tr>\n",
       "      <th>2021-12-05 20:55:00</th>\n",
       "      <td>4.029523e+05</td>\n",
       "    </tr>\n",
       "    <tr>\n",
       "      <th>2021-12-05 21:23:00</th>\n",
       "      <td>4.031212e+05</td>\n",
       "    </tr>\n",
       "    <tr>\n",
       "      <th>2021-12-05 21:52:00</th>\n",
       "      <td>4.006671e+05</td>\n",
       "    </tr>\n",
       "    <tr>\n",
       "      <th>2021-12-05 22:28:00</th>\n",
       "      <td>3.979888e+05</td>\n",
       "    </tr>\n",
       "    <tr>\n",
       "      <th>2021-12-05 22:56:00</th>\n",
       "      <td>3.988681e+05</td>\n",
       "    </tr>\n",
       "    <tr>\n",
       "      <th>2021-12-05 23:25:00</th>\n",
       "      <td>4.020430e+05</td>\n",
       "    </tr>\n",
       "    <tr>\n",
       "      <th>2021-12-05 23:53:00</th>\n",
       "      <td>3.996942e+05</td>\n",
       "    </tr>\n",
       "    <tr>\n",
       "      <th>2021-12-06 00:29:00</th>\n",
       "      <td>3.906721e+05</td>\n",
       "    </tr>\n",
       "    <tr>\n",
       "      <th>2021-12-06 00:57:00</th>\n",
       "      <td>3.979585e+05</td>\n",
       "    </tr>\n",
       "    <tr>\n",
       "      <th>2021-12-06 01:26:00</th>\n",
       "      <td>4.030231e+05</td>\n",
       "    </tr>\n",
       "    <tr>\n",
       "      <th>2021-12-06 01:54:00</th>\n",
       "      <td>4.069344e+05</td>\n",
       "    </tr>\n",
       "    <tr>\n",
       "      <th>2021-12-06 02:30:00</th>\n",
       "      <td>4.047334e+05</td>\n",
       "    </tr>\n",
       "    <tr>\n",
       "      <th>2021-12-06 02:59:00</th>\n",
       "      <td>4.015493e+05</td>\n",
       "    </tr>\n",
       "    <tr>\n",
       "      <th>2021-12-06 03:27:00</th>\n",
       "      <td>3.993954e+05</td>\n",
       "    </tr>\n",
       "    <tr>\n",
       "      <th>2021-12-06 03:55:00</th>\n",
       "      <td>3.960094e+05</td>\n",
       "    </tr>\n",
       "    <tr>\n",
       "      <th>2021-12-06 04:31:00</th>\n",
       "      <td>3.884972e+05</td>\n",
       "    </tr>\n",
       "    <tr>\n",
       "      <th>2021-12-06 05:00:00</th>\n",
       "      <td>3.894127e+05</td>\n",
       "    </tr>\n",
       "    <tr>\n",
       "      <th>2021-12-06 05:28:00</th>\n",
       "      <td>3.845487e+05</td>\n",
       "    </tr>\n",
       "    <tr>\n",
       "      <th>2021-12-06 05:56:00</th>\n",
       "      <td>3.858480e+05</td>\n",
       "    </tr>\n",
       "    <tr>\n",
       "      <th>2021-12-06 06:32:00</th>\n",
       "      <td>3.879804e+05</td>\n",
       "    </tr>\n",
       "    <tr>\n",
       "      <th>2021-12-06 07:01:00</th>\n",
       "      <td>3.894813e+05</td>\n",
       "    </tr>\n",
       "    <tr>\n",
       "      <th>2021-12-06 07:29:00</th>\n",
       "      <td>3.848020e+05</td>\n",
       "    </tr>\n",
       "    <tr>\n",
       "      <th>2021-12-06 07:57:00</th>\n",
       "      <td>3.863820e+05</td>\n",
       "    </tr>\n",
       "    <tr>\n",
       "      <th>2021-12-06 08:34:00</th>\n",
       "      <td>3.814180e+05</td>\n",
       "    </tr>\n",
       "    <tr>\n",
       "      <th>2021-12-06 09:02:00</th>\n",
       "      <td>3.894976e+05</td>\n",
       "    </tr>\n",
       "    <tr>\n",
       "      <th>2021-12-06 09:23:00</th>\n",
       "      <td>3.821197e+05</td>\n",
       "    </tr>\n",
       "    <tr>\n",
       "      <th>2021-12-06 09:38:00</th>\n",
       "      <td>3.862169e+05</td>\n",
       "    </tr>\n",
       "    <tr>\n",
       "      <th>2021-12-06 09:52:00</th>\n",
       "      <td>3.873154e+05</td>\n",
       "    </tr>\n",
       "    <tr>\n",
       "      <th>2021-12-06 10:07:00</th>\n",
       "      <td>3.848394e+05</td>\n",
       "    </tr>\n",
       "    <tr>\n",
       "      <th>2021-12-06 10:30:00</th>\n",
       "      <td>3.829884e+05</td>\n",
       "    </tr>\n",
       "    <tr>\n",
       "      <th>2021-12-06 10:45:00</th>\n",
       "      <td>3.854088e+05</td>\n",
       "    </tr>\n",
       "    <tr>\n",
       "      <th>2021-12-06 10:59:00</th>\n",
       "      <td>3.863114e+05</td>\n",
       "    </tr>\n",
       "    <tr>\n",
       "      <th>2021-12-06 11:14:00</th>\n",
       "      <td>3.292940e+05</td>\n",
       "    </tr>\n",
       "    <tr>\n",
       "      <th>2021-12-06 12:58:00</th>\n",
       "      <td>3.845187e+05</td>\n",
       "    </tr>\n",
       "    <tr>\n",
       "      <th>2021-12-06 13:13:00</th>\n",
       "      <td>3.873053e+05</td>\n",
       "    </tr>\n",
       "    <tr>\n",
       "      <th>2021-12-06 13:28:00</th>\n",
       "      <td>3.849374e+05</td>\n",
       "    </tr>\n",
       "    <tr>\n",
       "      <th>2021-12-06 13:51:00</th>\n",
       "      <td>3.911127e+05</td>\n",
       "    </tr>\n",
       "    <tr>\n",
       "      <th>2021-12-06 14:05:00</th>\n",
       "      <td>3.927316e+05</td>\n",
       "    </tr>\n",
       "    <tr>\n",
       "      <th>2021-12-06 14:20:00</th>\n",
       "      <td>4.145243e+05</td>\n",
       "    </tr>\n",
       "    <tr>\n",
       "      <th>2021-12-06 14:35:00</th>\n",
       "      <td>4.087344e+05</td>\n",
       "    </tr>\n",
       "    <tr>\n",
       "      <th>2021-12-06 14:57:00</th>\n",
       "      <td>4.083430e+05</td>\n",
       "    </tr>\n",
       "    <tr>\n",
       "      <th>2021-12-06 15:12:00</th>\n",
       "      <td>4.064787e+05</td>\n",
       "    </tr>\n",
       "    <tr>\n",
       "      <th>2021-12-06 15:27:00</th>\n",
       "      <td>3.993384e+05</td>\n",
       "    </tr>\n",
       "    <tr>\n",
       "      <th>2021-12-06 15:41:00</th>\n",
       "      <td>3.959215e+05</td>\n",
       "    </tr>\n",
       "    <tr>\n",
       "      <th>2021-12-06 16:04:00</th>\n",
       "      <td>3.765128e+05</td>\n",
       "    </tr>\n",
       "    <tr>\n",
       "      <th>2021-12-06 16:19:00</th>\n",
       "      <td>3.753050e+05</td>\n",
       "    </tr>\n",
       "    <tr>\n",
       "      <th>2021-12-06 16:34:00</th>\n",
       "      <td>3.745847e+05</td>\n",
       "    </tr>\n",
       "    <tr>\n",
       "      <th>2021-12-06 16:48:00</th>\n",
       "      <td>3.704825e+05</td>\n",
       "    </tr>\n",
       "    <tr>\n",
       "      <th>2021-12-06 17:11:00</th>\n",
       "      <td>3.764759e+05</td>\n",
       "    </tr>\n",
       "    <tr>\n",
       "      <th>2022-01-24 10:34:00</th>\n",
       "      <td>1.569323e+06</td>\n",
       "    </tr>\n",
       "    <tr>\n",
       "      <th>2022-01-24 10:48:00</th>\n",
       "      <td>1.477043e+06</td>\n",
       "    </tr>\n",
       "    <tr>\n",
       "      <th>2022-01-24 11:01:00</th>\n",
       "      <td>1.352734e+06</td>\n",
       "    </tr>\n",
       "    <tr>\n",
       "      <th>2022-01-24 11:14:00</th>\n",
       "      <td>1.157916e+06</td>\n",
       "    </tr>\n",
       "    <tr>\n",
       "      <th>2022-01-24 11:35:00</th>\n",
       "      <td>1.120342e+06</td>\n",
       "    </tr>\n",
       "    <tr>\n",
       "      <th>2022-01-24 11:48:00</th>\n",
       "      <td>1.216643e+06</td>\n",
       "    </tr>\n",
       "    <tr>\n",
       "      <th>2022-01-24 12:01:00</th>\n",
       "      <td>1.290794e+06</td>\n",
       "    </tr>\n",
       "    <tr>\n",
       "      <th>2022-01-24 12:15:00</th>\n",
       "      <td>1.418214e+06</td>\n",
       "    </tr>\n",
       "    <tr>\n",
       "      <th>2022-01-24 12:36:00</th>\n",
       "      <td>1.529412e+06</td>\n",
       "    </tr>\n",
       "    <tr>\n",
       "      <th>2022-01-24 12:49:00</th>\n",
       "      <td>1.580081e+06</td>\n",
       "    </tr>\n",
       "    <tr>\n",
       "      <th>2022-01-24 13:02:00</th>\n",
       "      <td>1.615298e+06</td>\n",
       "    </tr>\n",
       "    <tr>\n",
       "      <th>2022-01-24 13:15:00</th>\n",
       "      <td>1.604281e+06</td>\n",
       "    </tr>\n",
       "    <tr>\n",
       "      <th>2022-01-24 13:36:00</th>\n",
       "      <td>1.575430e+06</td>\n",
       "    </tr>\n",
       "    <tr>\n",
       "      <th>2022-01-24 13:50:00</th>\n",
       "      <td>1.550609e+06</td>\n",
       "    </tr>\n",
       "    <tr>\n",
       "      <th>2022-01-24 14:03:00</th>\n",
       "      <td>1.525258e+06</td>\n",
       "    </tr>\n",
       "    <tr>\n",
       "      <th>2022-01-24 14:16:00</th>\n",
       "      <td>1.505343e+06</td>\n",
       "    </tr>\n",
       "    <tr>\n",
       "      <th>2022-01-24 14:37:00</th>\n",
       "      <td>1.468507e+06</td>\n",
       "    </tr>\n",
       "    <tr>\n",
       "      <th>2022-01-24 14:50:00</th>\n",
       "      <td>1.459583e+06</td>\n",
       "    </tr>\n",
       "    <tr>\n",
       "      <th>2022-01-24 15:03:00</th>\n",
       "      <td>1.457113e+06</td>\n",
       "    </tr>\n",
       "    <tr>\n",
       "      <th>2022-01-24 15:17:00</th>\n",
       "      <td>1.439339e+06</td>\n",
       "    </tr>\n",
       "    <tr>\n",
       "      <th>2022-01-24 15:38:00</th>\n",
       "      <td>1.438695e+06</td>\n",
       "    </tr>\n",
       "    <tr>\n",
       "      <th>2022-01-24 15:51:00</th>\n",
       "      <td>1.424785e+06</td>\n",
       "    </tr>\n",
       "    <tr>\n",
       "      <th>2022-01-24 16:04:00</th>\n",
       "      <td>1.410514e+06</td>\n",
       "    </tr>\n",
       "  </tbody>\n",
       "</table>\n",
       "</div>"
      ],
      "text/plain": [
       "                     total fluorescence\n",
       "2021-12-05 14:24:00        4.611557e+05\n",
       "2021-12-05 14:52:00        4.263693e+05\n",
       "2021-12-05 15:20:00        4.011390e+05\n",
       "2021-12-05 15:48:00        3.930400e+05\n",
       "2021-12-05 16:25:00        4.219425e+05\n",
       "2021-12-05 16:53:00        4.230296e+05\n",
       "2021-12-05 17:21:00        4.188146e+05\n",
       "2021-12-05 17:50:00        4.158863e+05\n",
       "2021-12-05 18:26:00        4.082026e+05\n",
       "2021-12-05 18:54:00        4.199084e+05\n",
       "2021-12-05 19:22:00        4.154475e+05\n",
       "2021-12-05 19:51:00        4.105021e+05\n",
       "2021-12-05 20:27:00        4.106700e+05\n",
       "2021-12-05 20:55:00        4.029523e+05\n",
       "2021-12-05 21:23:00        4.031212e+05\n",
       "2021-12-05 21:52:00        4.006671e+05\n",
       "2021-12-05 22:28:00        3.979888e+05\n",
       "2021-12-05 22:56:00        3.988681e+05\n",
       "2021-12-05 23:25:00        4.020430e+05\n",
       "2021-12-05 23:53:00        3.996942e+05\n",
       "2021-12-06 00:29:00        3.906721e+05\n",
       "2021-12-06 00:57:00        3.979585e+05\n",
       "2021-12-06 01:26:00        4.030231e+05\n",
       "2021-12-06 01:54:00        4.069344e+05\n",
       "2021-12-06 02:30:00        4.047334e+05\n",
       "2021-12-06 02:59:00        4.015493e+05\n",
       "2021-12-06 03:27:00        3.993954e+05\n",
       "2021-12-06 03:55:00        3.960094e+05\n",
       "2021-12-06 04:31:00        3.884972e+05\n",
       "2021-12-06 05:00:00        3.894127e+05\n",
       "2021-12-06 05:28:00        3.845487e+05\n",
       "2021-12-06 05:56:00        3.858480e+05\n",
       "2021-12-06 06:32:00        3.879804e+05\n",
       "2021-12-06 07:01:00        3.894813e+05\n",
       "2021-12-06 07:29:00        3.848020e+05\n",
       "2021-12-06 07:57:00        3.863820e+05\n",
       "2021-12-06 08:34:00        3.814180e+05\n",
       "2021-12-06 09:02:00        3.894976e+05\n",
       "2021-12-06 09:23:00        3.821197e+05\n",
       "2021-12-06 09:38:00        3.862169e+05\n",
       "2021-12-06 09:52:00        3.873154e+05\n",
       "2021-12-06 10:07:00        3.848394e+05\n",
       "2021-12-06 10:30:00        3.829884e+05\n",
       "2021-12-06 10:45:00        3.854088e+05\n",
       "2021-12-06 10:59:00        3.863114e+05\n",
       "2021-12-06 11:14:00        3.292940e+05\n",
       "2021-12-06 12:58:00        3.845187e+05\n",
       "2021-12-06 13:13:00        3.873053e+05\n",
       "2021-12-06 13:28:00        3.849374e+05\n",
       "2021-12-06 13:51:00        3.911127e+05\n",
       "2021-12-06 14:05:00        3.927316e+05\n",
       "2021-12-06 14:20:00        4.145243e+05\n",
       "2021-12-06 14:35:00        4.087344e+05\n",
       "2021-12-06 14:57:00        4.083430e+05\n",
       "2021-12-06 15:12:00        4.064787e+05\n",
       "2021-12-06 15:27:00        3.993384e+05\n",
       "2021-12-06 15:41:00        3.959215e+05\n",
       "2021-12-06 16:04:00        3.765128e+05\n",
       "2021-12-06 16:19:00        3.753050e+05\n",
       "2021-12-06 16:34:00        3.745847e+05\n",
       "2021-12-06 16:48:00        3.704825e+05\n",
       "2021-12-06 17:11:00        3.764759e+05\n",
       "2022-01-24 10:34:00        1.569323e+06\n",
       "2022-01-24 10:48:00        1.477043e+06\n",
       "2022-01-24 11:01:00        1.352734e+06\n",
       "2022-01-24 11:14:00        1.157916e+06\n",
       "2022-01-24 11:35:00        1.120342e+06\n",
       "2022-01-24 11:48:00        1.216643e+06\n",
       "2022-01-24 12:01:00        1.290794e+06\n",
       "2022-01-24 12:15:00        1.418214e+06\n",
       "2022-01-24 12:36:00        1.529412e+06\n",
       "2022-01-24 12:49:00        1.580081e+06\n",
       "2022-01-24 13:02:00        1.615298e+06\n",
       "2022-01-24 13:15:00        1.604281e+06\n",
       "2022-01-24 13:36:00        1.575430e+06\n",
       "2022-01-24 13:50:00        1.550609e+06\n",
       "2022-01-24 14:03:00        1.525258e+06\n",
       "2022-01-24 14:16:00        1.505343e+06\n",
       "2022-01-24 14:37:00        1.468507e+06\n",
       "2022-01-24 14:50:00        1.459583e+06\n",
       "2022-01-24 15:03:00        1.457113e+06\n",
       "2022-01-24 15:17:00        1.439339e+06\n",
       "2022-01-24 15:38:00        1.438695e+06\n",
       "2022-01-24 15:51:00        1.424785e+06\n",
       "2022-01-24 16:04:00        1.410514e+06"
      ]
     },
     "metadata": {},
     "output_type": "display_data"
    },
    {
     "data": {
      "image/png": "[encoded data removed]",
      "text/plain": [
       "<Figure size 720x432 with 1 Axes>"
      ]
     },
     "metadata": {
      "needs_background": "light"
     },
     "output_type": "display_data"
    }
   ],
   "source": [
    "%matplotlib inline\n",
    "#--------------------Data stack analysis---------------\n",
    "pd.set_option('display.max_rows', None)\n",
    "datlist_filtered = Part4_widgets.datlist_filtered\n",
    "idx2remove = Part4_widgets.idx2remove\n",
    "\n",
    "# Are there any changes in the last step?\n",
    "data_index_cw = []\n",
    "\n",
    "if datlist_filtered==datlist_all:\n",
    "    datlist_cw = datlist_all[:]\n",
    "    eem_stack_cw = eem_stack_all[:,:,:]\n",
    "else:\n",
    "    datlist_cw = datlist_filtered[:]\n",
    "    eem_stack_cw = np.delete(eem_stack_all, idx2remove, 0)\n",
    "    \n",
    "if Part1_widgets.ts_read_from_filename.value:\n",
    "    timestamps_cw = [get_TS_from_filename(dat, Part1_widgets.ts_format.value, \n",
    "                                          Part1_widgets.ts_start_position.value-1, \n",
    "                                          Part1_widgets.ts_end_position.value)\n",
    "                for dat in datlist_cw ]\n",
    "    timestamps_cw_sortidx = np.argsort(timestamps_cw)\n",
    "    timestamps_cw = [timestamps_cw[i] for i in timestamps_cw_sortidx]\n",
    "    datlist_cw = [datlist_cw[i] for i in timestamps_cw_sortidx]\n",
    "    eem_stack_cw = eem_stack_cw[timestamps_cw_sortidx]\n",
    "else:\n",
    "    data_index_cw = [file[:-4] for file in datlist_cw]\n",
    "    timestamps_cw = False\n",
    "\n",
    "#---------------Create widgets------------------------\n",
    "#----------------General widgets------------\n",
    "out = ipywidgets.Output()\n",
    "display(out)\n",
    "\n",
    "button_clear_display=ipywidgets.Button(description='Clear display')\n",
    "def clear_display_with_button(b):\n",
    "    clear_output()\n",
    "    display(tab)\n",
    "button_clear_display.on_click(clear_display_with_button)\n",
    "\n",
    "#-------Tab1: File range selection----------\n",
    "\n",
    "Part51_widgets = Widgets51(datlist_cw)\n",
    "data_range_items, range1, range2 = Part51_widgets.generate_widgets()\n",
    "\n",
    "data_range = Box(data_range_items,\n",
    "                 layout=Layout(display='flex', flex_flow='column', border='none', align_items='stretch', width='80%'))\n",
    "\n",
    "\n",
    "#-------Tab2: Pixel statistics------------------\n",
    "\n",
    "Part52_widgets = Widgets52(eem_stack_cw, datlist_cw, range1, range2, em_range_cw, ex_range_cw, timestamps_cw)\n",
    "pixel_statistics_items = Part52_widgets.generate_widgets()\n",
    "\n",
    "pixel_statistics_items.append(ipywidgets.Box([button_clear_display]))\n",
    "pixel_statistics = Box(pixel_statistics_items, \n",
    "                       layout=Layout(display='flex',flex_flow='column',border='none',align_items='stretch',width='100%'))\n",
    "\n",
    "#-------Tab3: EEM statistics---------\n",
    "\n",
    "Part53_widgets = Widgets53(eem_stack_cw, datlist_cw, range1, range2, em_range_cw, ex_range_cw, timestamps_cw, \n",
    "                           Part2and3_widgets.crange_cw)\n",
    "eem_statistics_items = Part53_widgets.generate_widgets()\n",
    "\n",
    "eem_statistics_items.append(ipywidgets.Box([button_clear_display]))\n",
    "\n",
    "eem_statistics = Box(eem_statistics_items, \n",
    "                     layout=Layout(display='flex',flex_flow='column',border='none',align_items='stretch',width='100%'))\n",
    "\n",
    "#-------Tab4: Region integration------------\n",
    "\n",
    "# region_integration_items = [\n",
    "#     ipywidgets.Box([Label(value='Under construction')]),\n",
    "#     ipywidgets.Box([button_clear_display], layout=form_item_layout),\n",
    "# ]\n",
    "\n",
    "# region_integration = Box(region_integration_items, \n",
    "#                          layout=Layout(display='flex',flex_flow='column',border='none',align_items='stretch',width='60%'))\n",
    "\n",
    "Part54_widgets = Widgets54(eem_stack_cw, datlist_cw, range1, range2, em_range_cw, ex_range_cw, timestamps_cw)\n",
    "\n",
    "integration_items = Part54_widgets.generate_widgets()\n",
    "integration_items.append(ipywidgets.Box([button_clear_display]))\n",
    "region_integration = Box(integration_items, \n",
    "                         layout=Layout(display='flex',flex_flow='column',border='none',align_items='stretch',width='60%'))\n",
    "\n",
    "\n",
    "#-------Tab5: Stack decomposition----------\n",
    "\n",
    "Part55_widgets = Widgets55(data_index, data_index_cw, timestamps_cw, eem_stack_cw, datlist_cw, range1, \n",
    "                         range2, em_range_cw, ex_range_cw)\n",
    "\n",
    "decomposition_items = Part55_widgets.generate_widgets()\n",
    "\n",
    "decomposition = Box(decomposition_items, \n",
    "                    layout=Layout(display='flex',flex_flow='column',border='none',align_items='stretch',width='100%'))\n",
    "\n",
    "\n",
    "# -------Tab6: Data reconstruction----------\n",
    "\n",
    "Part56_widgets = Widgets56(Part55_widgets.decomposition_method_list, Part55_widgets.rank_display, Part2and3_widgets.crange_cw, \n",
    "                           data_index, data_index_cw, timestamps_cw, eem_stack_cw, datlist_cw, range1, \n",
    "                           range2, em_range_cw, ex_range_cw)\n",
    "decomposition_reconstruction_items = Part56_widgets.generate_widgets()\n",
    "decomposition_reconstruction_items.append(ipywidgets.Box([button_clear_display]))\n",
    "\n",
    "decomposition_reconstruction = Box(decomposition_reconstruction_items, \n",
    "                                   layout=Layout(display='flex',flex_flow='column',border='none',align_items='stretch',width='80%'))\n",
    "\n",
    "\n",
    "\n",
    "\n",
    "# -----------------Assembly tabs-------------------\n",
    "\n",
    "tab = ipywidgets.Tab() \n",
    "tab.children=[data_range, pixel_statistics, eem_statistics, region_integration,\n",
    "              decomposition, decomposition_reconstruction]\n",
    "# tab2 = ipywidgets.Tab()\n",
    "# tab2.children = [decomposition_reconstruction]\n",
    "# tab.children=[data_range, pixel_statistics, eem_statistics, region_integration,\n",
    "#               decomposition, tab2]\n",
    "tab.set_title(0, '1. Data range selection')\n",
    "tab.set_title(1, '2. Pixel statistics')\n",
    "tab.set_title(2, '3. EEM statistics')\n",
    "tab.set_title(3, '4. Region integraion')\n",
    "tab.set_title(4, '5. Stack decomposition')\n",
    "tab.set_title(5, '6. Stack reconstruction')\n",
    "display(tab)"
   ]
  },
  {
   "cell_type": "markdown",
   "metadata": {},
   "source": [
    "# 6. Save PARAFAC result"
   ]
  },
  {
   "cell_type": "code",
   "execution_count": 36,
   "metadata": {},
   "outputs": [
    {
     "data": {
      "application/vnd.jupyter.widget-view+json": {
       "model_id": "cd27167d4bc04ed19389e6fe4eb9995b",
       "version_major": 2,
       "version_minor": 0
      },
      "text/plain": [
       "Box(children=(Box(children=(Label(value='Mandatory fields are marked with *'),)), Box(children=(Text(value='_d…"
      ]
     },
     "metadata": {},
     "output_type": "display_data"
    }
   ],
   "source": [
    "score_df, ex_df, em_df = Part55_widgets.button_decomposition_interact.result\n",
    "Part6_widgets = Widgets6(score_df, ex_df, em_df, Part1_widgets.dir_selection.value, Part2and3_widgets.inner_filter_effect, \n",
    "                         Part2and3_widgets.scattering_correction, Part2and3_widgets.gaussian_smoothing, \n",
    "                         Part55_widgets.decomposition_method_list, Part55_widgets.dataset_normalization)\n",
    "output_items = Part6_widgets.generate_widgets()\n",
    "decomposition_output = Box(output_items, layout=Layout(\n",
    "    display='flex',\n",
    "    flex_flow='column',\n",
    "    border='none',\n",
    "    align_items='stretch',\n",
    "    width='80%'\n",
    "))\n",
    "display(decomposition_output)"
   ]
  },
  {
   "cell_type": "markdown",
   "metadata": {},
   "source": [
    "# Test"
   ]
  },
  {
   "cell_type": "code",
   "execution_count": 43,
   "metadata": {},
   "outputs": [
    {
     "data": {
      "image/png": "[encoded data removed]",
      "text/plain": [
       "<Figure size 560x560 with 2 Axes>"
      ]
     },
     "metadata": {
      "needs_background": "light"
     },
     "output_type": "display_data"
    }
   ],
   "source": [
    "plot3DEEM(eem_stack_all[-4], em_range_cw, ex_range_cw, aspect=1.3, cmin=0, cmax=1000)"
   ]
  },
  {
   "cell_type": "code",
   "execution_count": null,
   "metadata": {},
   "outputs": [],
   "source": []
  }
 ],
 "metadata": {
  "hide_input": false,
  "kernelspec": {
   "display_name": "Python 3",
   "language": "python",
   "name": "python3"
  },
  "language_info": {
   "codemirror_mode": {
    "name": "ipython",
    "version": 3
   },
   "file_extension": ".py",
   "mimetype": "text/x-python",
   "name": "python",
   "nbconvert_exporter": "python",
   "pygments_lexer": "ipython3",
   "version": "3.8.8"
  }
 },
 "nbformat": 4,
 "nbformat_minor": 2
}
