{
 "cells": [
  {
   "cell_type": "markdown",
   "metadata": {},
   "source": [
    "# Python toolkit for fluorescence data processing\n",
    "\n",
    "Author: Yongmin Hu (yongmin.hu@eawag.ch, yongminhu@outlook.com)\n",
    "\n",
    "Last update: 2021-10-22\n",
    "\n",
    "Before running the toolkit, please go through checklist_fluorescence_python_toolkit.doc.\n",
    "\n",
    "If you change the input in any of the code blocks, please re-run all blocks after."
   ]
  },
  {
   "cell_type": "markdown",
   "metadata": {},
   "source": [
    "# 0. Import packages"
   ]
  },
  {
   "cell_type": "code",
   "execution_count": 1,
   "metadata": {},
   "outputs": [],
   "source": [
    "import matplotlib\n",
    "import os\n",
    "import numpy as np\n",
    "import matplotlib.pyplot as plt\n",
    "import re\n",
    "\n",
    "from datetime import datetime, timedelta, date\n",
    "from EEMprocessing import *\n",
    "from generate_widgets import *\n",
    "from ipywidgets import interact, interactive, interact_manual\n",
    "from ipywidgets import Layout, Button, Dropdown, Label, FloatText, Text, IntSlider, Checkbox, Box\n",
    "from IPython.display import display, clear_output\n",
    "from traitlets import traitlets\n",
    "\n",
    "\n",
    "matplotlib.rcParams['figure.dpi'] = 80\n"
   ]
  },
  {
   "cell_type": "markdown",
   "metadata": {},
   "source": [
    "-------------------------------------------\n",
    "# 1. Specify data directory and filename format"
   ]
  },
  {
   "cell_type": "code",
   "execution_count": 2,
   "metadata": {
    "scrolled": false
   },
   "outputs": [
    {
     "data": {
      "application/vnd.jupyter.widget-view+json": {
       "model_id": "83cd7c3e3a1b4978bec8cccbb4247687",
       "version_major": 2,
       "version_minor": 0
      },
      "text/plain": [
       "VBox(children=(Label(value='Pleae specify the directory of fluorescence data in the text box below. Example:')…"
      ]
     },
     "metadata": {},
     "output_type": "display_data"
    },
    {
     "data": {
      "application/vnd.jupyter.widget-view+json": {
       "model_id": "f8ed8265d50a4ecd862e40854a0bc2b6",
       "version_major": 2,
       "version_minor": 0
      },
      "text/plain": [
       "Text(value='C:/Users/YongminHu/Documents/master studies/RealTimeFluorescent/_data/_greywater/2021-03-19-RT', d…"
      ]
     },
     "metadata": {},
     "output_type": "display_data"
    },
    {
     "data": {
      "application/vnd.jupyter.widget-view+json": {
       "model_id": "20a30ab5e33c4f2c9ecbca4009f2b0b1",
       "version_major": 2,
       "version_minor": 0
      },
      "text/plain": [
       "Label(value='If you want to read the timestamps from the filename, please specify the time format, start and e…"
      ]
     },
     "metadata": {},
     "output_type": "display_data"
    },
    {
     "data": {
      "application/vnd.jupyter.widget-view+json": {
       "model_id": "5d90705b078246ffbef68e6ca4cd6a5b",
       "version_major": 2,
       "version_minor": 0
      },
      "text/plain": [
       "Checkbox(value=True, description='Do you want to read timestamps from filenames?', layout=Layout(width='50%'),…"
      ]
     },
     "metadata": {},
     "output_type": "display_data"
    },
    {
     "data": {
      "application/vnd.jupyter.widget-view+json": {
       "model_id": "a3d8f1feb26c4528bd02e4d813c226f4",
       "version_major": 2,
       "version_minor": 0
      },
      "text/plain": [
       "Box(children=(Text(value='%Y-%m-%d-%H-%M', layout=Layout(width='30%')), IntText(value=1, layout=Layout(width='…"
      ]
     },
     "metadata": {},
     "output_type": "display_data"
    },
    {
     "data": {
      "application/vnd.jupyter.widget-view+json": {
       "model_id": "86bed31c192b43ca9bfa0a7633f93909",
       "version_major": 2,
       "version_minor": 0
      },
      "text/plain": [
       "Label(value='Time format reference: https://strftime.org/')"
      ]
     },
     "metadata": {},
     "output_type": "display_data"
    },
    {
     "data": {
      "application/vnd.jupyter.widget-view+json": {
       "model_id": "002d09d23ce641cba86c44d7566fc130",
       "version_major": 2,
       "version_minor": 0
      },
      "text/plain": [
       "VBox(children=(Label(value='Example: \"2020-12-02-22-00-00_R2PEM.dat\"'), Label(value='Time format = %Y-%m-%d-%H…"
      ]
     },
     "metadata": {},
     "output_type": "display_data"
    }
   ],
   "source": [
    "# read all filenames in the target directory\n",
    "filedir_default = 'C:/Users/YongminHu/Documents/master studies/RealTimeFluorescent/_data/_greywater/2021-03-19-RT' # Just the default, could be changed \n",
    "# filedir_default = './sample_data'\n",
    "\n",
    "# select all .dat files in the specified directory\n",
    "\n",
    "dir_selection =ipywidgets.Text(\n",
    "                               value = filedir_default,\n",
    "                               description = 'File directory',\n",
    "                               layout=Layout(width='50%')\n",
    "                               )\n",
    "ts_read_from_filename = ipywidgets.Checkbox(\n",
    "                                            value = True,\n",
    "                                            description = 'Do you want to read timestamps from filenames?',\n",
    "                                            style={'description_width': 'initial'},\n",
    "                                            layout=Layout(width='50%')\n",
    "                                            )\n",
    "\n",
    "ts_format = ipywidgets.Text(\n",
    "                            value = '%Y-%m-%d-%H-%M',\n",
    "                            decription = 'Format of time in the filenames',\n",
    "                            layout=Layout(width='30%')\n",
    "                            )\n",
    "ts_start_position = ipywidgets.IntText(\n",
    "                                        value = 1,\n",
    "                                        decription = 'The start position of time in the filename (count from zero)',\n",
    "                                        layout=Layout(width='10%')\n",
    "                                        )\n",
    "ts_end_position = ipywidgets.IntText(\n",
    "                                        value = 16,\n",
    "                                        decription = 'The start position of time in the filename (count from zero)',\n",
    "                                        layout=Layout(width='10%')\n",
    "                                        )\n",
    "\n",
    "ts_widget = ipywidgets.Box([ts_format, ts_start_position, ts_end_position])\n",
    "caption0 = ipywidgets.VBox([Label(value='Pleae specify the directory of fluorescence data in the text box below. Example:'),\n",
    "                           Label(value='../../data/introduction/ (relative path)'),\n",
    "                           Label(value='OR'),\n",
    "                           Label(value='C:/Users/Alice/MasterThesis/data/introduction (absolute path)'),\n",
    "                           Label(value='The directory would change automatically after entering new path.')])\n",
    "caption1 = ipywidgets.Label(value='If you want to read the timestamps from the filename, please specify the time format, start and end posistions of time in the filename:')\n",
    "caption2 = ipywidgets.Label(value='Time format reference: https://strftime.org/')\n",
    "caption3 = ipywidgets.VBox([Label(value='Example: \"2020-12-02-22-00-00_R2PEM.dat\"'),\n",
    "                           Label(value='Time format = %Y-%m-%d-%H-%M-%S'),\n",
    "                           Label(value='start position = 1'),\n",
    "                           Label(value='end position = 19')])\n",
    "display(caption0, dir_selection, caption1, ts_read_from_filename, ts_widget, caption2, caption3)\n",
    "\n"
   ]
  },
  {
   "cell_type": "markdown",
   "metadata": {
    "hide_input": true
   },
   "source": [
    "-----------------------------------------\n",
    "# 2. Data preview and parameter selection"
   ]
  },
  {
   "cell_type": "code",
   "execution_count": 3,
   "metadata": {
    "scrolled": false
   },
   "outputs": [
    {
     "data": {
      "application/vnd.jupyter.widget-view+json": {
       "model_id": "cb7992e1a4a24ed9aaff34a5dc4b0f72",
       "version_major": 2,
       "version_minor": 0
      },
      "text/plain": [
       "Tab(children=(Box(children=(Box(children=(Dropdown(description='Filename', layout=Layout(width='max-content'),…"
      ]
     },
     "metadata": {},
     "output_type": "display_data"
    },
    {
     "data": {
      "application/vnd.jupyter.widget-view+json": {
       "model_id": "78c666b2d56e4d2f8749bbb079cad699",
       "version_major": 2,
       "version_minor": 0
      },
      "text/plain": [
       "VBox(children=(Label(value=\"If you see blank space in the short excitation wavelength region,it's likely that …"
      ]
     },
     "metadata": {},
     "output_type": "display_data"
    },
    {
     "data": {
      "application/vnd.jupyter.widget-view+json": {
       "model_id": "92a6d066b541462e84a0291c9bd92c9c",
       "version_major": 2,
       "version_minor": 0
      },
      "text/plain": [
       "Output()"
      ]
     },
     "metadata": {},
     "output_type": "display_data"
    }
   ],
   "source": [
    "%matplotlib inline\n",
    "\n",
    "# Visualization with interaction\n",
    "datdir = dir_selection.value\n",
    "filelist = os.listdir(datdir)\n",
    "datlist = [file for file in filelist if 'M3R0PEM.dat' in file]\n",
    "data_index = []\n",
    "if ts_read_from_filename.value:\n",
    "    tslist = [get_TS_from_filename(file, ts_format=ts_format.value, ts_start_position=ts_start_position.value-1,\n",
    "                                  ts_end_position=ts_end_position.value) for file in datlist]\n",
    "    tslist_sortidx = np.argsort(tslist)\n",
    "    tslist_sorted = [tslist[i] for i in tslist_sortidx]\n",
    "    datlist = [datlist[i] for i in tslist_sortidx]\n",
    "else:\n",
    "    data_index = [file[:-4] for file in datlist]\n",
    "\n",
    "# --------------Create widgets for plotting parameters-------------\n",
    "\n",
    "#---------Tab1: plotting and processing step selection-------\n",
    "autoscale = ipywidgets.Checkbox(value = False,\n",
    "                                description='Autoscale')\n",
    "inner_filter_effect = ipywidgets.Checkbox(value=True, description='Inner filter effect')\n",
    "scattering_correction = ipywidgets.Checkbox(value=True,\n",
    "                                            description='Scattering correction')\n",
    "contour_mask = ipywidgets.Checkbox(value=False,\n",
    "                                        description='Contour detection')\n",
    "gaussian_smoothing = ipywidgets.Checkbox(value=True,\n",
    "                                        description='Gaussian smoothing')\n",
    "scattering_interpolation = ipywidgets.Dropdown(options=['zero','linear','linear2'],\n",
    "                                               description='Scattering interpolation method',\n",
    "                                              style={'description_width': 'initial'})\n",
    "crange_cw = ipywidgets.IntRangeSlider(\n",
    "    value = [0,1000],\n",
    "    min = -1000,\n",
    "    max = 20000,\n",
    "    step = 100,\n",
    "    description = 'Intensity',\n",
    "    continuous_update=False,\n",
    "    style={'description_width': 'initial'})\n",
    "\n",
    "Em_range_display = ipywidgets.IntRangeSlider(\n",
    "    value = [250,600],\n",
    "    min = 200,\n",
    "    max = 820,\n",
    "    step = 10,\n",
    "    description = 'Emission',\n",
    "    continuous_update=False,\n",
    "    style={'description_width': 'initial'})\n",
    "\n",
    "Ex_range_display = ipywidgets.IntRangeSlider(\n",
    "    value = [250,500],\n",
    "    min = 200,\n",
    "    max = 550,\n",
    "    step = 5,\n",
    "    description = 'Excitation',\n",
    "    continuous_update=False,\n",
    "    style={'description_width': 'initial'})\n",
    "\n",
    "filedir = ipywidgets.fixed(datdir)\n",
    "\n",
    "plot_abs = ipywidgets.Checkbox(value=True,\n",
    "                               description='Plot absorbance')\n",
    "\n",
    "filename = ipywidgets.Dropdown(options=datlist,\n",
    "                               description='Filename',\n",
    "                               style={'description_width': 'initial'},\n",
    "                              layout={'width':'max-content'})\n",
    "\n",
    "title = ipywidgets.Checkbox(value=False,\n",
    "                           description='Figure title (time)')\n",
    "\n",
    "ABSxmax = ipywidgets.fixed(0.1)\n",
    "\n",
    "#----------Tab2: Parameter selection----------------\n",
    "\n",
    "gaussian_sigma = ipywidgets.FloatText(value=1, description='gaussian smoothing sigma',\n",
    "                                   style={'description_width': 'initial'})\n",
    "gaussian_truncate = ipywidgets.IntText(value=3, description='gaussian smoothing truncate',\n",
    "                                      style={'description_width': 'initial'})\n",
    "contour_otsu = ipywidgets.Checkbox(value=True, description='OTSU automatic thresholding',\n",
    "                                  style={'description_width': 'initial'})\n",
    "contour_binary_threshold = ipywidgets.IntText(value=50, description='Mannual thresholding (0-255)',\n",
    "                                             style={'description_width': 'initial'})\n",
    "scattering_width = ipywidgets.IntText(value=15, description='Rayleigh scattering width [nm]',\n",
    "                                     style={'description_width': 'initial'})\n",
    "ts_format_plot = ipywidgets.fixed(value=ts_format.value)\n",
    "ts_start_position_plot = ipywidgets.fixed(value=ts_start_position.value-1)\n",
    "ts_end_position_plot = ipywidgets.fixed(value=ts_end_position.value)\n",
    "\n",
    "#---------------------------Interface Layout----------------------\n",
    "\n",
    "form_item_layout = Layout(\n",
    "    display='flex',\n",
    "    flex_flow='row',\n",
    "    justify_content='space-between'\n",
    ")\n",
    "\n",
    "readdata_items = [\n",
    "    ipywidgets.Box([filename], layout=form_item_layout),\n",
    "    ipywidgets.Box([Em_range_display, Ex_range_display, crange_cw], layout=form_item_layout),\n",
    "#    ipywidgets.Box([scattering_correction, scattering_interpolation],layout=form_item_layout),\n",
    "    ipywidgets.Box([gaussian_smoothing, inner_filter_effect, scattering_correction],layout=form_item_layout),\n",
    "    ipywidgets.Box([contour_mask, title, plot_abs],layout=form_item_layout)\n",
    "]\n",
    "\n",
    "readdata = Box(readdata_items, layout=Layout(\n",
    "    display='flex',\n",
    "    flex_flow='column',\n",
    "    border='solid 2px',\n",
    "    align_items='stretch',\n",
    "    width='100%'\n",
    "))\n",
    "\n",
    "parameters_items = [\n",
    "    ipywidgets.Box([gaussian_sigma, gaussian_truncate]),\n",
    "    ipywidgets.Box([scattering_width, scattering_interpolation]),\n",
    "    ipywidgets.Box([contour_otsu, contour_binary_threshold])\n",
    "]\n",
    "\n",
    "parameters = Box(parameters_items, layout=Layout(\n",
    "    display='flex',\n",
    "    flex_flow='column',\n",
    "    border='solid 2px',\n",
    "    align_items='stretch',\n",
    "    width='100%'\n",
    "))\n",
    "\n",
    "tab = ipywidgets.Tab()\n",
    "tab.children=[readdata, parameters]\n",
    "tab.set_title(0, 'Read data')\n",
    "tab.set_title(1, 'Parameters')\n",
    "\n",
    "\n",
    "out_parameters = ipywidgets.interactive_output(plot3DEEM_interact,\n",
    "                                    {'filedir':filedir, 'filename':filename, 'autoscale':autoscale,\n",
    "                                     'crange':crange_cw, 'scattering_correction':scattering_correction, 'inner_filter_effect':inner_filter_effect,\n",
    "                                     'plot_abs':plot_abs, 'ABSxmax':ABSxmax, 'title':title, 'Em_range_display':Em_range_display,\n",
    "                                     'Ex_range_display':Ex_range_display, 'contour_mask':contour_mask, 'gaussian_smoothing':gaussian_smoothing,\n",
    "                                     'scattering_interpolation': scattering_interpolation,'sigma':gaussian_sigma,'truncate':gaussian_truncate,\n",
    "                                     'otsu':contour_otsu, 'binary_threshold':contour_binary_threshold, 'tolerance':scattering_width,\n",
    "                                     'ts_format':ts_format_plot, 'ts_start_position':ts_start_position_plot, 'ts_end_position':ts_end_position_plot\n",
    "                                                       })\n",
    "note_step2 = ipywidgets.VBox([ipywidgets.Label(value=\"If you see blank space in the short excitation wavelength region,\\\n",
    "it's likely that the inner filter effect is too strong.\"),\n",
    "                             ipywidgets.Label(value=\"Please consider adjust the excitation wavelength range.\")])\n",
    "\n",
    "display(tab, note_step2, out_parameters)\n"
   ]
  },
  {
   "cell_type": "markdown",
   "metadata": {},
   "source": [
    "----------------------------------------------------\n",
    "# 3. Stack data\n",
    "\n",
    "For further analysis, the parameters would be set according to the settings in the above interface!\n",
    "\n",
    "PLEASE CHECK THE SETTINGS before going-on!\n"
   ]
  },
  {
   "cell_type": "code",
   "execution_count": 4,
   "metadata": {},
   "outputs": [
    {
     "data": {
      "application/vnd.jupyter.widget-view+json": {
       "model_id": "a498bb6f25024b2a86e4ce140dde018f",
       "version_major": 2,
       "version_minor": 0
      },
      "text/plain": [
       "Label(value='The stack includes all fluorescence data whose filename contains the specified keyword.')"
      ]
     },
     "metadata": {},
     "output_type": "display_data"
    },
    {
     "data": {
      "application/vnd.jupyter.widget-view+json": {
       "model_id": "fcdf910ae87b4bd582a28d3eefa38985",
       "version_major": 2,
       "version_minor": 0
      },
      "text/plain": [
       "interactive(children=(Text(value='PEM.dat', description='Filename searching keyword: ', style=DescriptionStyle…"
      ]
     },
     "metadata": {},
     "output_type": "display_data"
    }
   ],
   "source": [
    "#-------------------------Stack data------------------------------\n",
    "\n",
    "stacking_interact = interactive(\n",
    "                               load_EEMstack_interact,\n",
    "                               {'manual':True, 'manual_name':'Stack data'},\n",
    "                               filedir=ipywidgets.fixed(value=filedir.value), \n",
    "                               scattering_correction=ipywidgets.fixed(value=scattering_correction.value),\n",
    "                               Em_range_display=ipywidgets.fixed(value=Em_range_display.value),\n",
    "                               Ex_range_display=ipywidgets.fixed(value=Ex_range_display.value),\n",
    "                               gaussian_smoothing=ipywidgets.fixed(value=gaussian_smoothing.value),\n",
    "                               inner_filter_effect=ipywidgets.fixed(value=inner_filter_effect.value),\n",
    "                               sigma=ipywidgets.fixed(value=gaussian_sigma.value), \n",
    "                               truncate=ipywidgets.fixed(value=gaussian_truncate.value), \n",
    "                               otsu=ipywidgets.fixed(value=contour_otsu.value), \n",
    "                               binary_threshold=ipywidgets.fixed(value=contour_binary_threshold.value), \n",
    "                               tolerance=ipywidgets.fixed(value=scattering_width.value),\n",
    "                               scattering_interpolation=ipywidgets.fixed(value=scattering_interpolation.value),\n",
    "                               contour_mask=ipywidgets.fixed(value=contour_mask.value), \n",
    "                               keyword_pem=ipywidgets.Text(\n",
    "                                                           value='PEM.dat',\n",
    "                                                           style={'description_width': 'initial'},\n",
    "                                                           description='Filename searching keyword: '\n",
    "                                                           ),\n",
    "                               existing_datlist = ipywidgets.fixed(value=[])\n",
    "                               \n",
    "                               )\n",
    "\n",
    "caption = ipywidgets.Label(value='The stack includes all fluorescence data whose filename contains the specified keyword.')\n",
    "display(caption, stacking_interact)"
   ]
  },
  {
   "cell_type": "markdown",
   "metadata": {},
   "source": [
    "------------------------------------------\n",
    "# 4. Remove data from the data stack\n",
    "\n",
    "Please run the code block even if you don't want to do any operation here.\n",
    "\n",
    "Now the removal is done manually. Potential future updates would be automatic detection of abnormal data"
   ]
  },
  {
   "cell_type": "code",
   "execution_count": 5,
   "metadata": {
    "scrolled": true
   },
   "outputs": [
    {
     "data": {
      "application/vnd.jupyter.widget-view+json": {
       "model_id": "f3d38c4c08154298b337823fc1d80983",
       "version_major": 2,
       "version_minor": 0
      },
      "text/plain": [
       "Label(value='This block is used to remove specific data from the data stack. Please select the data you want t…"
      ]
     },
     "metadata": {},
     "output_type": "display_data"
    },
    {
     "data": {
      "application/vnd.jupyter.widget-view+json": {
       "model_id": "893f8335f15b4a29acbd7b6695144fc3",
       "version_major": 2,
       "version_minor": 0
      },
      "text/plain": [
       "Dropdown(layout=Layout(width='max-content'), options=('2021-03-19-12-09-34-B1C1S2M3R0PEM.dat', '2021-03-19-12-…"
      ]
     },
     "metadata": {},
     "output_type": "display_data"
    },
    {
     "data": {
      "application/vnd.jupyter.widget-view+json": {
       "model_id": "cadfe09032644b30a174cf2edd4610a7",
       "version_major": 2,
       "version_minor": 0
      },
      "text/plain": [
       "Button(description='Remove data', style=ButtonStyle())"
      ]
     },
     "metadata": {},
     "output_type": "display_data"
    },
    {
     "data": {
      "application/vnd.jupyter.widget-view+json": {
       "model_id": "a37b075c943e420e9c74457048af2f33",
       "version_major": 2,
       "version_minor": 0
      },
      "text/plain": [
       "Label(value=\"To reset the data stack to its original state: re-run the block. If you don't want to make any ch…"
      ]
     },
     "metadata": {},
     "output_type": "display_data"
    }
   ],
   "source": [
    "#------------------Remove specific data from the data stack-----------------\n",
    "\n",
    "EEMstack_all, Em_range_cw, Ex_range_cw, datlist_all = stacking_interact.result\n",
    "\n",
    "datlist_filtered = datlist_all[:]\n",
    "EEMstack_filtered = EEMstack_all[:,:,:]\n",
    "idx2remove = []\n",
    "filelist_preview = ipywidgets.Dropdown(options=datlist_all,\n",
    "#                                       description='List of files',\n",
    "                                       style={'description_width': 'initial'},\n",
    "                                       layout={'width':'max-content'})\n",
    "\n",
    "button_update = ipywidgets.Button(description=\"Remove data\")\n",
    "\n",
    "# button_reset = ipywidgets.Button(description=\"Reset data\")\n",
    "\n",
    "def update_filelist(*arg):\n",
    "    idx2remove.append(datlist_all.index(filelist_preview.value))\n",
    "    datlist_filtered.remove(filelist_preview.value)\n",
    "    \n",
    "button_update.on_click(update_filelist)\n",
    "caption = ipywidgets.Label('This block is used to remove specific data from the data stack. Please select the data you want to remove:')\n",
    "caption2 = ipywidgets.Label(\"To reset the data stack to its original state: re-run the block. If you don't want to make any changes here, please skip.\")\n",
    "display(caption, filelist_preview, button_update, caption2)\n"
   ]
  },
  {
   "cell_type": "markdown",
   "metadata": {},
   "source": [
    "-------------------------------------\n",
    "# 5. Data stack analysis"
   ]
  },
  {
   "cell_type": "code",
   "execution_count": 6,
   "metadata": {
    "scrolled": false
   },
   "outputs": [
    {
     "data": {
      "application/vnd.jupyter.widget-view+json": {
       "model_id": "f0250aa426a1474d87a2203dd0f0eef9",
       "version_major": 2,
       "version_minor": 0
      },
      "text/plain": [
       "Output()"
      ]
     },
     "metadata": {},
     "output_type": "display_data"
    },
    {
     "data": {
      "application/vnd.jupyter.widget-view+json": {
       "model_id": "cb4bc5f258a2419da5df3cf42d13a590",
       "version_major": 2,
       "version_minor": 0
      },
      "text/plain": [
       "Tab(children=(Box(children=(Box(children=(Label(value='Select the range of data for further analysis'),)), Box…"
      ]
     },
     "metadata": {},
     "output_type": "display_data"
    }
   ],
   "source": [
    "%matplotlib inline\n",
    "#--------------------Data stack analysis---------------\n",
    "pd.set_option('display.max_rows', None)\n",
    "\n",
    "# Are there any changes in the last step?\n",
    "data_index_cw = []\n",
    "\n",
    "if datlist_filtered==datlist_all:\n",
    "    datlist_cw = datlist_all[:]\n",
    "    EEMstack_cw = EEMstack_all[:,:,:]\n",
    "else:\n",
    "    datlist_cw = datlist_filtered[:]\n",
    "    EEMstack_cw = np.delete(EEMstack_filtered, idx2remove, 0)\n",
    "    \n",
    "if ts_read_from_filename.value:\n",
    "    timestamps_cw = [get_TS_from_filename(dat, ts_format.value, ts_start_position.value-1, ts_end_position.value)\n",
    "                for dat in datlist_cw ]\n",
    "    timestamps_cw_sortidx = np.argsort(timestamps_cw)\n",
    "    timestamps_cw = [timestamps_cw[i] for i in timestamps_cw_sortidx]\n",
    "    datlist_cw = [datlist_cw[i] for i in timestamps_cw_sortidx]\n",
    "    EEMstack_cw = EEMstack_cw[timestamps_cw_sortidx]\n",
    "else:\n",
    "    data_index_cw = [file[:-4] for file in datlist_cw]\n",
    "    timestamps_cw = False\n",
    "\n",
    "#---------------Create widgets------------------------\n",
    "#----------------General widgets------------\n",
    "out = ipywidgets.Output()\n",
    "display(out)\n",
    "\n",
    "button_clear_display=ipywidgets.Button(description='Clear display')\n",
    "def clear_display_with_button(b):\n",
    "    clear_output()\n",
    "    display(tab)\n",
    "button_clear_display.on_click(clear_display_with_button)\n",
    "\n",
    "#-------Tab1: File range selection----------\n",
    "\n",
    "Part51_widgets = Widgets51(datlist_cw)\n",
    "data_range_items, range1, range2 = Part51_widgets.generate_widgets()\n",
    "\n",
    "data_range = Box(data_range_items, layout=Layout(display='flex', \n",
    "                                                 flex_flow='column', \n",
    "                                                 border='none', \n",
    "                                                 align_items='stretch', \n",
    "                                                 width='80%'))\n",
    "\n",
    "\n",
    "#-------Tab2: Pixel statistics------------------\n",
    "\n",
    "Part52_widgets = Widgets52(EEMstack_cw, datlist_cw, range1, range2, Em_range_cw, Ex_range_cw, timestamps_cw)\n",
    "pixel_statistics_items = Part52_widgets.generate_widgets()\n",
    "\n",
    "pixel_statistics_items.append(ipywidgets.Box([button_clear_display]))\n",
    "pixel_statistics = Box(pixel_statistics_items, layout=Layout(display='flex',\n",
    "                                                             flex_flow='column',\n",
    "                                                             border='none',\n",
    "                                                             align_items='stretch',\n",
    "                                                             width='100%'))\n",
    "\n",
    "#-------Tab3: EEM statistics---------\n",
    "\n",
    "Part53_widgets = Widgets53(EEMstack_cw, datlist_cw, range1, range2, Em_range_cw, Ex_range_cw, timestamps_cw, crange_cw)\n",
    "eem_statistics_items = Part53_widgets.generate_widgets()\n",
    "\n",
    "eem_statistics_items.append(ipywidgets.Box([button_clear_display]))\n",
    "\n",
    "eem_statistics = Box(eem_statistics_items, layout=Layout(display='flex',\n",
    "                                                         flex_flow='column',\n",
    "                                                         border='none',\n",
    "                                                         align_items='stretch',\n",
    "                                                         width='100%'))\n",
    "\n",
    "#-------Tab4: Region integration------------\n",
    "\n",
    "region_integration_items = [\n",
    "    ipywidgets.Box([Label(value='Under construction')]),\n",
    "    ipywidgets.Box([button_clear_display], layout=form_item_layout),\n",
    "]\n",
    "\n",
    "region_integration = Box(region_integration_items, layout=Layout(\n",
    "    display='flex',\n",
    "    flex_flow='column',\n",
    "    border='none',\n",
    "    align_items='stretch',\n",
    "    width='60%'\n",
    "))\n",
    "\n",
    "\n",
    "#-------Tab5: Stack decomposition----------\n",
    "\n",
    "Part55_widgets = Widgets55(data_index, data_index_cw, timestamps_cw, EEMstack_cw, datlist_cw, range1, \n",
    "                         range2, Em_range_cw, Ex_range_cw)\n",
    "\n",
    "decomposition_items = Part55_widgets.generate_widgets()\n",
    "\n",
    "decomposition = Box(decomposition_items, layout=Layout(\n",
    "    display='flex',\n",
    "    flex_flow='column',\n",
    "    border='none',\n",
    "    align_items='stretch',\n",
    "    width='100%'\n",
    "))\n",
    "\n",
    "\n",
    "# -------Tab6: Data reconstruction----------\n",
    "\n",
    "Part56_widgets = Widgets56(Part55_widgets.decomposition_method_list, Part55_widgets.rank_display, crange_cw, \n",
    "                           data_index, data_index_cw, timestamps_cw, EEMstack_cw, datlist_cw, range1, \n",
    "                           range2, Em_range_cw, Ex_range_cw)\n",
    "decomposition_reconstruction_items = Part56_widgets.generate_widgets()\n",
    "decomposition_reconstruction_items.append(ipywidgets.Box([button_clear_display]))\n",
    "\n",
    "decomposition_reconstruction = Box(decomposition_reconstruction_items, layout=Layout(\n",
    "    display='flex',\n",
    "    flex_flow='column',\n",
    "    border='none',\n",
    "    align_items='stretch',\n",
    "    width='80%'\n",
    "))\n",
    "\n",
    "# -----------------Assembly tabs-------------------\n",
    "\n",
    "tab = ipywidgets.Tab()\n",
    "tab.children=[data_range, pixel_statistics, eem_statistics, region_integration,\n",
    "              decomposition, decomposition_reconstruction]\n",
    "tab.set_title(0, '1. Data range selection')\n",
    "tab.set_title(1, '2. Pixel statistics')\n",
    "tab.set_title(2, '3. EEM statistics')\n",
    "tab.set_title(3, '4. Region integraion')\n",
    "tab.set_title(4, '5. Stack decomposition')\n",
    "tab.set_title(5, '6. Stack reconstruction')\n",
    "display(tab)"
   ]
  },
  {
   "cell_type": "markdown",
   "metadata": {},
   "source": [
    "# 6. Save PARAFAC result"
   ]
  },
  {
   "cell_type": "code",
   "execution_count": 8,
   "metadata": {},
   "outputs": [
    {
     "data": {
      "application/vnd.jupyter.widget-view+json": {
       "model_id": "c4fc76d8ebd2452e9e5e42673aa6a063",
       "version_major": 2,
       "version_minor": 0
      },
      "text/plain": [
       "Box(children=(Box(children=(Label(value='Mandatory fields are marked with *'),)), Box(children=(Text(value='C:…"
      ]
     },
     "metadata": {},
     "output_type": "display_data"
    }
   ],
   "source": [
    "parafac_table, J_df, K_df = Part55_widgets.button_decomposition_interact.result\n",
    "Part6_widgets = Widgets6(parafac_table, J_df, K_df, inner_filter_effect, scattering_correction, gaussian_smoothing, \n",
    "                         Part55_widgets.decomposition_method_list)\n",
    "output_items = Part6_widgets.generate_widgets()\n",
    "decomposition_output = Box(output_items, layout=Layout(\n",
    "    display='flex',\n",
    "    flex_flow='column',\n",
    "    border='none',\n",
    "    align_items='stretch',\n",
    "    width='80%'\n",
    "))\n",
    "display(decomposition_output)"
   ]
  },
  {
   "cell_type": "markdown",
   "metadata": {},
   "source": [
    "# Test"
   ]
  },
  {
   "cell_type": "code",
   "execution_count": null,
   "metadata": {},
   "outputs": [],
   "source": []
  }
 ],
 "metadata": {
  "hide_input": false,
  "kernelspec": {
   "display_name": "Python 3",
   "language": "python",
   "name": "python3"
  },
  "language_info": {
   "codemirror_mode": {
    "name": "ipython",
    "version": 3
   },
   "file_extension": ".py",
   "mimetype": "text/x-python",
   "name": "python",
   "nbconvert_exporter": "python",
   "pygments_lexer": "ipython3",
   "version": "3.6.8"
  }
 },
 "nbformat": 4,
 "nbformat_minor": 2
}
