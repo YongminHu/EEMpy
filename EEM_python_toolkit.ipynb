{
 "cells": [
  {
   "cell_type": "markdown",
   "metadata": {},
   "source": [
    "# Python toolkit for fluorescence data processing\n",
    "\n",
    "Author: Yongmin Hu (yongmin.hu@eawag.ch)\n",
    "\n",
    "Last update: 2022-01-03\n",
    "\n",
    "Before running the toolkit, please go through checklist_fluorescence_python_toolkit.doc.\n",
    "\n",
    "If you change the input in any of the code blocks, please re-run all blocks after."
   ]
  },
  {
   "cell_type": "markdown",
   "metadata": {},
   "source": [
    "# 0. Import packages"
   ]
  },
  {
   "cell_type": "code",
   "execution_count": 1,
   "metadata": {},
   "outputs": [],
   "source": [
    "import matplotlib\n",
    "import os\n",
    "import numpy as np\n",
    "import matplotlib.pyplot as plt\n",
    "import re\n",
    "\n",
    "from datetime import datetime, timedelta, date\n",
    "from EEMprocessing import *\n",
    "from generate_widgets import *\n",
    "from ipywidgets import interact, interactive, interact_manual\n",
    "from ipywidgets import Layout, Button, Dropdown, Label, FloatText, Text, IntSlider, Checkbox, Box\n",
    "from IPython.display import display, clear_output\n",
    "from traitlets import traitlets\n",
    "\n",
    "\n",
    "matplotlib.rcParams['figure.dpi'] = 80\n"
   ]
  },
  {
   "cell_type": "markdown",
   "metadata": {},
   "source": [
    "-------------------------------------------\n",
    "# 1. Specify data directory and filename format"
   ]
  },
  {
   "cell_type": "code",
   "execution_count": 2,
   "metadata": {
    "scrolled": false
   },
   "outputs": [
    {
     "data": {
      "application/vnd.jupyter.widget-view+json": {
       "model_id": "0d2b2705565c4757bba530ffd296cddb",
       "version_major": 2,
       "version_minor": 0
      },
      "text/plain": [
       "Box(children=(VBox(children=(Label(value='Pleae specify the directory of fluorescence data in the text box bel…"
      ]
     },
     "metadata": {},
     "output_type": "display_data"
    }
   ],
   "source": [
    "# read all filenames in the target directory\n",
    "filedir_default = '_data/_greywater/20211124_RT' # Just the default, could be changed\n",
    "\n",
    "Part1_widgets = Widgets1(filedir_default)\n",
    "data_selection = Part1_widgets.generate_widgets()\n",
    "display(data_selection)\n"
   ]
  },
  {
   "cell_type": "markdown",
   "metadata": {
    "hide_input": true
   },
   "source": [
    "-----------------------------------------\n",
    "# 2. Data preview and parameter selection"
   ]
  },
  {
   "cell_type": "code",
   "execution_count": 40,
   "metadata": {
    "scrolled": false
   },
   "outputs": [
    {
     "data": {
      "application/vnd.jupyter.widget-view+json": {
       "model_id": "5784b423b46145fa8e35904c31fac6cd",
       "version_major": 2,
       "version_minor": 0
      },
      "text/plain": [
       "Tab(children=(Box(children=(Box(children=(Dropdown(description='Filename', layout=Layout(width='max-content'),…"
      ]
     },
     "metadata": {},
     "output_type": "display_data"
    },
    {
     "data": {
      "application/vnd.jupyter.widget-view+json": {
       "model_id": "511b982dabf74110859089db50870dd2",
       "version_major": 2,
       "version_minor": 0
      },
      "text/plain": [
       "VBox(children=(Label(value=\"If you see blank space in the short excitation wavelength region,        it's like…"
      ]
     },
     "metadata": {},
     "output_type": "display_data"
    },
    {
     "data": {
      "application/vnd.jupyter.widget-view+json": {
       "model_id": "f90dbedcafc3481fa78d19e12ba8f2b5",
       "version_major": 2,
       "version_minor": 0
      },
      "text/plain": [
       "Output()"
      ]
     },
     "metadata": {},
     "output_type": "display_data"
    }
   ],
   "source": [
    "# Visualization with interaction\n",
    "datdir = Part1_widgets.dir_selection.value\n",
    "filelist = os.listdir(datdir)\n",
    "datlist = [file for file in filelist if 'PEM.dat' in file]\n",
    "data_index = []\n",
    "if Part1_widgets.ts_read_from_filename.value:\n",
    "    tslist = [get_TS_from_filename(file, ts_format=Part1_widgets.ts_format.value, \n",
    "                                   ts_start_position=Part1_widgets.ts_start_position.value-1,\n",
    "                                   ts_end_position=Part1_widgets.ts_end_position.value) for file in datlist]\n",
    "    tslist_sortidx = np.argsort(tslist)\n",
    "    tslist_sorted = [tslist[i] for i in tslist_sortidx]\n",
    "    datlist = [datlist[i] for i in tslist_sortidx]\n",
    "else:\n",
    "    data_index = [file[:-4] for file in datlist]\n",
    "    \n",
    "# --------------Create widgets for plotting parameters-------------\n",
    "\n",
    "intensity_range = (0,3000,100) # (min, max, step）\n",
    "em_range = (250,600,10)\n",
    "ex_range = (250,500,10)\n",
    "\n",
    "ts_format = Part1_widgets.ts_format.value\n",
    "ts_start_position = Part1_widgets.ts_start_position.value\n",
    "ts_end_position = Part1_widgets.ts_end_position.value\n",
    "\n",
    "Part2and3_widgets = Widgets2and3(intensity_range, em_range, ex_range, datdir, datlist, ts_format, ts_start_position,\n",
    "                 ts_end_position)\n",
    "tab2, note_step2, out_parameters = Part2and3_widgets.generate_widgets()\n",
    "\n",
    "display(tab2, note_step2, out_parameters)\n"
   ]
  },
  {
   "cell_type": "markdown",
   "metadata": {},
   "source": [
    "----------------------------------------------------\n",
    "# 3. Stack data\n",
    "\n",
    "For further analysis, the parameters would be set according to the settings in the above interface!\n",
    "\n",
    "PLEASE CHECK THE SETTINGS before going-on!\n"
   ]
  },
  {
   "cell_type": "code",
   "execution_count": 41,
   "metadata": {},
   "outputs": [
    {
     "data": {
      "application/vnd.jupyter.widget-view+json": {
       "model_id": "90c00a9eed7843bb84e01659c7b91096",
       "version_major": 2,
       "version_minor": 0
      },
      "text/plain": [
       "Label(value='The stack includes all fluorescence data whose filename contains the specified keyword.')"
      ]
     },
     "metadata": {},
     "output_type": "display_data"
    },
    {
     "data": {
      "application/vnd.jupyter.widget-view+json": {
       "model_id": "a418925c0bbf49ee9b04d4d2b8acbd6f",
       "version_major": 2,
       "version_minor": 0
      },
      "text/plain": [
       "interactive(children=(Text(value='PEM.dat', description='Filename searching keyword: ', style=DescriptionStyle…"
      ]
     },
     "metadata": {},
     "output_type": "display_data"
    }
   ],
   "source": [
    "#-------------------------Stack data------------------------------\n",
    "stacking_interact = Part2and3_widgets.generate_widgets2()\n",
    "caption = ipywidgets.Label(value='The stack includes all fluorescence data whose filename contains the specified keyword.')\n",
    "display(caption, stacking_interact)"
   ]
  },
  {
   "cell_type": "markdown",
   "metadata": {},
   "source": [
    "------------------------------------------\n",
    "# 4. Remove unwanted data from the data stack\n",
    "\n",
    "Please run the code block even if you don't want to do any operation here."
   ]
  },
  {
   "cell_type": "code",
   "execution_count": 42,
   "metadata": {
    "scrolled": false
   },
   "outputs": [
    {
     "data": {
      "application/vnd.jupyter.widget-view+json": {
       "model_id": "56066b8ee10d40f195bc04d2444b96a0",
       "version_major": 2,
       "version_minor": 0
      },
      "text/plain": [
       "Label(value='This block is used to remove specific data from the data stack. Please select the data you want t…"
      ]
     },
     "metadata": {},
     "output_type": "display_data"
    },
    {
     "data": {
      "application/vnd.jupyter.widget-view+json": {
       "model_id": "3185c8887ded4e5b8cc5b10520ce2ad3",
       "version_major": 2,
       "version_minor": 0
      },
      "text/plain": [
       "Tab(children=(Box(children=(Box(children=(Output(),), layout=Layout(display='flex', flex_flow='row', justify_c…"
      ]
     },
     "metadata": {},
     "output_type": "display_data"
    },
    {
     "data": {
      "application/vnd.jupyter.widget-view+json": {
       "model_id": "d116854fe6f347f1bc980eef0c640246",
       "version_major": 2,
       "version_minor": 0
      },
      "text/plain": [
       "Label(value=\"To reset the data stack to its original state: re-run the block. If you don't want to make any ch…"
      ]
     },
     "metadata": {},
     "output_type": "display_data"
    },
    {
     "name": "stdout",
     "output_type": "stream",
     "text": [
      "\"B1S62021-04-14-14-00-00R3PEM.dat\" has been removed\n",
      "\"B1S32021-04-14-16-00-00R3PEM.dat\" has been removed\n"
     ]
    }
   ],
   "source": [
    "#------------------Remove specific data from the data stack-----------------\n",
    "\n",
    "eem_stack_all, em_range_cw, ex_range_cw, datlist_all = stacking_interact.result\n",
    "\n",
    "Part41_widgets = Widgets41(datlist, Part2and3_widgets.preview_parameter_dict)\n",
    "\n",
    "manual_cleaning = Part41_widgets.generate_widgets()\n",
    "\n",
    "tab4 = ipywidgets.Tab()\n",
    "tab4.children = [manual_cleaning]\n",
    "tab4.set_title(0, 'Manual cleaning')\n",
    "\n",
    "caption = ipywidgets.Label(\n",
    "    'This block is used to remove specific data from the data stack. Please select the data you want to remove:')\n",
    "caption2 = ipywidgets.Label(\n",
    "    \"To reset the data stack to its original state: re-run the block. If you don't want to make any changes here,\"\n",
    "    \" please skip.\")\n",
    "\n",
    "display(caption, tab4, caption2)\n"
   ]
  },
  {
   "cell_type": "markdown",
   "metadata": {},
   "source": [
    "-------------------------------------\n",
    "# 5. Data stack analysis"
   ]
  },
  {
   "cell_type": "code",
   "execution_count": 43,
   "metadata": {
    "scrolled": false
   },
   "outputs": [
    {
     "data": {
      "application/vnd.jupyter.widget-view+json": {
       "model_id": "7fe5855e6e9c4556a2e8d3fcb8e9b357",
       "version_major": 2,
       "version_minor": 0
      },
      "text/plain": [
       "Tab(children=(Box(children=(Box(children=(Label(value='Select the range of data for further analysis'),)), Box…"
      ]
     },
     "metadata": {},
     "output_type": "display_data"
    }
   ],
   "source": [
    "%matplotlib inline\n",
    "#--------------------Data stack analysis---------------\n",
    "pd.set_option('display.max_rows', None)\n",
    "datlist_filtered = Part41_widgets.datlist_filtered\n",
    "idx2remove = Part41_widgets.idx2remove\n",
    "\n",
    "# Are there any changes in the last step?\n",
    "data_index_cw = []\n",
    "\n",
    "if datlist_filtered==datlist_all:\n",
    "    datlist_cw = datlist_all[:]\n",
    "    eem_stack_cw = eem_stack_all[:,:,:]\n",
    "else:\n",
    "    datlist_cw = datlist_filtered[:]\n",
    "    eem_stack_cw = np.delete(eem_stack_all, idx2remove, 0)\n",
    "    \n",
    "if Part1_widgets.ts_read_from_filename.value:\n",
    "    timestamps_cw = [get_TS_from_filename(dat, Part1_widgets.ts_format.value, \n",
    "                                          Part1_widgets.ts_start_position.value-1, \n",
    "                                          Part1_widgets.ts_end_position.value)\n",
    "                for dat in datlist_cw ]\n",
    "    timestamps_cw_sortidx = np.argsort(timestamps_cw)\n",
    "    timestamps_cw = [timestamps_cw[i] for i in timestamps_cw_sortidx]\n",
    "    datlist_cw = [datlist_cw[i] for i in timestamps_cw_sortidx]\n",
    "    eem_stack_cw = eem_stack_cw[timestamps_cw_sortidx]\n",
    "else:\n",
    "    data_index_cw = [file[:-4] for file in datlist_cw]\n",
    "    timestamps_cw = False\n",
    "\n",
    "#---------------Create widgets------------------------\n",
    "#----------------General widgets------------\n",
    "out = ipywidgets.Output()\n",
    "display(out)\n",
    "\n",
    "button_clear_display=ipywidgets.Button(description='Clear display')\n",
    "def clear_display_with_button(b):\n",
    "    clear_output()\n",
    "    display(tab)\n",
    "button_clear_display.on_click(clear_display_with_button)\n",
    "\n",
    "#-------Tab1: File range selection----------\n",
    "\n",
    "Part51_widgets = Widgets51(datlist_cw)\n",
    "data_range_items, range1, range2 = Part51_widgets.generate_widgets()\n",
    "\n",
    "data_range = Box(data_range_items,\n",
    "                 layout=Layout(display='flex', flex_flow='column', border='none', align_items='stretch', width='80%'))\n",
    "\n",
    "\n",
    "#-------Tab2: Pixel statistics------------------\n",
    "\n",
    "Part52_widgets = Widgets52(eem_stack_cw, datlist_cw, range1, range2, em_range_cw, ex_range_cw, timestamps_cw)\n",
    "pixel_statistics_items = Part52_widgets.generate_widgets()\n",
    "\n",
    "pixel_statistics_items.append(ipywidgets.Box([button_clear_display]))\n",
    "pixel_statistics = Box(pixel_statistics_items, \n",
    "                       layout=Layout(display='flex',flex_flow='column',border='none',align_items='stretch',width='100%'))\n",
    "\n",
    "#-------Tab3: EEM statistics---------\n",
    "\n",
    "Part53_widgets = Widgets53(eem_stack_cw, datlist_cw, range1, range2, em_range_cw, ex_range_cw, timestamps_cw, \n",
    "                           Part2and3_widgets.crange_cw)\n",
    "eem_statistics_items = Part53_widgets.generate_widgets()\n",
    "\n",
    "eem_statistics_items.append(ipywidgets.Box([button_clear_display]))\n",
    "\n",
    "eem_statistics = Box(eem_statistics_items, \n",
    "                     layout=Layout(display='flex',flex_flow='column',border='none',align_items='stretch',width='100%'))\n",
    "\n",
    "#-------Tab4: Region integration------------\n",
    "\n",
    "region_integration_items = [\n",
    "    ipywidgets.Box([Label(value='Under construction')]),\n",
    "    ipywidgets.Box([button_clear_display], layout=form_item_layout),\n",
    "]\n",
    "\n",
    "region_integration = Box(region_integration_items, \n",
    "                         layout=Layout(display='flex',flex_flow='column',border='none',align_items='stretch',width='60%'))\n",
    "\n",
    "\n",
    "#-------Tab5: Stack decomposition----------\n",
    "\n",
    "Part55_widgets = Widgets55(data_index, data_index_cw, timestamps_cw, eem_stack_cw, datlist_cw, range1, \n",
    "                         range2, em_range_cw, ex_range_cw)\n",
    "\n",
    "decomposition_items = Part55_widgets.generate_widgets()\n",
    "\n",
    "decomposition = Box(decomposition_items, \n",
    "                    layout=Layout(display='flex',flex_flow='column',border='none',align_items='stretch',width='100%'))\n",
    "\n",
    "\n",
    "# -------Tab6: Data reconstruction----------\n",
    "\n",
    "Part56_widgets = Widgets56(Part55_widgets.decomposition_method_list, Part55_widgets.rank_display, Part2and3_widgets.crange_cw, \n",
    "                           data_index, data_index_cw, timestamps_cw, eem_stack_cw, datlist_cw, range1, \n",
    "                           range2, em_range_cw, ex_range_cw)\n",
    "decomposition_reconstruction_items = Part56_widgets.generate_widgets()\n",
    "decomposition_reconstruction_items.append(ipywidgets.Box([button_clear_display]))\n",
    "\n",
    "decomposition_reconstruction = Box(decomposition_reconstruction_items, \n",
    "                                   layout=Layout(display='flex',flex_flow='column',border='none',align_items='stretch',width='80%'))\n",
    "\n",
    "# -----------------Assembly tabs-------------------\n",
    "\n",
    "tab = ipywidgets.Tab() \n",
    "tab.children=[data_range, pixel_statistics, eem_statistics, region_integration,\n",
    "              decomposition, decomposition_reconstruction]\n",
    "# tab2 = ipywidgets.Tab()\n",
    "# tab2.children = [decomposition_reconstruction]\n",
    "# tab.children=[data_range, pixel_statistics, eem_statistics, region_integration,\n",
    "#               decomposition, tab2]\n",
    "tab.set_title(0, '1. Data range selection')\n",
    "tab.set_title(1, '2. Pixel statistics')\n",
    "tab.set_title(2, '3. EEM statistics')\n",
    "tab.set_title(3, '4. Region integraion')\n",
    "tab.set_title(4, '5. Stack decomposition')\n",
    "tab.set_title(5, '6. Stack reconstruction')\n",
    "display(tab)"
   ]
  },
  {
   "cell_type": "markdown",
   "metadata": {},
   "source": [
    "# 6. Save PARAFAC result"
   ]
  },
  {
   "cell_type": "code",
   "execution_count": 39,
   "metadata": {},
   "outputs": [
    {
     "data": {
      "application/vnd.jupyter.widget-view+json": {
       "model_id": "981fc4a9d71743559941a6e075e5b88f",
       "version_major": 2,
       "version_minor": 0
      },
      "text/plain": [
       "Box(children=(Box(children=(Label(value='Mandatory fields are marked with *'),)), Box(children=(Text(value='_d…"
      ]
     },
     "metadata": {},
     "output_type": "display_data"
    }
   ],
   "source": [
    "score_df, ex_df, em_df = Part55_widgets.button_decomposition_interact.result\n",
    "Part6_widgets = Widgets6(score_df, ex_df, em_df, Part1_widgets.dir_selection.value, Part2and3_widgets.inner_filter_effect, \n",
    "                         Part2and3_widgets.scattering_correction, Part2and3_widgets.gaussian_smoothing, \n",
    "                         Part55_widgets.decomposition_method_list)\n",
    "output_items = Part6_widgets.generate_widgets()\n",
    "decomposition_output = Box(output_items, layout=Layout(\n",
    "    display='flex',\n",
    "    flex_flow='column',\n",
    "    border='none',\n",
    "    align_items='stretch',\n",
    "    width='80%'\n",
    "))\n",
    "display(decomposition_output)"
   ]
  },
  {
   "cell_type": "markdown",
   "metadata": {},
   "source": [
    "# Test"
   ]
  },
  {
   "cell_type": "code",
   "execution_count": 56,
   "metadata": {},
   "outputs": [
    {
     "data": {
      "text/plain": [
       "array([[ 2, 20],\n",
       "       [ 6, 40]])"
      ]
     },
     "execution_count": 56,
     "metadata": {},
     "output_type": "execute_result"
    }
   ],
   "source": [
    "a = np.array([[[1,2],[3,4]],[[1,2],[3,4]]])\n",
    "b = np.array([2,10], np.newaxis)\n",
    "\n",
    "[2,10]\n",
    "np.multiply(a[0], b)"
   ]
  },
  {
   "cell_type": "code",
   "execution_count": 23,
   "metadata": {},
   "outputs": [
    {
     "data": {
      "text/plain": [
       "[<matplotlib.lines.Line2D at 0x2e509ed3880>]"
      ]
     },
     "execution_count": 23,
     "metadata": {},
     "output_type": "execute_result"
    },
    {
     "data": {
      "image/png": "[encoded data removed]",
      "text/plain": [
       "<Figure size 720x360 with 1 Axes>"
      ]
     },
     "metadata": {
      "needs_background": "light"
     },
     "output_type": "display_data"
    }
   ],
   "source": [
    "plt.figure(figsize=(10,5))\n",
    "plt.plot(parafac_table.index, parafac_table['component 3'])\n",
    "# plt.ylim([15,25])"
   ]
  },
  {
   "cell_type": "code",
   "execution_count": null,
   "metadata": {},
   "outputs": [],
   "source": []
  }
 ],
 "metadata": {
  "hide_input": false,
  "kernelspec": {
   "display_name": "Python 3",
   "language": "python",
   "name": "python3"
  },
  "language_info": {
   "codemirror_mode": {
    "name": "ipython",
    "version": 3
   },
   "file_extension": ".py",
   "mimetype": "text/x-python",
   "name": "python",
   "nbconvert_exporter": "python",
   "pygments_lexer": "ipython3",
   "version": "3.8.8"
  }
 },
 "nbformat": 4,
 "nbformat_minor": 2
}
