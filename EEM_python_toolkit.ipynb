{
 "cells": [
  {
   "cell_type": "markdown",
   "metadata": {},
   "source": [
    "# Python toolkit for fluorescence data processing\n",
    "\n",
    "Author: Yongmin Hu (yongmin.hu@eawag.ch, yongminhu@outlook.com)\n",
    "\n",
    "Last update: 2021-03-07\n",
    "\n",
    "Before running the toolkit, please go through checklist_fluorescence_python_toolkit.doc.\n",
    "\n",
    "If you change the input in any of the section, please re-run all sections after."
   ]
  },
  {
   "cell_type": "markdown",
   "metadata": {},
   "source": [
    "# 0. Import packages"
   ]
  },
  {
   "cell_type": "code",
   "execution_count": 1,
   "metadata": {},
   "outputs": [],
   "source": [
    "import matplotlib\n",
    "import os\n",
    "import numpy as np\n",
    "import matplotlib.pyplot as plt\n",
    "import re\n",
    "import ipywidgets\n",
    "from datetime import datetime, timedelta\n",
    "from EEMprocessing import *\n",
    "\n",
    "from ipywidgets import interact, interactive, interact_manual\n",
    "from ipywidgets import Layout, Button, Dropdown, Label, FloatText, Text, IntSlider, Checkbox, Box\n",
    "from IPython.display import display, clear_output\n",
    "from traitlets import traitlets\n",
    "\n",
    "matplotlib.rcParams['figure.dpi'] = 80"
   ]
  },
  {
   "cell_type": "markdown",
   "metadata": {},
   "source": [
    "-------------------------------------------\n",
    "# 1. Specify data directory and filename format"
   ]
  },
  {
   "cell_type": "code",
   "execution_count": 2,
   "metadata": {
    "scrolled": false
   },
   "outputs": [
    {
     "data": {
      "application/vnd.jupyter.widget-view+json": {
       "model_id": "a84704b4ea17407d8d6e1179e1f259ca",
       "version_major": 2,
       "version_minor": 0
      },
      "text/plain": [
       "VBox(children=(Label(value='Pleae specify the directory of fluorescence data in the text box below. Example:')…"
      ]
     },
     "metadata": {},
     "output_type": "display_data"
    },
    {
     "data": {
      "application/vnd.jupyter.widget-view+json": {
       "model_id": "d55d546d0eb64ae797bd0c9e3dbf41c3",
       "version_major": 2,
       "version_minor": 0
      },
      "text/plain": [
       "Text(value='../../../_data/_waterwall/Disruption010221', description='File directory', layout=Layout(width='50…"
      ]
     },
     "metadata": {},
     "output_type": "display_data"
    },
    {
     "data": {
      "application/vnd.jupyter.widget-view+json": {
       "model_id": "75b7e9a163ee41c69ecd26cb89ebae64",
       "version_major": 2,
       "version_minor": 0
      },
      "text/plain": [
       "Label(value='If you want to read the timestamps from the filename, please specify the time format, start and e…"
      ]
     },
     "metadata": {},
     "output_type": "display_data"
    },
    {
     "data": {
      "application/vnd.jupyter.widget-view+json": {
       "model_id": "29ee4901a37143efb3892522fef22884",
       "version_major": 2,
       "version_minor": 0
      },
      "text/plain": [
       "Checkbox(value=True, description='Do you want to read timestamps from filenames?', layout=Layout(width='50%'),…"
      ]
     },
     "metadata": {},
     "output_type": "display_data"
    },
    {
     "data": {
      "application/vnd.jupyter.widget-view+json": {
       "model_id": "63c01870418f4bdfba1c3ffc6bc5eb3f",
       "version_major": 2,
       "version_minor": 0
      },
      "text/plain": [
       "Box(children=(Text(value='%Y-%m-%d-%H-%M', layout=Layout(width='30%')), IntText(value=5, layout=Layout(width='…"
      ]
     },
     "metadata": {},
     "output_type": "display_data"
    },
    {
     "data": {
      "application/vnd.jupyter.widget-view+json": {
       "model_id": "4cf69ffa13d7459487108406f1c83300",
       "version_major": 2,
       "version_minor": 0
      },
      "text/plain": [
       "Label(value='Time format reference: https://strftime.org/')"
      ]
     },
     "metadata": {},
     "output_type": "display_data"
    },
    {
     "data": {
      "application/vnd.jupyter.widget-view+json": {
       "model_id": "b4db5fd7e52a4c15931f28d56ba9a4e6",
       "version_major": 2,
       "version_minor": 0
      },
      "text/plain": [
       "VBox(children=(Label(value='Example: \"2020-12-02-22-00-00_R2PEM.dat\"'), Label(value='Time format = %Y-%m-%d-%H…"
      ]
     },
     "metadata": {},
     "output_type": "display_data"
    }
   ],
   "source": [
    "# read all filenames in the target directory\n",
    "        \n",
    "\n",
    "#filedir_default = '../../../_data/_greywater/2021-03-01-regrowth' # Just the default, could be changed \n",
    "filedir_default = '../../../_data/_waterwall/Disruption010221'\n",
    "\n",
    "# select all .dat files in the specified directory\n",
    "\n",
    "dir_selection =ipywidgets.Text(\n",
    "                               value = filedir_default,\n",
    "                               description = 'File directory',\n",
    "                               layout=Layout(width='50%')\n",
    "                               )\n",
    "ts_read_from_filename = ipywidgets.Checkbox(\n",
    "                                            value = True,\n",
    "                                            description = 'Do you want to read timestamps from filenames?',\n",
    "                                            style={'description_width': 'initial'},\n",
    "                                            layout=Layout(width='50%')\n",
    "                                            )\n",
    "\n",
    "ts_format = ipywidgets.Text(\n",
    "                            value = '%Y-%m-%d-%H-%M',\n",
    "                            decription = 'Format of time in the filenames',\n",
    "                            layout=Layout(width='30%')\n",
    "                            )\n",
    "ts_start_position = ipywidgets.IntText(\n",
    "                                        value = 5,\n",
    "                                        decription = 'The start position of time in the filename (count from zero)',\n",
    "                                        layout=Layout(width='10%')\n",
    "                                        )\n",
    "ts_end_position = ipywidgets.IntText(\n",
    "                                        value = 20,\n",
    "                                        decription = 'The start position of time in the filename (count from zero)',\n",
    "                                        layout=Layout(width='10%')\n",
    "                                        )\n",
    "\n",
    "ts_widget = ipywidgets.Box([ts_format, ts_start_position, ts_end_position])\n",
    "caption0 = ipywidgets.VBox([Label(value='Pleae specify the directory of fluorescence data in the text box below. Example:'),\n",
    "                           Label(value='../../data/introduction/ (relative path)'),\n",
    "                           Label(value='OR'),\n",
    "                           Label(value='C:/Users/Alice/MasterThesis/data/introduction (absolute path)'),\n",
    "                           Label(value='The directory would change automatically after entering new path.')])\n",
    "caption1 = ipywidgets.Label(value='If you want to read the timestamps from the filename, please specify the time format, start and end posistions of time in the filename:')\n",
    "caption2 = ipywidgets.Label(value='Time format reference: https://strftime.org/')\n",
    "caption3 = ipywidgets.VBox([Label(value='Example: \"2020-12-02-22-00-00_R2PEM.dat\"'),\n",
    "                           Label(value='Time format = %Y-%m-%d-%H-%M-%S'),\n",
    "                           Label(value='start position = 1'),\n",
    "                           Label(value='end position = 19')])\n",
    "display(caption0, dir_selection, caption1, ts_read_from_filename, ts_widget, caption2, caption3)\n",
    "\n"
   ]
  },
  {
   "cell_type": "markdown",
   "metadata": {},
   "source": [
    "-----------------------------------------\n",
    "# 2. Data preview and parameter selection"
   ]
  },
  {
   "cell_type": "code",
   "execution_count": 3,
   "metadata": {
    "scrolled": false
   },
   "outputs": [
    {
     "data": {
      "application/vnd.jupyter.widget-view+json": {
       "model_id": "7795b034b3b94fa28e3f0b86cd63f507",
       "version_major": 2,
       "version_minor": 0
      },
      "text/plain": [
       "Tab(children=(Box(children=(Box(children=(Dropdown(description='Filename', layout=Layout(width='max-content'),…"
      ]
     },
     "metadata": {},
     "output_type": "display_data"
    },
    {
     "data": {
      "application/vnd.jupyter.widget-view+json": {
       "model_id": "7ca333a5ac58411aa04242d27e7c528e",
       "version_major": 2,
       "version_minor": 0
      },
      "text/plain": [
       "VBox(children=(Label(value=\"If you see blank space in the short excitation wavelength region,it's likely that …"
      ]
     },
     "metadata": {},
     "output_type": "display_data"
    },
    {
     "data": {
      "application/vnd.jupyter.widget-view+json": {
       "model_id": "a34dff9ee77b41ce9a0a63da991c3c98",
       "version_major": 2,
       "version_minor": 0
      },
      "text/plain": [
       "Output()"
      ]
     },
     "metadata": {},
     "output_type": "display_data"
    }
   ],
   "source": [
    "%matplotlib inline\n",
    "# Visualization with interaction\n",
    "datdir = dir_selection.value\n",
    "filelist = os.listdir(datdir)\n",
    "datlist = [file for file in filelist if 'PEM.dat' in file]\n",
    "data_index = []\n",
    "if ts_read_from_filename.value:\n",
    "    tslist = [get_TS_from_filename(file, ts_format=ts_format.value, ts_start_position=ts_start_position.value-1,\n",
    "                                  ts_end_position=ts_end_position.value) for file in datlist]\n",
    "    tslist_sortidx = np.argsort(tslist)\n",
    "    tslist_sorted = [tslist[i] for i in tslist_sortidx]\n",
    "    datlist = [datlist[i] for i in tslist_sortidx]\n",
    "else:\n",
    "    data_index = [file[:-4] for file in datlist]\n",
    "\n",
    "# --------------Create widgets for plotting parameters-------------\n",
    "\n",
    "#---------Tab1: plotting and processing step selection-------\n",
    "autoscale = ipywidgets.Checkbox(value = False,\n",
    "                                description='Autoscale')\n",
    "inner_filter_effect = ipywidgets.Checkbox(value=True, description='Inner filter effect')\n",
    "scattering_correction = ipywidgets.Checkbox(value=True,\n",
    "                                            description='Scattering correction')\n",
    "contour_mask = ipywidgets.Checkbox(value=False,\n",
    "                                        description='Contour detection')\n",
    "gaussian_smoothing = ipywidgets.Checkbox(value=True,\n",
    "                                        description='Gaussian smoothing')\n",
    "scattering_interpolation = ipywidgets.Dropdown(options=['zero','linear','linear2'],\n",
    "                                               description='Scattering interpolation method',\n",
    "                                              style={'description_width': 'initial'})\n",
    "crange_cw = ipywidgets.IntRangeSlider(\n",
    "    value = [0,1000],\n",
    "    min = -1000,\n",
    "    max = 10000,\n",
    "    step = 100,\n",
    "    description = 'Intensity',\n",
    "    continuous_update=False,\n",
    "    style={'description_width': 'initial'})\n",
    "\n",
    "Em_range_display = ipywidgets.IntRangeSlider(\n",
    "    value = [250,820],\n",
    "    min = 200,\n",
    "    max = 820,\n",
    "    step = 20,\n",
    "    description = 'Emission',\n",
    "    continuous_update=False,\n",
    "    style={'description_width': 'initial'})\n",
    "\n",
    "Ex_range_display = ipywidgets.IntRangeSlider(\n",
    "    value = [200,500],\n",
    "    min = 200,\n",
    "    max = 550,\n",
    "    step = 5,\n",
    "    description = 'Excitation',\n",
    "    continuous_update=False,\n",
    "    style={'description_width': 'initial'})\n",
    "\n",
    "filedir = ipywidgets.fixed(datdir)\n",
    "\n",
    "plot_abs = ipywidgets.Checkbox(value=True,\n",
    "                               description='Plot absorbance')\n",
    "\n",
    "filename = ipywidgets.Dropdown(options=datlist,\n",
    "                               description='Filename',\n",
    "                               style={'description_width': 'initial'},\n",
    "                              layout={'width':'max-content'})\n",
    "\n",
    "title = ipywidgets.Checkbox(value=False,\n",
    "                           description='Figure title (time)')\n",
    "\n",
    "ABSxmax = ipywidgets.fixed(0.1)\n",
    "\n",
    "#----------Tab2: Parameter selection----------------\n",
    "\n",
    "gaussian_sigma = ipywidgets.FloatText(value=1, description='gaussian smoothing sigma',\n",
    "                                   style={'description_width': 'initial'})\n",
    "gaussian_truncate = ipywidgets.IntText(value=3, description='gaussian smoothing truncate',\n",
    "                                      style={'description_width': 'initial'})\n",
    "contour_otsu = ipywidgets.Checkbox(value=True, description='OTSU automatic thresholding',\n",
    "                                  style={'description_width': 'initial'})\n",
    "contour_binary_threshold = ipywidgets.IntText(value=50, description='Mannual thresholding (0-255)',\n",
    "                                             style={'description_width': 'initial'})\n",
    "scattering_width = ipywidgets.IntText(value=15, description='Rayleigh scattering width [nm]',\n",
    "                                     style={'description_width': 'initial'})\n",
    "ts_format_plot = ipywidgets.fixed(value=ts_format.value)\n",
    "ts_start_position_plot = ipywidgets.fixed(value=ts_start_position.value-1)\n",
    "ts_end_position_plot = ipywidgets.fixed(value=ts_end_position.value)\n",
    "\n",
    "#---------------------------Interface Layout----------------------\n",
    "\n",
    "form_item_layout = Layout(\n",
    "    display='flex',\n",
    "    flex_flow='row',\n",
    "    justify_content='space-between'\n",
    ")\n",
    "\n",
    "readdata_items = [\n",
    "    ipywidgets.Box([filename], layout=form_item_layout),\n",
    "    ipywidgets.Box([Em_range_display, Ex_range_display, crange_cw], layout=form_item_layout),\n",
    "#    ipywidgets.Box([scattering_correction, scattering_interpolation],layout=form_item_layout),\n",
    "    ipywidgets.Box([gaussian_smoothing, inner_filter_effect, scattering_correction],layout=form_item_layout),\n",
    "    ipywidgets.Box([contour_mask, title, plot_abs],layout=form_item_layout)\n",
    "]\n",
    "\n",
    "readdata = Box(readdata_items, layout=Layout(\n",
    "    display='flex',\n",
    "    flex_flow='column',\n",
    "    border='solid 2px',\n",
    "    align_items='stretch',\n",
    "    width='100%'\n",
    "))\n",
    "\n",
    "parameters_items = [\n",
    "    ipywidgets.Box([gaussian_sigma, gaussian_truncate]),\n",
    "    ipywidgets.Box([scattering_width, scattering_interpolation]),\n",
    "    ipywidgets.Box([contour_otsu, contour_binary_threshold])\n",
    "]\n",
    "\n",
    "parameters = Box(parameters_items, layout=Layout(\n",
    "    display='flex',\n",
    "    flex_flow='column',\n",
    "    border='solid 2px',\n",
    "    align_items='stretch',\n",
    "    width='100%'\n",
    "))\n",
    "\n",
    "tab = ipywidgets.Tab()\n",
    "tab.children=[readdata, parameters]\n",
    "tab.set_title(0, 'Read data')\n",
    "tab.set_title(1, 'Parameters')\n",
    "\n",
    "\n",
    "out_parameters = ipywidgets.interactive_output(plot3DEEM_interact,\n",
    "                                    {'filedir':filedir, 'filename':filename, 'autoscale':autoscale,\n",
    "                                     'crange':crange_cw, 'scattering_correction':scattering_correction, 'inner_filter_effect':inner_filter_effect,\n",
    "                                     'plot_abs':plot_abs, 'ABSxmax':ABSxmax, 'title':title, 'Em_range_display':Em_range_display,\n",
    "                                     'Ex_range_display':Ex_range_display, 'contour_mask':contour_mask, 'gaussian_smoothing':gaussian_smoothing,\n",
    "                                     'scattering_interpolation': scattering_interpolation,'sigma':gaussian_sigma,'truncate':gaussian_truncate,\n",
    "                                     'otsu':contour_otsu, 'binary_threshold':contour_binary_threshold, 'tolerance':scattering_width,\n",
    "                                     'ts_format':ts_format_plot, 'ts_start_position':ts_start_position_plot, 'ts_end_position':ts_end_position_plot\n",
    "                                                       })\n",
    "note_step2 = ipywidgets.VBox([ipywidgets.Label(value=\"If you see blank space in the short excitation wavelength region,\\\n",
    "it's likely that the inner filter effect is too strong.\"),\n",
    "                             ipywidgets.Label(value=\"Please consider adjust the excitation wavelength range.\")])\n",
    "\n",
    "display(tab, note_step2, out_parameters)\n"
   ]
  },
  {
   "cell_type": "markdown",
   "metadata": {},
   "source": [
    "----------------------------------------------------\n",
    "# 3. Stack data\n",
    "\n",
    "For further analysis, the parameters would be set according to the settings in the above interface!\n",
    "\n",
    "PLEASE CHECK THE SETTINGS before going-on!\n"
   ]
  },
  {
   "cell_type": "code",
   "execution_count": 4,
   "metadata": {},
   "outputs": [
    {
     "data": {
      "application/vnd.jupyter.widget-view+json": {
       "model_id": "98a564dd888b4d32bba84a6268dcbb6c",
       "version_major": 2,
       "version_minor": 0
      },
      "text/plain": [
       "Label(value='The stack includes all fluorescence data whose filename contains the specified keyword.')"
      ]
     },
     "metadata": {},
     "output_type": "display_data"
    },
    {
     "data": {
      "application/vnd.jupyter.widget-view+json": {
       "model_id": "0cc0fd4d2d4543d383dd07b70ce307e9",
       "version_major": 2,
       "version_minor": 0
      },
      "text/plain": [
       "interactive(children=(Text(value='PEM.dat', description='Filename searching keyword: ', style=DescriptionStyle…"
      ]
     },
     "metadata": {},
     "output_type": "display_data"
    }
   ],
   "source": [
    "#-------------------------Stack data------------------------------\n",
    "\n",
    "stacking_interact = interactive(\n",
    "                               load_EEMstack_interact,\n",
    "                               {'manual':True, 'manual_name':'Stack data'},\n",
    "                               filedir=ipywidgets.fixed(value=filedir.value), \n",
    "                               scattering_correction=ipywidgets.fixed(value=scattering_correction.value),\n",
    "                               Em_range_display=ipywidgets.fixed(value=Em_range_display.value),\n",
    "                               Ex_range_display=ipywidgets.fixed(value=Ex_range_display.value),\n",
    "                               gaussian_smoothing=ipywidgets.fixed(value=gaussian_smoothing.value),\n",
    "                               inner_filter_effect=ipywidgets.fixed(value=inner_filter_effect.value),\n",
    "                               sigma=ipywidgets.fixed(value=gaussian_sigma.value), \n",
    "                               truncate=ipywidgets.fixed(value=gaussian_truncate.value), \n",
    "                               otsu=ipywidgets.fixed(value=contour_otsu.value), \n",
    "                               binary_threshold=ipywidgets.fixed(value=contour_binary_threshold.value), \n",
    "                               tolerance=ipywidgets.fixed(value=scattering_width.value),\n",
    "                               scattering_interpolation=ipywidgets.fixed(value=scattering_interpolation.value),\n",
    "                               contour_mask=ipywidgets.fixed(value=contour_mask.value), \n",
    "                               keyword_pem=ipywidgets.Text(\n",
    "                                                           value='PEM.dat',\n",
    "                                                           style={'description_width': 'initial'},\n",
    "                                                           description='Filename searching keyword: '\n",
    "                                                           )\n",
    "                               \n",
    "                               )\n",
    "\n",
    "caption = ipywidgets.Label(value='The stack includes all fluorescence data whose filename contains the specified keyword.')\n",
    "display(caption, stacking_interact)"
   ]
  },
  {
   "cell_type": "markdown",
   "metadata": {},
   "source": [
    "------------------------------------------\n",
    "# 4. Remove data from the data stack\n",
    "\n",
    "Please run the code block even if you don't want to do any operation here.\n",
    "\n",
    "Now the removal is done manually. Potential future updates would be automatic detection of abnormal data"
   ]
  },
  {
   "cell_type": "code",
   "execution_count": 5,
   "metadata": {
    "scrolled": true
   },
   "outputs": [
    {
     "data": {
      "application/vnd.jupyter.widget-view+json": {
       "model_id": "240d3d58bddd4b45a1893a1c2be43285",
       "version_major": 2,
       "version_minor": 0
      },
      "text/plain": [
       "Label(value='This block is used to remove specific data from the data stack. Please select the data you want t…"
      ]
     },
     "metadata": {},
     "output_type": "display_data"
    },
    {
     "data": {
      "application/vnd.jupyter.widget-view+json": {
       "model_id": "077cad07a7714c06b2e803164320b05c",
       "version_major": 2,
       "version_minor": 0
      },
      "text/plain": [
       "Dropdown(layout=Layout(width='max-content'), options=('2021-02-01-14-00_R1PEM.dat', '2021-02-01-16-00_R1PEM.da…"
      ]
     },
     "metadata": {},
     "output_type": "display_data"
    },
    {
     "data": {
      "application/vnd.jupyter.widget-view+json": {
       "model_id": "7b09ae8a8e854f78a8dc97ea1ff92819",
       "version_major": 2,
       "version_minor": 0
      },
      "text/plain": [
       "Button(description='Remove data', style=ButtonStyle())"
      ]
     },
     "metadata": {},
     "output_type": "display_data"
    },
    {
     "data": {
      "application/vnd.jupyter.widget-view+json": {
       "model_id": "aefa5be1a03340d9a015827bd7e572f6",
       "version_major": 2,
       "version_minor": 0
      },
      "text/plain": [
       "Label(value=\"To reset the data stack to its original state: re-run the block. If you don't want to make any ch…"
      ]
     },
     "metadata": {},
     "output_type": "display_data"
    }
   ],
   "source": [
    "#------------------Remove specific data from the data stack-----------------\n",
    "\n",
    "EEMstack_all, Em_range_cw, Ex_range_cw, datlist_all = stacking_interact.result\n",
    "\n",
    "datlist_filtered = datlist_all[:]\n",
    "EEMstack_filtered = EEMstack_all[:,:,:]\n",
    "idx2remove = []\n",
    "filelist_preview = ipywidgets.Dropdown(options=datlist_all,\n",
    "#                                       description='List of files',\n",
    "                                       style={'description_width': 'initial'},\n",
    "                                       layout={'width':'max-content'})\n",
    "\n",
    "button_update = ipywidgets.Button(description=\"Remove data\")\n",
    "\n",
    "# button_reset = ipywidgets.Button(description=\"Reset data\")\n",
    "\n",
    "def update_filelist(*arg):\n",
    "    idx2remove.append(datlist_all.index(filelist_preview.value))\n",
    "    datlist_filtered.remove(filelist_preview.value)\n",
    "    \n",
    "button_update.on_click(update_filelist)\n",
    "caption = ipywidgets.Label('This block is used to remove specific data from the data stack. Please select the data you want to remove:')\n",
    "caption2 = ipywidgets.Label(\"To reset the data stack to its original state: re-run the block. If you don't want to make any changes here, please skip.\")\n",
    "display(caption, filelist_preview, button_update, caption2)\n"
   ]
  },
  {
   "cell_type": "markdown",
   "metadata": {},
   "source": [
    "-------------------------------------\n",
    "# 5. Data stack analysis"
   ]
  },
  {
   "cell_type": "code",
   "execution_count": 7,
   "metadata": {
    "scrolled": true
   },
   "outputs": [
    {
     "data": {
      "application/vnd.jupyter.widget-view+json": {
       "model_id": "0ca50878b9034e17ba96bb0410774a4d",
       "version_major": 2,
       "version_minor": 0
      },
      "text/plain": [
       "Output()"
      ]
     },
     "metadata": {},
     "output_type": "display_data"
    },
    {
     "data": {
      "application/vnd.jupyter.widget-view+json": {
       "model_id": "c625101b7c9d44299618af74fdbc4c7f",
       "version_major": 2,
       "version_minor": 0
      },
      "text/plain": [
       "Tab(children=(Box(children=(Box(children=(Label(value='Select the range of data for further analysis'),)), Box…"
      ]
     },
     "metadata": {},
     "output_type": "display_data"
    }
   ],
   "source": [
    "%matplotlib notebook\n",
    "#--------------------Data stack analysis---------------\n",
    "pd.set_option('display.max_rows', None)\n",
    "\n",
    "# Are there any changes in the last step?\n",
    "data_index_cw = []\n",
    "\n",
    "if datlist_filtered==datlist_all:\n",
    "    datlist_cw = datlist_all[:]\n",
    "    EEMstack_cw = EEMstack_all[:,:,:]\n",
    "else:\n",
    "    datlist_cw = datlist_filtered[:]\n",
    "    EEMstack_cw = np.delete(EEMstack_filtered, idx2remove, 0)\n",
    "    \n",
    "if ts_read_from_filename.value:\n",
    "    timestamps_cw = [get_TS_from_filename(dat, ts_format.value, ts_start_position.value-1, ts_end_position.value)\n",
    "                for dat in datlist_cw ]\n",
    "    timestamps_cw_sortidx = np.argsort(timestamps_cw)\n",
    "    timestamps_cw = [timestamps_cw[i] for i in timestamps_cw_sortidx]\n",
    "    datlist_cw = [datlist_cw[i] for i in timestamps_cw_sortidx]\n",
    "    EEMstack_cw = EEMstack_cw[timestamps_cw_sortidx]\n",
    "else:\n",
    "    data_index_cw = [file[:-4] for file in datlist_cw]\n",
    "\n",
    "#---------------Create widgets------------------------\n",
    "#----------------General widgets------------\n",
    "out = ipywidgets.Output()\n",
    "display(out)\n",
    "\n",
    "button_clear_display=ipywidgets.Button(description='Clear display')\n",
    "def clear_display_with_button(b):\n",
    "    clear_output()\n",
    "    display(tab)\n",
    "button_clear_display.on_click(clear_display_with_button)\n",
    "\n",
    "#-------Tab1: File range selection----------\n",
    "\n",
    "range1 = ipywidgets.Dropdown(value=datlist_cw[0],\n",
    "                             options=datlist_cw,\n",
    "                             description='Start',\n",
    "                             style={'description_width': 'initial'},\n",
    "                            continuous_update=False)\n",
    "range2 = ipywidgets.Dropdown(value=datlist_cw[-1],\n",
    "                             options=datlist_cw,\n",
    "                             description='End',\n",
    "                             style={'description_width': 'initial'},\n",
    "                            continuous_update=False)\n",
    "\n",
    "data_range_items = [\n",
    "    ipywidgets.Box([Label(value='Select the range of data for further analysis')]),\n",
    "    ipywidgets.Box([range1, range2], layout=form_item_layout)\n",
    "#    ipywidgets.Box([button_data_range])\n",
    "]\n",
    "\n",
    "data_range = Box(data_range_items, layout=Layout(\n",
    "    display='flex',\n",
    "    flex_flow='column',\n",
    "    border='none',\n",
    "    align_items='stretch',\n",
    "    width='80%'\n",
    "))\n",
    "\n",
    "\n",
    "#-------Tab2: Pixel statistics------------------\n",
    "\n",
    "property_pixel = ipywidgets.Dropdown(options=['Timeseries analysis', 'Correlation analysis'],\n",
    "                                    description='Property')\n",
    "em_pixel = ipywidgets.FloatText(value=400, description='Em [nm]')\n",
    "ex_pixel = ipywidgets.FloatText(value=300, description='Ex [nm]')\n",
    "caption_pixel_statistics = ipywidgets.Label(value='For correlation analysis, please specify the reference data with either \\\n",
    "                            a file path or a manual input')\n",
    "checkbox_reference_filepath_pixel = ipywidgets.Checkbox(value=False)\n",
    "reference_filepath_pixel = ipywidgets.Text(\n",
    "                                    value='reference_example.txt',\n",
    "                                    description='File path of input reference data',\n",
    "                                    style={'description_width': 'initial'},\n",
    "                                    layout=Layout(width='400%'))\n",
    "checkbox_reference_mannual_input_pixel = ipywidgets.Checkbox(value=True)\n",
    "reference_mannual_input_pixel = ipywidgets.Text(description='Type input reference data manually',\n",
    "                                         style={'description_width': 'initial'},\n",
    "                                         layout=Layout(width='400%'))\n",
    "\n",
    "def update_manual_input_reference_checkbox_pixel(*args):\n",
    "    checkbox_reference_mannual_input_pixel.value=not checkbox_reference_filepath_pixel.value\n",
    "        \n",
    "def update_filepath_reference_checkbox_pixel(*args):\n",
    "    checkbox_reference_filepath_pixel.value=not checkbox_reference_mannual_input_pixel.value\n",
    "        \n",
    "checkbox_reference_filepath_pixel.observe(update_manual_input_reference_checkbox_pixel, 'value')\n",
    "checkbox_reference_mannual_input_pixel.observe(update_filepath_reference_checkbox_pixel, 'value')\n",
    "button_pixel_statistics = ipywidgets.Button(description='Calculate')\n",
    "\n",
    "def pixel_statistics_interact(*args):\n",
    "    %matplotlib notebook\n",
    "    EEMstack_class_cw = EEMstack(EEMstack_cw[datlist_cw.index(range1.value):datlist_cw.index(range2.value)+1],\n",
    "                         Em_range_cw, Ex_range_cw)\n",
    "    if property_pixel.value =='Timeseries analysis':\n",
    "        EEMstack_class_cw.pixel_rel_std(Em=em_pixel.value, Ex=ex_pixel.value, plot=True,\n",
    "                                       timestamp=timestamps_cw[datlist_cw.index(range1.value):datlist_cw.index(range2.value)+1],\n",
    "                                       baseline=False, output=True)\n",
    "    if property_pixel.value =='Correlation analysis':\n",
    "        if checkbox_reference_filepath_pixel.value:\n",
    "            reference = read_reference_from_text(reference_filepath_pixel.value)\n",
    "        if checkbox_reference_mannual_input_pixel.value:\n",
    "            reference = string_to_float_list(reference_mannual_input_pixel.value)\n",
    "        EEMstack_class_cw.pixel_linreg(Em=em_pixel.value, Ex=ex_pixel.value, x=reference)\n",
    "\n",
    "button_pixel_statistics.on_click(pixel_statistics_interact)\n",
    "\n",
    "pixel_statistics_items = [\n",
    "    ipywidgets.Box([em_pixel, ex_pixel, property_pixel]),\n",
    "    ipywidgets.Box([caption_pixel_statistics],layout=form_item_layout),\n",
    "    ipywidgets.Box([checkbox_reference_filepath_pixel, reference_filepath_pixel],layout=form_item_layout),\n",
    "    ipywidgets.Box([checkbox_reference_mannual_input_pixel, reference_mannual_input_pixel],layout=form_item_layout),\n",
    "    ipywidgets.Box([button_pixel_statistics, button_clear_display]),\n",
    "]\n",
    "\n",
    "pixel_statistics = Box(pixel_statistics_items, layout=Layout(\n",
    "    display='flex',\n",
    "    flex_flow='column',\n",
    "    border='none',\n",
    "    align_items='stretch',\n",
    "    width='100%'\n",
    "))\n",
    "\n",
    "#-------Tab3: EEM statistics---------\n",
    "\n",
    "property_eem = ipywidgets.Dropdown(options=['Mean', 'Standard deviation', 'Relative standard deviation',\n",
    "                                              'Correlation: Linearity', 'Correlation: Pearson coef.',\n",
    "                                           'Correlation: Spearman coef.'],\n",
    "                                    description='Property',style={'description_width': 'initial'})\n",
    "caption_eem_statistics = ipywidgets.Label(value='For correlation analysis, please specify the reference data with either \\\n",
    "                            a file path or a manual input')\n",
    "checkbox_reference_filepath_eem = ipywidgets.Checkbox(value=False)\n",
    "reference_filepath_eem = ipywidgets.Text(\n",
    "                                    value='reference_example.txt',\n",
    "                                    description='File path of input reference data',\n",
    "                                    style={'description_width': 'initial'},\n",
    "                                    layout=Layout(width='400%'))\n",
    "checkbox_reference_mannual_input_eem = ipywidgets.Checkbox(value=True)\n",
    "reference_mannual_input_eem = ipywidgets.Text(description='Type input reference data manually',\n",
    "                                         style={'description_width': 'initial'},\n",
    "                                         layout=Layout(width='400%'))\n",
    "\n",
    "def update_manual_input_reference_checkbox_eem(*args):\n",
    "    checkbox_reference_mannual_input_eem.value=not checkbox_reference_filepath_eem.value\n",
    "\n",
    "def update_filepath_reference_checkbox_eem(*args):\n",
    "    checkbox_reference_filepath_eem.value=not checkbox_reference_mannual_input_eem.value\n",
    "    \n",
    "checkbox_reference_filepath_eem.observe(update_manual_input_reference_checkbox_eem, 'value')\n",
    "checkbox_reference_mannual_input_eem.observe(update_filepath_reference_checkbox_eem, 'value')\n",
    "button_eem_statistics = ipywidgets.Button(description='Calculate')\n",
    "title_eem_statistics = ipywidgets.Checkbox(value=True, description='Title',\n",
    "                                          style={'description_width': 'initial'})\n",
    "\n",
    "def EEM_statistics_interact(*arg):\n",
    "    EEMstack_class_cw = EEMstack(EEMstack_cw[datlist_cw.index(range1.value):datlist_cw.index(range2.value)+1],\n",
    "                                 Em_range_cw, Ex_range_cw)\n",
    "    reference = None\n",
    "    header = None\n",
    "    if property_eem.value=='Correlation: Linearity' or property_eem.value=='Correlation: Pearson coef.' or \\\n",
    "       property_eem.value=='Correlation: Spearman coef.':\n",
    "        if checkbox_reference_filepath_eem.value:\n",
    "            reference, header = read_reference_from_text(reference_filepath_eem.value)\n",
    "        if checkbox_reference_mannual_input_eem.value:\n",
    "            reference = string_to_float_list(reference_mannual_input_eem.value)\n",
    "    EEM_statistics(EEMstack_class_cw, term=property_eem.value, title=title_eem_statistics.value,\n",
    "                  reference=reference, crange=crange_cw.value, reference_label=header)\n",
    "\n",
    "button_eem_statistics.on_click(EEM_statistics_interact)\n",
    "\n",
    "eem_statistics_items = [\n",
    "    ipywidgets.Box([property_eem]),\n",
    "    ipywidgets.Box([caption_pixel_statistics],layout=form_item_layout),\n",
    "    ipywidgets.Box([checkbox_reference_filepath_eem, reference_filepath_eem],layout=form_item_layout),\n",
    "    ipywidgets.Box([checkbox_reference_mannual_input_eem, reference_mannual_input_eem],layout=form_item_layout),\n",
    "    ipywidgets.Box([button_eem_statistics, button_clear_display]),\n",
    "]\n",
    "\n",
    "eem_statistics = Box(eem_statistics_items, layout=Layout(\n",
    "    display='flex',\n",
    "    flex_flow='column',\n",
    "    border='none',\n",
    "    align_items='stretch',\n",
    "    width='100%'\n",
    "))\n",
    "\n",
    "#-------Tab4: Region integration------------\n",
    "\n",
    "region_integration_items = [\n",
    "    ipywidgets.Box([Label(value='Under construction')]),\n",
    "    ipywidgets.Box([button_clear_display], layout=form_item_layout),\n",
    "]\n",
    "\n",
    "region_integration = Box(region_integration_items, layout=Layout(\n",
    "    display='flex',\n",
    "    flex_flow='column',\n",
    "    border='none',\n",
    "    align_items='stretch',\n",
    "    width='60%'\n",
    "))\n",
    "\n",
    "\n",
    "#-------Tab5: Stack decomposition----------\n",
    "rank_display = ipywidgets.IntText(value=4, description='Number of components',\n",
    "                         style={'description_width': 'initial'})\n",
    "button_decomposition_interact = ipywidgets.Button(description='Decompose',\n",
    "                                           style={'description_width': 'initial'})\n",
    "decomposition_method_list = ipywidgets.Dropdown(\n",
    "                                                value='parafac',\n",
    "                                                options=['parafac','non_negative_parafac'],\n",
    "                                                style={'description_width': 'initial'},\n",
    "                                                description='Decomposition method'\n",
    "                                                )\n",
    "show_normalized_score = ipywidgets.Checkbox(\n",
    "                                            value=False,\n",
    "                                            style={'description_width': 'initial'},\n",
    "                                            description='Normalize the score by mean'\n",
    "                                            )\n",
    "\n",
    "if not data_index:\n",
    "    data_index_cw = timestamps_cw\n",
    "\n",
    "def decomposition_interact_button(*arg):\n",
    "    %matplotlib notebook\n",
    "    decomposition_interact(EEMstack_cw[datlist_cw.index(range1.value):datlist_cw.index(range2.value)+1],\n",
    "                         Em_range_cw, Ex_range_cw, rank_display.value, \n",
    "                         index=data_index_cw[datlist_cw.index(range1.value):datlist_cw.index(range2.value)+1],\n",
    "                         decomposition_method=decomposition_method_list.value,\n",
    "                          score_normalization=show_normalized_score.value)\n",
    "\n",
    "button_decomposition_interact.on_click(decomposition_interact_button)\n",
    "\n",
    "\n",
    "decomposition_items = [\n",
    "    ipywidgets.Box([rank_display, decomposition_method_list, \n",
    "                    button_decomposition_interact, button_clear_display], layout=form_item_layout),\n",
    "    ipywidgets.Box([Label(value='The number of components should be no more than the number of samples')]),\n",
    "    show_normalized_score\n",
    "]\n",
    "\n",
    "decomposition = Box(decomposition_items, layout=Layout(\n",
    "    display='flex',\n",
    "    flex_flow='column',\n",
    "    border='none',\n",
    "    align_items='stretch',\n",
    "    width='100%'\n",
    "))\n",
    "\n",
    "#-------Tab6: Data reconstruction----------\n",
    "\n",
    "data_to_view = ipywidgets.Dropdown(options=datlist_cw[datlist_cw.index(range1.value):datlist_cw.index(range2.value)+1],\n",
    "                                  description='Select the data for reconstruction',\n",
    "                                  style={'description_width': 'initial'},\n",
    "                                  layout={'width':'max-content'})\n",
    "\n",
    "button_decomposition_re_interact= ipywidgets.Button(description='Reconstruct',\n",
    "                                           style={'description_width': 'initial'})\n",
    "\n",
    "# In the future move the function to EEMprocessing.py\n",
    "\n",
    "def decomposition_interact_re_button(*arg):\n",
    "    if decomposition_method_list.value=='parafac':\n",
    "        factors = parafac(EEMstack_cw[datlist_cw.index(range1.value):datlist_cw.index(range2.value)+1],\n",
    "                         rank=rank_display.value)\n",
    "    elif decomposition_method_list.value=='non_negative_parafac':\n",
    "        factors = non_negative_parafac(EEMstack_cw[datlist_cw.index(range1.value):datlist_cw.index(range2.value)+1],\n",
    "                         rank=rank_display.value)\n",
    "    I_0 = factors[1][0]\n",
    "    J_0 = factors[1][1]\n",
    "    K_0 = factors[1][2]\n",
    "    decomposition_reconstruction_interact(I_0, J_0, K_0, EEMstack_cw[datlist_cw.index(data_to_view.value)],\n",
    "                                    Em_range_cw, Ex_range_cw,\n",
    "                                    datlist_cw[datlist_cw.index(range1.value):datlist_cw.index(range2.value)+1],\n",
    "                                   data_to_view.value, crange=crange_cw.value)\n",
    "\n",
    "button_decomposition_re_interact.on_click(decomposition_interact_re_button)\n",
    "\n",
    "decomposition_reconstruction_items = [\n",
    "    ipywidgets.Box([Label(value='Please first specify the number of components and decomposition method \\\n",
    "                          in tab-5 \"PARAFAC decomposition\"')]),\n",
    "    ipywidgets.Box([data_to_view, button_decomposition_re_interact, button_clear_display], layout=form_item_layout)\n",
    "]\n",
    "\n",
    "decomposition_reconstruction = Box(decomposition_reconstruction_items, layout=Layout(\n",
    "    display='flex',\n",
    "    flex_flow='column',\n",
    "    border='none',\n",
    "    align_items='stretch',\n",
    "    width='80%'\n",
    "))\n",
    "\n",
    "\n",
    "tab = ipywidgets.Tab()\n",
    "tab.children=[data_range, pixel_statistics, eem_statistics, region_integration,\n",
    "              decomposition, decomposition_reconstruction]\n",
    "tab.set_title(0, '1. Data range selection')\n",
    "tab.set_title(1, '2. Pixel statistics')\n",
    "tab.set_title(2, '3. EEM statistics')\n",
    "tab.set_title(3, '4. Region integraion')\n",
    "tab.set_title(4, '5. Stack decomposition')\n",
    "tab.set_title(5, '6. Stack reconstruction')\n",
    "display(tab)"
   ]
  },
  {
   "cell_type": "markdown",
   "metadata": {},
   "source": [
    "# Test"
   ]
  },
  {
   "cell_type": "code",
   "execution_count": null,
   "metadata": {},
   "outputs": [],
   "source": []
  }
 ],
 "metadata": {
  "hide_input": false,
  "kernelspec": {
   "display_name": "Python 3",
   "language": "python",
   "name": "python3"
  },
  "language_info": {
   "codemirror_mode": {
    "name": "ipython",
    "version": 3
   },
   "file_extension": ".py",
   "mimetype": "text/x-python",
   "name": "python",
   "nbconvert_exporter": "python",
   "pygments_lexer": "ipython3",
   "version": "3.6.8"
  }
 },
 "nbformat": 4,
 "nbformat_minor": 2
}
