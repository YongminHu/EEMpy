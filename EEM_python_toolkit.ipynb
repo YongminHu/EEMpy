{
 "cells": [
  {
   "cell_type": "markdown",
   "metadata": {},
   "source": [
    "# Python toolkit for fluorescence data processing\n",
    "\n",
    "Author: Yongmin Hu (yongmin.hu@eawag.ch, yongminhu@outlook.com)\n",
    "\n",
    "Last update: 2021-10-25\n",
    "\n",
    "Before running the toolkit, please go through checklist_fluorescence_python_toolkit.doc.\n",
    "\n",
    "If you change the input in any of the code blocks, please re-run all blocks after."
   ]
  },
  {
   "cell_type": "markdown",
   "metadata": {},
   "source": [
    "# 0. Import packages"
   ]
  },
  {
   "cell_type": "code",
   "execution_count": 1,
   "metadata": {},
   "outputs": [],
   "source": [
    "import matplotlib\n",
    "import os\n",
    "import numpy as np\n",
    "import matplotlib.pyplot as plt\n",
    "import re\n",
    "\n",
    "from datetime import datetime, timedelta, date\n",
    "from EEMprocessing import *\n",
    "from generate_widgets import *\n",
    "from ipywidgets import interact, interactive, interact_manual\n",
    "from ipywidgets import Layout, Button, Dropdown, Label, FloatText, Text, IntSlider, Checkbox, Box\n",
    "from IPython.display import display, clear_output\n",
    "from traitlets import traitlets\n",
    "\n",
    "\n",
    "matplotlib.rcParams['figure.dpi'] = 80\n"
   ]
  },
  {
   "cell_type": "markdown",
   "metadata": {},
   "source": [
    "-------------------------------------------\n",
    "# 1. Specify data directory and filename format"
   ]
  },
  {
   "cell_type": "code",
   "execution_count": 2,
   "metadata": {
    "scrolled": false
   },
   "outputs": [
    {
     "data": {
      "application/vnd.jupyter.widget-view+json": {
       "model_id": "05aa55a3eecc4c5cbef383f0bdf363ad",
       "version_major": 2,
       "version_minor": 0
      },
      "text/plain": [
       "VBox(children=(Label(value='Pleae specify the directory of fluorescence data in the text box below. Example:')…"
      ]
     },
     "metadata": {},
     "output_type": "display_data"
    },
    {
     "data": {
      "application/vnd.jupyter.widget-view+json": {
       "model_id": "6c51501c422745df99706a53778496ba",
       "version_major": 2,
       "version_minor": 0
      },
      "text/plain": [
       "Text(value='_data/_greywater/20211109_grab_sample', description='File directory', layout=Layout(width='100%'))"
      ]
     },
     "metadata": {},
     "output_type": "display_data"
    },
    {
     "data": {
      "application/vnd.jupyter.widget-view+json": {
       "model_id": "9eeef218776f4d9590054f59c8483364",
       "version_major": 2,
       "version_minor": 0
      },
      "text/plain": [
       "Label(value='If you want to read the timestamps from the filename, please specify the time format, start and e…"
      ]
     },
     "metadata": {},
     "output_type": "display_data"
    },
    {
     "data": {
      "application/vnd.jupyter.widget-view+json": {
       "model_id": "036df281a672456b8f6a1cd07b4a496b",
       "version_major": 2,
       "version_minor": 0
      },
      "text/plain": [
       "Checkbox(value=True, description='Do you want to read timestamps from filenames?', layout=Layout(width='50%'),…"
      ]
     },
     "metadata": {},
     "output_type": "display_data"
    },
    {
     "data": {
      "application/vnd.jupyter.widget-view+json": {
       "model_id": "419659ecd5744767915fbe943e66a79a",
       "version_major": 2,
       "version_minor": 0
      },
      "text/plain": [
       "Box(children=(Text(value='%Y-%m-%d-%H-%M', layout=Layout(width='30%')), IntText(value=1, layout=Layout(width='…"
      ]
     },
     "metadata": {},
     "output_type": "display_data"
    },
    {
     "data": {
      "application/vnd.jupyter.widget-view+json": {
       "model_id": "d9ecf91953e944c6b4f97d50a6abcd95",
       "version_major": 2,
       "version_minor": 0
      },
      "text/plain": [
       "Label(value='Time format reference: https://strftime.org/')"
      ]
     },
     "metadata": {},
     "output_type": "display_data"
    },
    {
     "data": {
      "application/vnd.jupyter.widget-view+json": {
       "model_id": "5b15623af4f74365a4cb07a3481ce8ba",
       "version_major": 2,
       "version_minor": 0
      },
      "text/plain": [
       "VBox(children=(Label(value='Example: \"2020-12-02-22-00-00_R2PEM.dat\"'), Label(value='Time format = %Y-%m-%d-%H…"
      ]
     },
     "metadata": {},
     "output_type": "display_data"
    }
   ],
   "source": [
    "# read all filenames in the target directory\n",
    "filedir_default = '_data/_greywater/20211109_grab_sample' # Just the default, could be changed \n",
    "# filedir_default = './sample_data'\n",
    "\n",
    "# select all .dat files in the specified directory\n",
    "\n",
    "dir_selection =ipywidgets.Text(\n",
    "                               value = filedir_default,\n",
    "                               description = 'File directory',\n",
    "                               layout=Layout(width='100%')\n",
    "                               )\n",
    "ts_read_from_filename = ipywidgets.Checkbox(\n",
    "                                            value = True,\n",
    "                                            description = 'Do you want to read timestamps from filenames?',\n",
    "                                            style={'description_width': 'initial'},\n",
    "                                            layout=Layout(width='50%')\n",
    "                                            )\n",
    "\n",
    "ts_format = ipywidgets.Text(\n",
    "                            value = '%Y-%m-%d-%H-%M',\n",
    "                            decription = 'Format of time in the filenames',\n",
    "                            layout=Layout(width='30%')\n",
    "                            )\n",
    "ts_start_position = ipywidgets.IntText(\n",
    "                                        value = 1,\n",
    "                                        decription = 'The start position of time in the filename (count from zero)',\n",
    "                                        layout=Layout(width='10%')\n",
    "                                        )\n",
    "ts_end_position = ipywidgets.IntText(\n",
    "                                        value = 16,\n",
    "                                        decription = 'The start position of time in the filename (count from zero)',\n",
    "                                        layout=Layout(width='10%')\n",
    "                                        )\n",
    "\n",
    "ts_widget = ipywidgets.Box([ts_format, ts_start_position, ts_end_position])\n",
    "caption0 = ipywidgets.VBox([Label(value='Pleae specify the directory of fluorescence data in the text box below. Example:'),\n",
    "                           Label(value='../../data/introduction/ (relative path)'),\n",
    "                           Label(value='OR'),\n",
    "                           Label(value='C:/Users/Alice/MasterThesis/data/introduction (absolute path)'),\n",
    "                           Label(value='The directory would change automatically after entering new path.')])\n",
    "caption1 = ipywidgets.Label(value='If you want to read the timestamps from the filename, please specify the time format, start and end posistions of time in the filename:')\n",
    "caption2 = ipywidgets.Label(value='Time format reference: https://strftime.org/')\n",
    "caption3 = ipywidgets.VBox([Label(value='Example: \"2020-12-02-22-00-00_R2PEM.dat\"'),\n",
    "                           Label(value='Time format = %Y-%m-%d-%H-%M-%S'),\n",
    "                           Label(value='start position = 1'),\n",
    "                           Label(value='end position = 19')])\n",
    "display(caption0, dir_selection, caption1, ts_read_from_filename, ts_widget, caption2, caption3)\n",
    "\n"
   ]
  },
  {
   "cell_type": "markdown",
   "metadata": {
    "hide_input": true
   },
   "source": [
    "-----------------------------------------\n",
    "# 2. Data preview and parameter selection"
   ]
  },
  {
   "cell_type": "code",
   "execution_count": 3,
   "metadata": {
    "scrolled": false
   },
   "outputs": [
    {
     "data": {
      "application/vnd.jupyter.widget-view+json": {
       "model_id": "c866ba56afb140478dd8f9dc2183041e",
       "version_major": 2,
       "version_minor": 0
      },
      "text/plain": [
       "Tab(children=(Box(children=(Box(children=(Dropdown(description='Filename', layout=Layout(width='max-content'),…"
      ]
     },
     "metadata": {},
     "output_type": "display_data"
    },
    {
     "data": {
      "application/vnd.jupyter.widget-view+json": {
       "model_id": "f7273a65c37a40f3937023d97cd95177",
       "version_major": 2,
       "version_minor": 0
      },
      "text/plain": [
       "VBox(children=(Label(value=\"If you see blank space in the short excitation wavelength region,it's likely that …"
      ]
     },
     "metadata": {},
     "output_type": "display_data"
    },
    {
     "data": {
      "application/vnd.jupyter.widget-view+json": {
       "model_id": "ac51e62ae5ce4927821e17f5af005908",
       "version_major": 2,
       "version_minor": 0
      },
      "text/plain": [
       "Output()"
      ]
     },
     "metadata": {},
     "output_type": "display_data"
    }
   ],
   "source": [
    "%matplotlib inline\n",
    "\n",
    "# Visualization with interaction\n",
    "datdir = dir_selection.value\n",
    "filelist = os.listdir(datdir)\n",
    "datlist = [file for file in filelist if 'PEM.dat' in file]\n",
    "data_index = []\n",
    "if ts_read_from_filename.value:\n",
    "    tslist = [get_TS_from_filename(file, ts_format=ts_format.value, ts_start_position=ts_start_position.value-1,\n",
    "                                  ts_end_position=ts_end_position.value) for file in datlist]\n",
    "    tslist_sortidx = np.argsort(tslist)\n",
    "    tslist_sorted = [tslist[i] for i in tslist_sortidx]\n",
    "    datlist = [datlist[i] for i in tslist_sortidx]\n",
    "else:\n",
    "    data_index = [file[:-4] for file in datlist]\n",
    "\n",
    "# --------------Create widgets for plotting parameters-------------\n",
    "\n",
    "#---------Tab1: plotting and processing step selection-------\n",
    "autoscale = ipywidgets.Checkbox(value = False,\n",
    "                                description='Autoscale')\n",
    "inner_filter_effect = ipywidgets.Checkbox(value=True, description='Inner filter effect')\n",
    "scattering_correction = ipywidgets.Checkbox(value=True,\n",
    "                                            description='Scattering correction')\n",
    "contour_mask = ipywidgets.Checkbox(value=False,\n",
    "                                        description='Contour detection')\n",
    "gaussian_smoothing = ipywidgets.Checkbox(value=True,\n",
    "                                        description='Gaussian smoothing')\n",
    "scattering_interpolation = ipywidgets.Dropdown(options=['zero','linear','linear2'],\n",
    "                                               description='Scattering interpolation method',\n",
    "                                              style={'description_width': 'initial'})\n",
    "crange_cw = ipywidgets.IntRangeSlider(\n",
    "    value = [0,400],\n",
    "    min = 0,\n",
    "    max = 1500,\n",
    "    step = 100,\n",
    "    description = 'Intensity',\n",
    "    continuous_update=False,\n",
    "    style={'description_width': 'initial'})\n",
    "\n",
    "Em_range_display = ipywidgets.IntRangeSlider(\n",
    "    value = [250,600],\n",
    "    min = 200,\n",
    "    max = 820,\n",
    "    step = 10,\n",
    "    description = 'Emission',\n",
    "    continuous_update=False,\n",
    "    style={'description_width': 'initial'})\n",
    "\n",
    "Ex_range_display = ipywidgets.IntRangeSlider(\n",
    "    value = [240,450],\n",
    "    min = 200,\n",
    "    max = 500,\n",
    "    step = 5,\n",
    "    description = 'Excitation',\n",
    "    continuous_update=False,\n",
    "    style={'description_width': 'initial'})\n",
    "\n",
    "filedir = ipywidgets.fixed(datdir)\n",
    "\n",
    "plot_abs = ipywidgets.Checkbox(value=True,\n",
    "                               description='Plot absorbance')\n",
    "\n",
    "filename = ipywidgets.Dropdown(options=datlist,\n",
    "                               description='Filename',\n",
    "                               style={'description_width': 'initial'},\n",
    "                              layout={'width':'max-content'})\n",
    "\n",
    "title = ipywidgets.Checkbox(value=False,\n",
    "                           description='Figure title (time)')\n",
    "\n",
    "ABSxmax = ipywidgets.fixed(0.1)\n",
    "\n",
    "#----------Tab2: Parameter selection----------------\n",
    "\n",
    "gaussian_sigma = ipywidgets.FloatText(value=1, description='gaussian smoothing sigma',\n",
    "                                   style={'description_width': 'initial'})\n",
    "gaussian_truncate = ipywidgets.IntText(value=3, description='gaussian smoothing truncate',\n",
    "                                      style={'description_width': 'initial'})\n",
    "contour_otsu = ipywidgets.Checkbox(value=True, description='OTSU automatic thresholding',\n",
    "                                  style={'description_width': 'initial'})\n",
    "contour_binary_threshold = ipywidgets.IntText(value=50, description='Mannual thresholding (0-255)',\n",
    "                                             style={'description_width': 'initial'})\n",
    "scattering_width = ipywidgets.IntText(value=15, description='Rayleigh scattering width [nm]',\n",
    "                                     style={'description_width': 'initial'})\n",
    "ts_format_plot = ipywidgets.fixed(value=ts_format.value)\n",
    "ts_start_position_plot = ipywidgets.fixed(value=ts_start_position.value-1)\n",
    "ts_end_position_plot = ipywidgets.fixed(value=ts_end_position.value)\n",
    "\n",
    "#---------------------------Interface Layout----------------------\n",
    "\n",
    "form_item_layout = Layout(\n",
    "    display='flex',\n",
    "    flex_flow='row',\n",
    "    justify_content='space-between'\n",
    ")\n",
    "\n",
    "readdata_items = [\n",
    "    ipywidgets.Box([filename], layout=form_item_layout),\n",
    "    ipywidgets.Box([Em_range_display, Ex_range_display, crange_cw], layout=form_item_layout),\n",
    "#    ipywidgets.Box([scattering_correction, scattering_interpolation],layout=form_item_layout),\n",
    "    ipywidgets.Box([gaussian_smoothing, inner_filter_effect, scattering_correction],layout=form_item_layout),\n",
    "    ipywidgets.Box([contour_mask, title, plot_abs],layout=form_item_layout)\n",
    "]\n",
    "\n",
    "readdata = Box(readdata_items, layout=Layout(\n",
    "    display='flex',\n",
    "    flex_flow='column',\n",
    "    border='solid 2px',\n",
    "    align_items='stretch',\n",
    "    width='100%'\n",
    "))\n",
    "\n",
    "parameters_items = [\n",
    "    ipywidgets.Box([gaussian_sigma, gaussian_truncate]),\n",
    "    ipywidgets.Box([scattering_width, scattering_interpolation]),\n",
    "    ipywidgets.Box([contour_otsu, contour_binary_threshold])\n",
    "]\n",
    "\n",
    "parameters = Box(parameters_items, layout=Layout(\n",
    "    display='flex',\n",
    "    flex_flow='column',\n",
    "    border='solid 2px',\n",
    "    align_items='stretch',\n",
    "    width='100%'\n",
    "))\n",
    "\n",
    "tab = ipywidgets.Tab()\n",
    "tab.children=[readdata, parameters]\n",
    "tab.set_title(0, 'Read data')\n",
    "tab.set_title(1, 'Parameters')\n",
    "\n",
    "\n",
    "out_parameters = ipywidgets.interactive_output(plot3DEEM_interact,\n",
    "                                    {'filedir':filedir, 'filename':filename, 'autoscale':autoscale,\n",
    "                                     'crange':crange_cw, 'scattering_correction':scattering_correction, 'inner_filter_effect':inner_filter_effect,\n",
    "                                     'plot_abs':plot_abs, 'ABSxmax':ABSxmax, 'title':title, 'Em_range_display':Em_range_display,\n",
    "                                     'Ex_range_display':Ex_range_display, 'contour_mask':contour_mask, 'gaussian_smoothing':gaussian_smoothing,\n",
    "                                     'scattering_interpolation': scattering_interpolation,'sigma':gaussian_sigma,'truncate':gaussian_truncate,\n",
    "                                     'otsu':contour_otsu, 'binary_threshold':contour_binary_threshold, 'tolerance':scattering_width,\n",
    "                                     'ts_format':ts_format_plot, 'ts_start_position':ts_start_position_plot, 'ts_end_position':ts_end_position_plot\n",
    "                                                       })\n",
    "note_step2 = ipywidgets.VBox([ipywidgets.Label(value=\"If you see blank space in the short excitation wavelength region,\\\n",
    "it's likely that the inner filter effect is too strong.\"),\n",
    "                             ipywidgets.Label(value=\"Please consider adjust the excitation wavelength range.\")])\n",
    "\n",
    "display(tab, note_step2, out_parameters)\n"
   ]
  },
  {
   "cell_type": "markdown",
   "metadata": {},
   "source": [
    "----------------------------------------------------\n",
    "# 3. Stack data\n",
    "\n",
    "For further analysis, the parameters would be set according to the settings in the above interface!\n",
    "\n",
    "PLEASE CHECK THE SETTINGS before going-on!\n"
   ]
  },
  {
   "cell_type": "code",
   "execution_count": 15,
   "metadata": {},
   "outputs": [
    {
     "data": {
      "application/vnd.jupyter.widget-view+json": {
       "model_id": "142ff3bb73e747dbab95f8c6ccbaaebd",
       "version_major": 2,
       "version_minor": 0
      },
      "text/plain": [
       "Label(value='The stack includes all fluorescence data whose filename contains the specified keyword.')"
      ]
     },
     "metadata": {},
     "output_type": "display_data"
    },
    {
     "data": {
      "application/vnd.jupyter.widget-view+json": {
       "model_id": "01193c1638d8431b9d350b1a40400875",
       "version_major": 2,
       "version_minor": 0
      },
      "text/plain": [
       "interactive(children=(Text(value='PEM.dat', description='Filename searching keyword: ', style=DescriptionStyle…"
      ]
     },
     "metadata": {},
     "output_type": "display_data"
    }
   ],
   "source": [
    "#-------------------------Stack data------------------------------\n",
    "\n",
    "stacking_interact = interactive(\n",
    "                               load_EEMstack_interact,\n",
    "                               {'manual':True, 'manual_name':'Stack data'},\n",
    "                               filedir=ipywidgets.fixed(value=filedir.value), \n",
    "                               scattering_correction=ipywidgets.fixed(value=scattering_correction.value),\n",
    "                               Em_range_display=ipywidgets.fixed(value=Em_range_display.value),\n",
    "                               Ex_range_display=ipywidgets.fixed(value=Ex_range_display.value),\n",
    "                               gaussian_smoothing=ipywidgets.fixed(value=gaussian_smoothing.value),\n",
    "                               inner_filter_effect=ipywidgets.fixed(value=inner_filter_effect.value),\n",
    "                               sigma=ipywidgets.fixed(value=gaussian_sigma.value), \n",
    "                               truncate=ipywidgets.fixed(value=gaussian_truncate.value), \n",
    "                               otsu=ipywidgets.fixed(value=contour_otsu.value), \n",
    "                               binary_threshold=ipywidgets.fixed(value=contour_binary_threshold.value), \n",
    "                               tolerance=ipywidgets.fixed(value=scattering_width.value),\n",
    "                               scattering_interpolation=ipywidgets.fixed(value=scattering_interpolation.value),\n",
    "                               contour_mask=ipywidgets.fixed(value=contour_mask.value), \n",
    "                               keyword_pem=ipywidgets.Text(\n",
    "                                                           value='PEM.dat',\n",
    "                                                           style={'description_width': 'initial'},\n",
    "                                                           description='Filename searching keyword: '\n",
    "                                                           ),\n",
    "                               existing_datlist = ipywidgets.fixed(value=[])\n",
    "                               \n",
    "                               )\n",
    "\n",
    "caption = ipywidgets.Label(value='The stack includes all fluorescence data whose filename contains the specified keyword.')\n",
    "display(caption, stacking_interact)"
   ]
  },
  {
   "cell_type": "markdown",
   "metadata": {},
   "source": [
    "------------------------------------------\n",
    "# 4. Remove data from the data stack\n",
    "\n",
    "Please run the code block even if you don't want to do any operation here.\n",
    "\n",
    "Now the removal is done manually. Potential future updates would be automatic detection of abnormal data"
   ]
  },
  {
   "cell_type": "code",
   "execution_count": 16,
   "metadata": {
    "scrolled": true
   },
   "outputs": [
    {
     "data": {
      "application/vnd.jupyter.widget-view+json": {
       "model_id": "4abf31a480ff4869857225325d74a124",
       "version_major": 2,
       "version_minor": 0
      },
      "text/plain": [
       "Label(value='This block is used to remove specific data from the data stack. Please select the data you want t…"
      ]
     },
     "metadata": {},
     "output_type": "display_data"
    },
    {
     "data": {
      "application/vnd.jupyter.widget-view+json": {
       "model_id": "a4316e653cd5456fa73f3a6a7b8e1577",
       "version_major": 2,
       "version_minor": 0
      },
      "text/plain": [
       "Dropdown(layout=Layout(width='max-content'), options=('2021-11-09-11-51-19-B1C1S1M3R0PEM.dat', '2021-11-09-12-…"
      ]
     },
     "metadata": {},
     "output_type": "display_data"
    },
    {
     "data": {
      "application/vnd.jupyter.widget-view+json": {
       "model_id": "871e49e7dbaa4eddac180697782122d6",
       "version_major": 2,
       "version_minor": 0
      },
      "text/plain": [
       "Button(description='Remove data', style=ButtonStyle())"
      ]
     },
     "metadata": {},
     "output_type": "display_data"
    },
    {
     "data": {
      "application/vnd.jupyter.widget-view+json": {
       "model_id": "d933e77b7fe1433793f081c3e9183a0f",
       "version_major": 2,
       "version_minor": 0
      },
      "text/plain": [
       "Label(value=\"To reset the data stack to its original state: re-run the block. If you don't want to make any ch…"
      ]
     },
     "metadata": {},
     "output_type": "display_data"
    }
   ],
   "source": [
    "#------------------Remove specific data from the data stack-----------------\n",
    "\n",
    "EEMstack_all, Em_range_cw, Ex_range_cw, datlist_all = stacking_interact.result\n",
    "\n",
    "datlist_filtered = datlist_all[:]\n",
    "EEMstack_filtered = EEMstack_all[:,:,:]\n",
    "idx2remove = []\n",
    "filelist_preview = ipywidgets.Dropdown(options=datlist_all,\n",
    "#                                       description='List of files',\n",
    "                                       style={'description_width': 'initial'},\n",
    "                                       layout={'width':'max-content'})\n",
    "\n",
    "button_update = ipywidgets.Button(description=\"Remove data\")\n",
    "\n",
    "# button_reset = ipywidgets.Button(description=\"Reset data\")\n",
    "\n",
    "def update_filelist(*arg):\n",
    "    idx2remove.append(datlist_all.index(filelist_preview.value))\n",
    "    datlist_filtered.remove(filelist_preview.value)\n",
    "    \n",
    "button_update.on_click(update_filelist)\n",
    "caption = ipywidgets.Label('This block is used to remove specific data from the data stack. Please select the data you want to remove:')\n",
    "caption2 = ipywidgets.Label(\"To reset the data stack to its original state: re-run the block. If you don't want to make any changes here, please skip.\")\n",
    "display(caption, filelist_preview, button_update, caption2)\n"
   ]
  },
  {
   "cell_type": "markdown",
   "metadata": {},
   "source": [
    "-------------------------------------\n",
    "# 5. Data stack analysis"
   ]
  },
  {
   "cell_type": "code",
   "execution_count": 17,
   "metadata": {
    "scrolled": false
   },
   "outputs": [
    {
     "data": {
      "application/vnd.jupyter.widget-view+json": {
       "model_id": "9c07159f799e4b258b518632635c508f",
       "version_major": 2,
       "version_minor": 0
      },
      "text/plain": [
       "Output()"
      ]
     },
     "metadata": {},
     "output_type": "display_data"
    },
    {
     "data": {
      "application/vnd.jupyter.widget-view+json": {
       "model_id": "6723e6eede214cee9d1be244062862a8",
       "version_major": 2,
       "version_minor": 0
      },
      "text/plain": [
       "Tab(children=(Box(children=(Box(children=(Label(value='Select the range of data for further analysis'),)), Box…"
      ]
     },
     "metadata": {},
     "output_type": "display_data"
    }
   ],
   "source": [
    "%matplotlib inline\n",
    "#--------------------Data stack analysis---------------\n",
    "pd.set_option('display.max_rows', None)\n",
    "\n",
    "# Are there any changes in the last step?\n",
    "data_index_cw = []\n",
    "\n",
    "if datlist_filtered==datlist_all:\n",
    "    datlist_cw = datlist_all[:]\n",
    "    EEMstack_cw = EEMstack_all[:,:,:]\n",
    "else:\n",
    "    datlist_cw = datlist_filtered[:]\n",
    "    EEMstack_cw = np.delete(EEMstack_filtered, idx2remove, 0)\n",
    "    \n",
    "if ts_read_from_filename.value:\n",
    "    timestamps_cw = [get_TS_from_filename(dat, ts_format.value, ts_start_position.value-1, ts_end_position.value)\n",
    "                for dat in datlist_cw ]\n",
    "    timestamps_cw_sortidx = np.argsort(timestamps_cw)\n",
    "    timestamps_cw = [timestamps_cw[i] for i in timestamps_cw_sortidx]\n",
    "    datlist_cw = [datlist_cw[i] for i in timestamps_cw_sortidx]\n",
    "    EEMstack_cw = EEMstack_cw[timestamps_cw_sortidx]\n",
    "else:\n",
    "    data_index_cw = [file[:-4] for file in datlist_cw]\n",
    "    timestamps_cw = False\n",
    "\n",
    "#---------------Create widgets------------------------\n",
    "#----------------General widgets------------\n",
    "out = ipywidgets.Output()\n",
    "display(out)\n",
    "\n",
    "button_clear_display=ipywidgets.Button(description='Clear display')\n",
    "def clear_display_with_button(b):\n",
    "    clear_output()\n",
    "    display(tab)\n",
    "button_clear_display.on_click(clear_display_with_button)\n",
    "\n",
    "#-------Tab1: File range selection----------\n",
    "\n",
    "Part51_widgets = Widgets51(datlist_cw)\n",
    "data_range_items, range1, range2 = Part51_widgets.generate_widgets()\n",
    "\n",
    "data_range = Box(data_range_items, layout=Layout(display='flex', \n",
    "                                                 flex_flow='column', \n",
    "                                                 border='none', \n",
    "                                                 align_items='stretch', \n",
    "                                                 width='80%'))\n",
    "\n",
    "\n",
    "#-------Tab2: Pixel statistics------------------\n",
    "\n",
    "Part52_widgets = Widgets52(EEMstack_cw, datlist_cw, range1, range2, Em_range_cw, Ex_range_cw, timestamps_cw)\n",
    "pixel_statistics_items = Part52_widgets.generate_widgets()\n",
    "\n",
    "pixel_statistics_items.append(ipywidgets.Box([button_clear_display]))\n",
    "pixel_statistics = Box(pixel_statistics_items, layout=Layout(display='flex',\n",
    "                                                             flex_flow='column',\n",
    "                                                             border='none',\n",
    "                                                             align_items='stretch',\n",
    "                                                             width='100%'))\n",
    "\n",
    "#-------Tab3: EEM statistics---------\n",
    "\n",
    "Part53_widgets = Widgets53(EEMstack_cw, datlist_cw, range1, range2, Em_range_cw, Ex_range_cw, timestamps_cw, crange_cw)\n",
    "eem_statistics_items = Part53_widgets.generate_widgets()\n",
    "\n",
    "eem_statistics_items.append(ipywidgets.Box([button_clear_display]))\n",
    "\n",
    "eem_statistics = Box(eem_statistics_items, layout=Layout(display='flex',\n",
    "                                                         flex_flow='column',\n",
    "                                                         border='none',\n",
    "                                                         align_items='stretch',\n",
    "                                                         width='100%'))\n",
    "\n",
    "#-------Tab4: Region integration------------\n",
    "\n",
    "region_integration_items = [\n",
    "    ipywidgets.Box([Label(value='Under construction')]),\n",
    "    ipywidgets.Box([button_clear_display], layout=form_item_layout),\n",
    "]\n",
    "\n",
    "region_integration = Box(region_integration_items, layout=Layout(\n",
    "    display='flex',\n",
    "    flex_flow='column',\n",
    "    border='none',\n",
    "    align_items='stretch',\n",
    "    width='60%'\n",
    "))\n",
    "\n",
    "\n",
    "#-------Tab5: Stack decomposition----------\n",
    "\n",
    "Part55_widgets = Widgets55(data_index, data_index_cw, timestamps_cw, EEMstack_cw, datlist_cw, range1, \n",
    "                         range2, Em_range_cw, Ex_range_cw)\n",
    "\n",
    "decomposition_items = Part55_widgets.generate_widgets()\n",
    "\n",
    "decomposition = Box(decomposition_items, layout=Layout(\n",
    "    display='flex',\n",
    "    flex_flow='column',\n",
    "    border='none',\n",
    "    align_items='stretch',\n",
    "    width='100%'\n",
    "))\n",
    "\n",
    "\n",
    "# -------Tab6: Data reconstruction----------\n",
    "\n",
    "Part56_widgets = Widgets56(Part55_widgets.decomposition_method_list, Part55_widgets.rank_display, crange_cw, \n",
    "                           data_index, data_index_cw, timestamps_cw, EEMstack_cw, datlist_cw, range1, \n",
    "                           range2, Em_range_cw, Ex_range_cw)\n",
    "decomposition_reconstruction_items = Part56_widgets.generate_widgets()\n",
    "decomposition_reconstruction_items.append(ipywidgets.Box([button_clear_display]))\n",
    "\n",
    "decomposition_reconstruction = Box(decomposition_reconstruction_items, layout=Layout(\n",
    "    display='flex',\n",
    "    flex_flow='column',\n",
    "    border='none',\n",
    "    align_items='stretch',\n",
    "    width='80%'\n",
    "))\n",
    "\n",
    "# -----------------Assembly tabs-------------------\n",
    "\n",
    "tab = ipywidgets.Tab() \n",
    "tab.children=[data_range, pixel_statistics, eem_statistics, region_integration,\n",
    "              decomposition, decomposition_reconstruction]\n",
    "# tab2 = ipywidgets.Tab()\n",
    "# tab2.children = [decomposition_reconstruction]\n",
    "# tab.children=[data_range, pixel_statistics, eem_statistics, region_integration,\n",
    "#               decomposition, tab2]\n",
    "tab.set_title(0, '1. Data range selection')\n",
    "tab.set_title(1, '2. Pixel statistics')\n",
    "tab.set_title(2, '3. EEM statistics')\n",
    "tab.set_title(3, '4. Region integraion')\n",
    "tab.set_title(4, '5. Stack decomposition')\n",
    "tab.set_title(5, '6. Stack reconstruction')\n",
    "display(tab)"
   ]
  },
  {
   "cell_type": "markdown",
   "metadata": {},
   "source": [
    "# 6. Save PARAFAC result"
   ]
  },
  {
   "cell_type": "code",
   "execution_count": 8,
   "metadata": {},
   "outputs": [
    {
     "data": {
      "application/vnd.jupyter.widget-view+json": {
       "model_id": "ebd727056aa54e36be6f3d4301e16354",
       "version_major": 2,
       "version_minor": 0
      },
      "text/plain": [
       "Box(children=(Box(children=(Label(value='Mandatory fields are marked with *'),)), Box(children=(Text(value='C:…"
      ]
     },
     "metadata": {},
     "output_type": "display_data"
    }
   ],
   "source": [
    "parafac_table, J_df, K_df = Part55_widgets.button_decomposition_interact.result\n",
    "Part6_widgets = Widgets6(parafac_table, J_df, K_df, inner_filter_effect, scattering_correction, gaussian_smoothing, \n",
    "                         Part55_widgets.decomposition_method_list)\n",
    "output_items = Part6_widgets.generate_widgets()\n",
    "decomposition_output = Box(output_items, layout=Layout(\n",
    "    display='flex',\n",
    "    flex_flow='column',\n",
    "    border='none',\n",
    "    align_items='stretch',\n",
    "    width='80%'\n",
    "))\n",
    "display(decomposition_output)"
   ]
  },
  {
   "cell_type": "markdown",
   "metadata": {},
   "source": [
    "# Test"
   ]
  },
  {
   "cell_type": "code",
   "execution_count": 14,
   "metadata": {},
   "outputs": [
    {
     "data": {
      "text/plain": [
       "<matplotlib.image.AxesImage at 0x148db70bf40>"
      ]
     },
     "execution_count": 14,
     "metadata": {},
     "output_type": "execute_result"
    },
    {
     "data": {
      "image/png": "[encoded data removed]",
      "text/plain": [
       "<Figure size 432x288 with 1 Axes>"
      ]
     },
     "metadata": {
      "needs_background": "light"
     },
     "output_type": "display_data"
    }
   ],
   "source": [
    "test = np.flipud(np.array([J_df[0]]).T).dot(np.array([K_df[0]]))\n",
    "extent = [Em_range_cw.min(), Em_range_cw.max(), Ex_range_cw.min(), Ex_range_cw.max()]\n",
    "plt.imshow(test, cmap='jet', extent=extent)\n"
   ]
  },
  {
   "cell_type": "code",
   "execution_count": 13,
   "metadata": {},
   "outputs": [
    {
     "data": {
      "text/plain": [
       "array([[2.69149071e+00, 2.26612666e+00, 1.93107029e+00, 1.82272124e+00,\n",
       "        1.85726874e+00, 1.96157959e+00, 2.10291359e+00, 2.26344565e+00,\n",
       "        2.45071958e+00, 2.58833907e+00, 2.72921889e+00, 2.84673834e+00,\n",
       "        2.93659343e+00, 2.99144832e+00, 2.99663846e+00, 2.96412057e+00,\n",
       "        2.86241889e+00, 2.67850358e+00, 2.46081105e+00, 2.29001403e+00,\n",
       "        2.03355010e+00, 1.71072263e+00, 1.31963503e+00, 8.96175733e-01,\n",
       "        6.27497783e-01, 3.24607520e-01, 1.55716283e-01, 7.15513961e-02,\n",
       "        4.56015816e-02, 2.67269203e-02, 1.83361543e-02, 1.40878888e-02,\n",
       "        1.28840296e-02, 1.22589249e-02, 1.25432975e-02, 1.31856476e-02,\n",
       "        1.84894840e-02, 1.28408371e-02, 4.67761494e-03, 6.70074588e-04,\n",
       "        7.08528020e-05, 1.38950672e-05, 1.49537296e-06, 1.30361029e-07,\n",
       "        1.09102212e-08, 1.79656012e-09, 1.27298980e-10, 8.82236522e-12,\n",
       "        6.88134540e-13, 1.20493886e-13, 1.01132840e-14, 9.22691845e-16,\n",
       "        9.28249226e-17, 2.07732184e-17, 2.87634490e-18, 4.09033282e-19,\n",
       "        6.06204250e-20, 1.88628887e-20, 3.81001600e-21, 9.55009323e-22,\n",
       "        2.47294807e-22, 1.00463615e-22, 2.84559464e-23, 9.41758627e-24,\n",
       "        3.48227838e-24, 1.90910009e-24, 8.33145061e-25, 4.04367461e-25,\n",
       "        2.31159818e-25, 1.71949900e-25, 1.10080175e-25, 6.33513724e-26,\n",
       "        3.88319864e-26, 2.60898801e-26, 1.81373501e-26, 1.32067701e-26,\n",
       "        5.58736348e-27, 2.99546422e-27, 1.06264942e-27, 4.22467536e-28,\n",
       "        2.53603831e-28, 1.50384513e-28, 5.51907612e-29, 2.24639129e-29,\n",
       "        9.06039505e-30, 3.09017236e-30, 6.60880380e-31, 2.16523256e-31,\n",
       "        1.16779085e-31, 3.95047040e-32, 1.13873335e-32, 4.32173016e-33,\n",
       "        2.44191557e-33, 6.64368529e-34, 1.20522060e-34, 2.07765029e-35,\n",
       "        7.29278823e-36, 1.98543776e-36, 6.13976425e-37, 2.36635448e-37,\n",
       "        1.02943081e-37, 1.69230646e-38, 4.59415021e-39, 2.30002188e-39,\n",
       "        3.07539457e-40, 4.31925320e-40]])"
      ]
     },
     "execution_count": 13,
     "metadata": {},
     "output_type": "execute_result"
    }
   ],
   "source": [
    "np.array([J_df[0]])"
   ]
  }
 ],
 "metadata": {
  "hide_input": false,
  "kernelspec": {
   "display_name": "Python 3",
   "language": "python",
   "name": "python3"
  },
  "language_info": {
   "codemirror_mode": {
    "name": "ipython",
    "version": 3
   },
   "file_extension": ".py",
   "mimetype": "text/x-python",
   "name": "python",
   "nbconvert_exporter": "python",
   "pygments_lexer": "ipython3",
   "version": "3.8.8"
  }
 },
 "nbformat": 4,
 "nbformat_minor": 2
}
