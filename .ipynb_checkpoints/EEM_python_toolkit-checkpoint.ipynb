{
 "cells": [
  {
   "cell_type": "markdown",
   "metadata": {},
   "source": [
    "# Python toolkit for fluorescence data processing\n",
    "\n",
    "Author: Yongmin Hu (yongmin.hu@eawag.ch)\n",
    "\n",
    "Last update: 2023-04-07\n",
    "\n",
    "Before running the toolkit, please go through checklist_fluorescence_python_toolkit.doc.\n",
    "\n",
    "If you change the input in any of the code blocks, please re-run all blocks after."
   ]
  },
  {
   "cell_type": "markdown",
   "metadata": {},
   "source": [
    "# 0. Import packages"
   ]
  },
  {
   "cell_type": "code",
   "execution_count": 1,
   "metadata": {},
   "outputs": [],
   "source": [
    "import importlib\n",
    "\n",
    "try:\n",
    "    importlib.import_module('tensorly')\n",
    "    importlib.import_module('cv2')\n",
    "    importlib.import_module('ipywidgets')\n",
    "except ImportError:\n",
    "    !pip install tensorly\n",
    "    !pip install opencv-python\n",
    "    !pip install ipywidgets\n",
    "\n",
    "import matplotlib\n",
    "import os\n",
    "import numpy as np\n",
    "import matplotlib.pyplot as plt\n",
    "import re\n",
    "\n",
    "from datetime import datetime, timedelta, date\n",
    "from EEMprocessing import *\n",
    "from generate_widgets import *\n",
    "from ipywidgets import interact, interactive, interact_manual\n",
    "from ipywidgets import Layout, Button, Dropdown, Label, FloatText, Text, IntSlider, Checkbox, Box\n",
    "from IPython.display import display, clear_output\n",
    "from traitlets import traitlets\n",
    "\n",
    "\n",
    "matplotlib.rcParams['figure.dpi'] = 80\n"
   ]
  },
  {
   "cell_type": "markdown",
   "metadata": {},
   "source": [
    "-------------------------------------------\n",
    "# 1. Specify data directory and filename format"
   ]
  },
  {
   "cell_type": "code",
   "execution_count": 2,
   "metadata": {
    "scrolled": false
   },
   "outputs": [
    {
     "data": {
      "application/vnd.jupyter.widget-view+json": {
       "model_id": "c28f8b75d3a541748215db38645447d7",
       "version_major": 2,
       "version_minor": 0
      },
      "text/plain": [
       "Box(children=(VBox(children=(Label(value='Pleae specify the directory of fluorescence data in the text box bel…"
      ]
     },
     "metadata": {},
     "output_type": "display_data"
    }
   ],
   "source": [
    "# read all filenames in the target directory\n",
    "filedir_default = './sample_data' # Just the default, could be changed\n",
    "\n",
    "Part1_widgets = Widgets_read_data(filedir_default)\n",
    "data_selection = Part1_widgets.generate_widgets()\n",
    "display(data_selection)\n"
   ]
  },
  {
   "cell_type": "markdown",
   "metadata": {
    "hide_input": true
   },
   "source": [
    "-----------------------------------------\n",
    "# 2. Data preview and parameter selection"
   ]
  },
  {
   "cell_type": "code",
   "execution_count": 4,
   "metadata": {
    "scrolled": false
   },
   "outputs": [
    {
     "data": {
      "application/vnd.jupyter.widget-view+json": {
       "model_id": "264a6fc2184e4b99bcc19d9f20be347d",
       "version_major": 2,
       "version_minor": 0
      },
      "text/plain": [
       "Tab(children=(Box(children=(Box(children=(Dropdown(description='Filename', layout=Layout(width='max-content'),…"
      ]
     },
     "metadata": {},
     "output_type": "display_data"
    },
    {
     "data": {
      "application/vnd.jupyter.widget-view+json": {
       "model_id": "b3c1b457269e4477a4cd864cf1eb238d",
       "version_major": 2,
       "version_minor": 0
      },
      "text/plain": [
       "VBox(children=(Label(value=\"If you see blank space in the short excitation wavelength region, it's likely that…"
      ]
     },
     "metadata": {},
     "output_type": "display_data"
    },
    {
     "data": {
      "application/vnd.jupyter.widget-view+json": {
       "model_id": "a2522789f36e4974aaa423ebd48b1272",
       "version_major": 2,
       "version_minor": 0
      },
      "text/plain": [
       "Output()"
      ]
     },
     "metadata": {},
     "output_type": "display_data"
    }
   ],
   "source": [
    "%matplotlib inline\n",
    "\n",
    "# Visualization with interaction\n",
    "datdir = Part1_widgets.dir_selection.value\n",
    "filelist = os.listdir(datdir)\n",
    "datlist = [file for file in filelist if 'PEM.dat' in file]\n",
    "data_index = []\n",
    "if Part1_widgets.ts_read_from_filename.value:\n",
    "    tslist = [get_TS_from_filename(file, ts_format=Part1_widgets.ts_format.value, \n",
    "                                   ts_start_position=Part1_widgets.ts_start_position.value-1,\n",
    "                                   ts_end_position=Part1_widgets.ts_end_position.value) for file in datlist]\n",
    "    tslist_sortidx = np.argsort(tslist)\n",
    "    tslist_sorted = [tslist[i] for i in tslist_sortidx]\n",
    "    datlist = [datlist[i] for i in tslist_sortidx]\n",
    "else:\n",
    "    data_index = [file[:-4] for file in datlist]\n",
    "    \n",
    "# --------------Create widgets for plotting parameters-------------\n",
    "\n",
    "intensity_range = (0,1000,100) # (min, max, step）\n",
    "em_range = (280,600,2)\n",
    "ex_range = (250,400,2)\n",
    "\n",
    "ts_format = Part1_widgets.ts_format.value\n",
    "ts_start_position = Part1_widgets.ts_start_position.value\n",
    "ts_end_position = Part1_widgets.ts_end_position.value\n",
    "\n",
    "Part2and3_widgets = Widgets_create_stack(intensity_range, em_range, ex_range, datdir, datlist, ts_format, ts_start_position,\n",
    "                 ts_end_position)\n",
    "tab2, note_step2, out_parameters = Part2and3_widgets.generate_widgets()\n",
    "\n",
    "display(tab2, note_step2, out_parameters)\n"
   ]
  },
  {
   "cell_type": "markdown",
   "metadata": {},
   "source": [
    "----------------------------------------------------\n",
    "# 3. Stack data\n",
    "\n",
    "For further analysis, the parameters would be set according to the settings in the above interface!\n",
    "\n",
    "PLEASE CHECK THE SETTINGS before going-on!\n"
   ]
  },
  {
   "cell_type": "code",
   "execution_count": 9,
   "metadata": {},
   "outputs": [
    {
     "data": {
      "application/vnd.jupyter.widget-view+json": {
       "model_id": "3a158a0974c54253a627741482fa8751",
       "version_major": 2,
       "version_minor": 0
      },
      "text/plain": [
       "Label(value='The stack includes all fluorescence data whose filename contains the specified keyword.')"
      ]
     },
     "metadata": {},
     "output_type": "display_data"
    },
    {
     "data": {
      "application/vnd.jupyter.widget-view+json": {
       "model_id": "711a2eea71924c68b7c59321d44923ea",
       "version_major": 2,
       "version_minor": 0
      },
      "text/plain": [
       "interactive(children=(Text(value='PEM.dat', description='Filename searching keyword: ', style=DescriptionStyle…"
      ]
     },
     "metadata": {},
     "output_type": "display_data"
    }
   ],
   "source": [
    "#-------------------------Stack data------------------------------\n",
    "stacking_interact = Part2and3_widgets.generate_widgets2()\n",
    "caption = ipywidgets.Label(value='The stack includes all fluorescence data whose filename contains the specified keyword.')\n",
    "display(caption, stacking_interact)"
   ]
  },
  {
   "cell_type": "markdown",
   "metadata": {},
   "source": [
    "------------------------------------------\n",
    "# 4. Remove unwanted data from the data stack\n",
    "\n",
    "Please run the code block even if you don't want to do any operation here."
   ]
  },
  {
   "cell_type": "code",
   "execution_count": 7,
   "metadata": {
    "scrolled": false
   },
   "outputs": [
    {
     "data": {
      "application/vnd.jupyter.widget-view+json": {
       "model_id": "4d1ec7a89dab460599864656e35bc7db",
       "version_major": 2,
       "version_minor": 0
      },
      "text/plain": [
       "Label(value='This block is used to remove specific data from the data stack. Please select the data you want t…"
      ]
     },
     "metadata": {},
     "output_type": "display_data"
    },
    {
     "data": {
      "application/vnd.jupyter.widget-view+json": {
       "model_id": "db245faeb5ba43a19f8298cd6ead1a6d",
       "version_major": 2,
       "version_minor": 0
      },
      "text/plain": [
       "Tab(children=(Box(children=(Box(children=(Output(),), layout=Layout(display='flex', flex_flow='row', justify_c…"
      ]
     },
     "metadata": {},
     "output_type": "display_data"
    },
    {
     "data": {
      "application/vnd.jupyter.widget-view+json": {
       "model_id": "7f4e1ab2b31744fdbb2efe4b7be5eae6",
       "version_major": 2,
       "version_minor": 0
      },
      "text/plain": [
       "Label(value=\"To reset the data stack to its original state: re-run the block. If you don't want to make any ch…"
      ]
     },
     "metadata": {},
     "output_type": "display_data"
    }
   ],
   "source": [
    "#------------------Remove specific data from the data stack-----------------\n",
    "\n",
    "eem_stack_all, em_range_cw, ex_range_cw, datlist_all, abs_stack, ex_range_abs = stacking_interact.result\n",
    "\n",
    "Part4_widgets = Widgets_data_cleaning(eem_stack_all, datlist_all, em_range_cw, ex_range_cw, Part2and3_widgets.preview_parameter_dict)\n",
    "\n",
    "\n",
    "manual_detection = Part4_widgets.generate_widgets_1()\n",
    "\n",
    "# auto cleaning\n",
    "auto_detection = Part4_widgets.generate_widgets_2()\n",
    "\n",
    "artefact_imputing = Part4_widgets.generate_widgets_3()\n",
    "\n",
    "tab4 = ipywidgets.Tab()\n",
    "tab4.children = [manual_detection, auto_detection, artefact_imputing]\n",
    "tab4.set_title(0, 'Manual artefact detection')\n",
    "tab4.set_title(1, 'Auto artefact detection')\n",
    "tab4.set_title(2, 'Artefact imputing')\n",
    "\n",
    "\n",
    "caption = ipywidgets.Label(\n",
    "    'This block is used to remove specific data from the data stack. Please select the data you want to remove:')\n",
    "caption2 = ipywidgets.Label(\n",
    "    \"To reset the data stack to its original state: re-run the block. If you don't want to make any changes here,\"\n",
    "    \" please skip.\")\n",
    "\n",
    "display(caption, tab4, caption2)\n"
   ]
  },
  {
   "cell_type": "markdown",
   "metadata": {},
   "source": [
    "-------------------------------------\n",
    "# 5. Data stack analysis"
   ]
  },
  {
   "cell_type": "code",
   "execution_count": 1,
   "metadata": {
    "scrolled": false
   },
   "outputs": [
    {
     "ename": "NameError",
     "evalue": "name 'pd' is not defined",
     "output_type": "error",
     "traceback": [
      "\u001b[1;31m---------------------------------------------------------------------------\u001b[0m",
      "\u001b[1;31mNameError\u001b[0m                                 Traceback (most recent call last)",
      "\u001b[1;32m~\\AppData\\Local\\Temp\\ipykernel_964\\1772804069.py\u001b[0m in \u001b[0;36m<module>\u001b[1;34m\u001b[0m\n\u001b[0;32m      1\u001b[0m \u001b[0mget_ipython\u001b[0m\u001b[1;33m(\u001b[0m\u001b[1;33m)\u001b[0m\u001b[1;33m.\u001b[0m\u001b[0mrun_line_magic\u001b[0m\u001b[1;33m(\u001b[0m\u001b[1;34m'matplotlib'\u001b[0m\u001b[1;33m,\u001b[0m \u001b[1;34m'inline'\u001b[0m\u001b[1;33m)\u001b[0m\u001b[1;33m\u001b[0m\u001b[1;33m\u001b[0m\u001b[0m\n\u001b[0;32m      2\u001b[0m \u001b[1;31m#--------------------Data stack analysis---------------\u001b[0m\u001b[1;33m\u001b[0m\u001b[1;33m\u001b[0m\u001b[0m\n\u001b[1;32m----> 3\u001b[1;33m \u001b[0mpd\u001b[0m\u001b[1;33m.\u001b[0m\u001b[0mset_option\u001b[0m\u001b[1;33m(\u001b[0m\u001b[1;34m'display.max_rows'\u001b[0m\u001b[1;33m,\u001b[0m \u001b[1;32mNone\u001b[0m\u001b[1;33m)\u001b[0m\u001b[1;33m\u001b[0m\u001b[1;33m\u001b[0m\u001b[0m\n\u001b[0m\u001b[0;32m      4\u001b[0m \u001b[0mdatlist_filtered\u001b[0m \u001b[1;33m=\u001b[0m \u001b[0mPart4_widgets\u001b[0m\u001b[1;33m.\u001b[0m\u001b[0mdatlist_filtered\u001b[0m\u001b[1;33m\u001b[0m\u001b[1;33m\u001b[0m\u001b[0m\n\u001b[0;32m      5\u001b[0m \u001b[0midx2remove\u001b[0m \u001b[1;33m=\u001b[0m \u001b[0mPart4_widgets\u001b[0m\u001b[1;33m.\u001b[0m\u001b[0midx2remove\u001b[0m\u001b[1;33m\u001b[0m\u001b[1;33m\u001b[0m\u001b[0m\n",
      "\u001b[1;31mNameError\u001b[0m: name 'pd' is not defined"
     ]
    }
   ],
   "source": [
    "%matplotlib inline\n",
    "#--------------------Data stack analysis---------------\n",
    "pd.set_option('display.max_rows', None)\n",
    "datlist_filtered = Part4_widgets.datlist_filtered\n",
    "idx2remove = Part4_widgets.idx2remove\n",
    "\n",
    "# Update the eem_stack after artefact removal\n",
    "data_index_cw = []\n",
    "\n",
    "if datlist_filtered==datlist_all:\n",
    "    datlist_cw = datlist_all.copy()\n",
    "    eem_stack_cw = Part4_widgets.eem_stack_imputed.copy()\n",
    "else:\n",
    "    datlist_cw = datlist_filtered[:]\n",
    "    eem_stack_cw = np.delete(Part4_widgets.eem_stack_imputed, idx2remove, 0)\n",
    "    \n",
    "if Part1_widgets.ts_read_from_filename.value:\n",
    "    timestamps_cw = [get_TS_from_filename(dat, Part1_widgets.ts_format.value, \n",
    "                                          Part1_widgets.ts_start_position.value-1, \n",
    "                                          Part1_widgets.ts_end_position.value)\n",
    "                for dat in datlist_cw ]\n",
    "    timestamps_cw_sortidx = np.argsort(timestamps_cw)\n",
    "    timestamps_cw = [timestamps_cw[i] for i in timestamps_cw_sortidx]\n",
    "    datlist_cw = [datlist_cw[i] for i in timestamps_cw_sortidx]\n",
    "    eem_stack_cw = eem_stack_cw[timestamps_cw_sortidx]\n",
    "else:\n",
    "    data_index_cw = [file[:-4] for file in datlist_cw]\n",
    "    timestamps_cw = None\n",
    "\n",
    "#---------------Create widgets------------------------\n",
    "#----------------General widgets------------\n",
    "out = ipywidgets.Output()\n",
    "display(out)\n",
    "\n",
    "button_clear_display=ipywidgets.Button(description='Clear display')\n",
    "def clear_display_with_button(b):\n",
    "    clear_output()\n",
    "    display(tab)\n",
    "button_clear_display.on_click(clear_display_with_button)\n",
    "\n",
    "#-------Tab1: File range selection----------\n",
    "\n",
    "Part51_widgets = Widgets_stack_processing.Widgets_data_range(datlist_cw)\n",
    "data_range_items, range1, range2 = Part51_widgets.generate_widgets()\n",
    "\n",
    "data_range = Box(data_range_items,\n",
    "                 layout=Layout(display='flex', flex_flow='column', border='none', align_items='stretch', width='80%'))\n",
    "\n",
    "\n",
    "#-------Tab2: Pixel statistics------------------\n",
    "\n",
    "Part52_widgets = Widgets_stack_processing.Widgets_pixel_statistics(eem_stack_cw, datlist_cw, range1, range2, em_range_cw, ex_range_cw, timestamps_cw)\n",
    "pixel_statistics_items = Part52_widgets.generate_widgets()\n",
    "\n",
    "pixel_statistics_items.append(ipywidgets.Box([button_clear_display]))\n",
    "pixel_statistics = Box(pixel_statistics_items, \n",
    "                       layout=Layout(display='flex',flex_flow='column',border='none',align_items='stretch',width='100%'))\n",
    "\n",
    "#-------Tab3: EEM statistics---------\n",
    "\n",
    "Part53_widgets = Widgets_stack_processing.Widgets_eem_statistics(eem_stack_cw, datlist_cw, range1, range2, em_range_cw, ex_range_cw, timestamps_cw, \n",
    "                           Part2and3_widgets.crange_cw)\n",
    "eem_statistics_items = Part53_widgets.generate_widgets()\n",
    "\n",
    "eem_statistics_items.append(ipywidgets.Box([button_clear_display]))\n",
    "\n",
    "eem_statistics = Box(eem_statistics_items, \n",
    "                     layout=Layout(display='flex',flex_flow='column',border='none',align_items='stretch',width='100%'))\n",
    "\n",
    "#-------Tab4: Regional integration------------\n",
    "\n",
    "Part54_widgets = Widgets_stack_processing.Widgets_regional_integration(eem_stack_cw, datlist_cw, range1, range2, em_range_cw, ex_range_cw, timestamps_cw)\n",
    "\n",
    "integration_items = Part54_widgets.generate_widgets()\n",
    "integration_items.append(ipywidgets.Box([button_clear_display]))\n",
    "region_integration = Box(integration_items, \n",
    "                         layout=Layout(display='flex',flex_flow='column',border='none',align_items='stretch',width='60%'))\n",
    "\n",
    "\n",
    "#-------Tab5: PARAFAC----------\n",
    "\n",
    "Part55_widgets = Widgets_stack_processing.Widgets_decomposition(data_index, data_index_cw, timestamps_cw, eem_stack_cw, datlist_cw, range1, \n",
    "                         range2, em_range_cw, ex_range_cw)\n",
    "decomposition_items = Part55_widgets.generate_widgets()\n",
    "decomposition = Box(decomposition_items, \n",
    "                    layout=Layout(display='flex',flex_flow='column',border='none',align_items='stretch',width='100%'))\n",
    "\n",
    "Part56_widgets = Widgets_stack_processing.Widgets_nc_optimization(eem_stack_cw, Part55_widgets.decomposition_method_list,\n",
    "                                                                 Part55_widgets.init, Part55_widgets.dataset_normalization,\n",
    "                                                                 datlist_cw, range1, range2)\n",
    "nc_optimization_items = Part56_widgets.generate_widgets()\n",
    "nc_optimization_items.append(ipywidgets.Box([button_clear_display]))\n",
    "nc_optimization = Box(nc_optimization_items, \n",
    "                      layout=Layout(display='flex',flex_flow='column',border='none',align_items='stretch',width='80%'))\n",
    "\n",
    "\n",
    "Part57_widgets = Widgets_stack_processing.Widgets_reconstruction(Part55_widgets.decomposition_method_list, Part55_widgets.rank_display, Part55_widgets.init,\n",
    "                           Part2and3_widgets.crange_cw, data_index, data_index_cw, timestamps_cw, eem_stack_cw, \n",
    "                           datlist_cw, range1, range2, em_range_cw, ex_range_cw, Part55_widgets.dataset_normalization)\n",
    "\n",
    "reconstruction_items, pixel_error_interact = Part57_widgets.generate_widgets()\n",
    "reconstruction_items.append(ipywidgets.Box([button_clear_display]))\n",
    "# reconstruction_items.append(pixel_error_interact)\n",
    "reconstruction = Box(reconstruction_items, \n",
    "                     layout=Layout(display='flex',flex_flow='column',border='none',align_items='stretch',width='80%'))\n",
    "\n",
    "Part58_widgets = Widgets_stack_processing.Widgets_split_validation(eem_stack_cw, em_range_cw, ex_range_cw, Part55_widgets.rank_display, Part55_widgets.init,\n",
    "                           Part55_widgets.decomposition_method_list, datlist_cw, range1, range2,\n",
    "                           Part55_widgets.dataset_normalization)\n",
    "split_validation_items = Part58_widgets.generate_widgets()\n",
    "split_validation_items.append(ipywidgets.Box([button_clear_display]))\n",
    "split_validation = Box(split_validation_items, \n",
    "                   layout=Layout(display='flex',flex_flow='column',border='none',align_items='stretch',width='80%'))\n",
    "\n",
    "\n",
    "tab_parafac = ipywidgets.Tab()\n",
    "tab_parafac.children = [decomposition, nc_optimization, reconstruction, split_validation]\n",
    "tab_parafac.set_title(0, 'Decomposition')\n",
    "tab_parafac.set_title(1, 'Optimize N_components')\n",
    "tab_parafac.set_title(2, 'Reconstruction error')\n",
    "tab_parafac.set_title(3, 'Split validation')\n",
    "\n",
    "\n",
    "# -----------------Assembly tabs-------------------\n",
    "\n",
    "tab = ipywidgets.Tab() \n",
    "tab.children=[data_range, pixel_statistics, eem_statistics, region_integration, tab_parafac]\n",
    "\n",
    "tab.set_title(0, '1. Data range selection')\n",
    "tab.set_title(1, '2. Pixel statistics')\n",
    "tab.set_title(2, '3. EEM statistics')\n",
    "tab.set_title(3, '4. Region integraion')\n",
    "tab.set_title(4, '5. PARAFAC')\n",
    "tab.set_title(5, '6. PARAFAC reconstruction')\n",
    "display(tab, pixel_error_interact)"
   ]
  },
  {
   "cell_type": "markdown",
   "metadata": {},
   "source": [
    "# 6. Save PARAFAC result"
   ]
  },
  {
   "cell_type": "code",
   "execution_count": 13,
   "metadata": {},
   "outputs": [
    {
     "name": "stdout",
     "output_type": "stream",
     "text": [
      "No PARAFAC model found. Please conduct PARAFAC first.\n"
     ]
    }
   ],
   "source": [
    "try:\n",
    "    score_df, exl_df, eml_df, fmax_df = Part55_widgets.button_decomposition_interact.result\n",
    "\n",
    "    Part6_widgets = Widgets_export_parafac(score_df, exl_df, eml_df, Part1_widgets.dir_selection.value, Part2and3_widgets.inner_filter_effect, \n",
    "                         Part2and3_widgets.raman_scattering_correction, Part2and3_widgets.rayleigh_scattering_correction,\n",
    "                         Part2and3_widgets.gaussian_smoothing, \n",
    "                         Part55_widgets.decomposition_method_list, Part55_widgets.dataset_normalization)\n",
    "    output_items = Part6_widgets.generate_widgets()\n",
    "    decomposition_output = Box(output_items, layout=Layout(\n",
    "        display='flex',\n",
    "        flex_flow='column',\n",
    "        border='none',\n",
    "        align_items='stretch',\n",
    "        width='80%'\n",
    "    ))\n",
    "    display(decomposition_output)\n",
    "except TypeError:\n",
    "    print('No PARAFAC model found. Please conduct PARAFAC first.')"
   ]
  },
  {
   "cell_type": "code",
   "execution_count": null,
   "metadata": {},
   "outputs": [],
   "source": []
  }
 ],
 "metadata": {
  "hide_input": false,
  "kernelspec": {
   "display_name": "Python 3 (ipykernel)",
   "language": "python",
   "name": "python3"
  },
  "language_info": {
   "codemirror_mode": {
    "name": "ipython",
    "version": 3
   },
   "file_extension": ".py",
   "mimetype": "text/x-python",
   "name": "python",
   "nbconvert_exporter": "python",
   "pygments_lexer": "ipython3",
   "version": "3.9.13"
  }
 },
 "nbformat": 4,
 "nbformat_minor": 2
}
